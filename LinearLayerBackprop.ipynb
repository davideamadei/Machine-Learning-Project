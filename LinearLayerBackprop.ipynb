{
 "cells": [
  {
   "cell_type": "code",
   "execution_count": 1,
   "id": "68552ed8-ef69-4dce-8c59-41aab7bbc3d4",
   "metadata": {},
   "outputs": [],
   "source": [
    "import numpy as np\n",
    "import torch"
   ]
  },
  {
   "cell_type": "code",
   "execution_count": 2,
   "id": "be6f3fef-8df6-4355-898c-10024f17b4a6",
   "metadata": {},
   "outputs": [],
   "source": [
    "net = torch.nn.Sequential(torch.nn.Linear(10, 2))\n",
    "loss_fn = torch.nn.MSELoss()"
   ]
  },
  {
   "cell_type": "code",
   "execution_count": 3,
   "id": "b9183e16-4d4c-46b1-9d5b-79672cb20142",
   "metadata": {},
   "outputs": [],
   "source": [
    "inputs = torch.rand(8, 10, requires_grad=True)\n",
    "labels = torch.rand(8, 2)"
   ]
  },
  {
   "cell_type": "code",
   "execution_count": 4,
   "id": "ae231c32-7e71-4b2e-ae80-52d67ae9e704",
   "metadata": {},
   "outputs": [],
   "source": [
    "pred = net(inputs)"
   ]
  },
  {
   "cell_type": "code",
   "execution_count": 5,
   "id": "467f0ca9-bae7-4931-ac5e-a606a4931ab7",
   "metadata": {},
   "outputs": [
    {
     "data": {
      "text/plain": [
       "tensor([[ 0.4475,  0.0480],\n",
       "        [ 0.4079,  0.1346],\n",
       "        [ 0.3011, -0.2467],\n",
       "        [ 0.5357, -0.3975],\n",
       "        [ 0.3444, -0.3308],\n",
       "        [ 0.2294,  0.0210],\n",
       "        [ 0.3813, -0.4777],\n",
       "        [ 0.2035, -0.0367]], grad_fn=<AddmmBackward0>)"
      ]
     },
     "execution_count": 5,
     "metadata": {},
     "output_type": "execute_result"
    }
   ],
   "source": [
    "pred"
   ]
  },
  {
   "cell_type": "code",
   "execution_count": 6,
   "id": "d2ad284d-05cc-46e6-9a66-13a25020b711",
   "metadata": {},
   "outputs": [],
   "source": [
    "loss = loss_fn(pred, labels)\n",
    "loss.backward()"
   ]
  },
  {
   "cell_type": "code",
   "execution_count": 7,
   "id": "afea065e-8611-4b39-aed7-62522d8077d5",
   "metadata": {},
   "outputs": [
    {
     "data": {
      "text/plain": [
       "tensor(0.4651, grad_fn=<MseLossBackward0>)"
      ]
     },
     "execution_count": 7,
     "metadata": {},
     "output_type": "execute_result"
    }
   ],
   "source": [
    "loss"
   ]
  },
  {
   "cell_type": "code",
   "execution_count": 8,
   "id": "18eb2011-1dcc-4196-b34f-458528e1af0f",
   "metadata": {},
   "outputs": [],
   "source": [
    "class NeuralLayer:\n",
    "    @staticmethod\n",
    "    def get_activation_function(name):\n",
    "        if name == \"ReLU\":\n",
    "            return (\n",
    "                lambda x: x * (x > 0),  # function\n",
    "                lambda x: 1 * (x > 0),  # gradient\n",
    "            )\n",
    "        if name == \"None\":\n",
    "            return (lambda x: x, lambda x: 1)\n",
    "        else:\n",
    "            raise ValueError(f\"Invalid Activation Function: {name}\")\n",
    "\n",
    "    def __init__(self, shape, activation_function=\"ReLU\"):\n",
    "        self.weights = np.random.rand(*shape[::-1])\n",
    "        self.bias = np.random.rand(shape[1])\n",
    "        self.activation, self.activation_gradient = NeuralLayer.get_activation_function(\n",
    "            activation_function\n",
    "        )\n",
    "        self.weights_gradient = np.empty(shape[::-1])\n",
    "        self.bias_gradient = np.empty(shape[1])\n",
    "        # self.momentum = get_momentum_function(momentum)\n",
    "        # self.regularization = get_regularization_function(regularization)\n",
    "\n",
    "    def __call__(self, data):\n",
    "        self.input_buffer = data\n",
    "        output = data @ self.weights.T + self.bias.T\n",
    "        return self.activation(output)\n",
    "\n",
    "    def backward(self, output_gradient):\n",
    "        self.bias_gradient[:] = output_gradient.sum(axis=0)\n",
    "        self.weights_gradient[:] = output_gradient.T @ self.input_buffer\n",
    "        input_gradient = output_gradient @ self.weights\n",
    "        return input_gradient\n",
    "\n",
    "    def update_weights(self):\n",
    "        pass\n",
    "\n",
    "    def zero_gradient(self):\n",
    "        self.bias_gradient[:] = 0\n",
    "        self.weights_gradient[:] = 0\n",
    "        self.output_buffer = None"
   ]
  },
  {
   "cell_type": "code",
   "execution_count": 9,
   "id": "b0f5973c-17b2-449b-b8a5-dfc2ff2548cc",
   "metadata": {},
   "outputs": [],
   "source": [
    "mynet = NeuralLayer((10, 2), activation_function=\"None\")"
   ]
  },
  {
   "cell_type": "code",
   "execution_count": 10,
   "id": "2d25658d-168d-46f5-a1be-871c53ae8e97",
   "metadata": {},
   "outputs": [],
   "source": [
    "mynet.weights[:] = net[0].weight.detach().numpy()\n",
    "mynet.bias[:] = net[0].bias.detach().numpy()\n",
    "myinputs = inputs.detach().numpy()\n",
    "mylabels = labels.numpy()\n",
    "myloss_fn = lambda pred, labels: 1 / (2 * pred.shape[0]) * np.sum((labels - pred) ** 2)\n",
    "myloss_grad = lambda pred, labels: 1 / pred.shape[0] * (pred - labels)"
   ]
  },
  {
   "cell_type": "code",
   "execution_count": 11,
   "id": "7cce94f0-6fbd-476b-9794-033bb6ef2959",
   "metadata": {},
   "outputs": [],
   "source": [
    "mypred = mynet(myinputs)"
   ]
  },
  {
   "cell_type": "code",
   "execution_count": 12,
   "id": "f0e8af72-8586-42fc-896d-e1227ab4ed36",
   "metadata": {},
   "outputs": [],
   "source": [
    "mybackward = mynet.backward(myloss_grad(mypred, mylabels))"
   ]
  },
  {
   "cell_type": "markdown",
   "id": "a3df6803-31fc-4720-b679-89bae6696abb",
   "metadata": {},
   "source": [
    "### $\\frac{\\partial L}{\\partial b^L}$"
   ]
  },
  {
   "cell_type": "code",
   "execution_count": 13,
   "id": "41ad3b9e-a96b-4c9a-b813-12a5042016b5",
   "metadata": {},
   "outputs": [
    {
     "data": {
      "text/plain": [
       "tensor([ 0.0743, -0.8501])"
      ]
     },
     "execution_count": 13,
     "metadata": {},
     "output_type": "execute_result"
    }
   ],
   "source": [
    "net[0].bias.grad"
   ]
  },
  {
   "cell_type": "code",
   "execution_count": 14,
   "id": "9ce7b432-d094-4e61-a5f0-ee1675d97a03",
   "metadata": {},
   "outputs": [
    {
     "data": {
      "text/plain": [
       "array([ 0.07430577, -0.85012491])"
      ]
     },
     "execution_count": 14,
     "metadata": {},
     "output_type": "execute_result"
    }
   ],
   "source": [
    "mynet.bias_gradient"
   ]
  },
  {
   "cell_type": "code",
   "execution_count": 15,
   "id": "b4f5436a-06fd-4e20-b53f-b6b82ac5eb9d",
   "metadata": {},
   "outputs": [
    {
     "data": {
      "text/plain": [
       "True"
      ]
     },
     "execution_count": 15,
     "metadata": {},
     "output_type": "execute_result"
    }
   ],
   "source": [
    "np.allclose(net[0].bias.grad, mynet.bias_gradient)"
   ]
  },
  {
   "cell_type": "markdown",
   "id": "f330f869-a568-4510-a9c8-f2b235aa119d",
   "metadata": {},
   "source": [
    "### $\\frac{\\partial L}{\\partial W^L}$"
   ]
  },
  {
   "cell_type": "code",
   "execution_count": 16,
   "id": "8f263b4c-b477-4f6f-91fd-080175f51424",
   "metadata": {},
   "outputs": [
    {
     "data": {
      "text/plain": [
       "tensor([[ 0.0148, -0.0133,  0.0219,  0.0349,  0.0056,  0.0392,  0.0823,  0.0590,\n",
       "          0.0573,  0.0581],\n",
       "        [-0.3811, -0.3896, -0.1694, -0.5736, -0.3210, -0.5264, -0.4577, -0.5850,\n",
       "         -0.5833, -0.3715]])"
      ]
     },
     "execution_count": 16,
     "metadata": {},
     "output_type": "execute_result"
    }
   ],
   "source": [
    "net[0].weight.grad"
   ]
  },
  {
   "cell_type": "code",
   "execution_count": 17,
   "id": "7981858d-9325-4979-ac05-3809cd7e5e8a",
   "metadata": {},
   "outputs": [
    {
     "data": {
      "text/plain": [
       "array([[ 0.01478988, -0.01328581,  0.02185604,  0.03489794,  0.00556204,\n",
       "         0.03922273,  0.0822954 ,  0.05895532,  0.05734129,  0.058073  ],\n",
       "       [-0.38112705, -0.38959436, -0.16942462, -0.57362658, -0.32099691,\n",
       "        -0.52636526, -0.45766078, -0.58502152, -0.58333836, -0.37150585]])"
      ]
     },
     "execution_count": 17,
     "metadata": {},
     "output_type": "execute_result"
    }
   ],
   "source": [
    "mynet.weights_gradient"
   ]
  },
  {
   "cell_type": "code",
   "execution_count": 18,
   "id": "88263c66-e4b3-4db3-82d3-54489123845a",
   "metadata": {},
   "outputs": [
    {
     "data": {
      "text/plain": [
       "True"
      ]
     },
     "execution_count": 18,
     "metadata": {},
     "output_type": "execute_result"
    }
   ],
   "source": [
    "np.allclose(net[0].weight.grad, mynet.weights_gradient)"
   ]
  },
  {
   "cell_type": "markdown",
   "id": "79eeb496-1021-48be-aa6b-d5a16d1aece8",
   "metadata": {},
   "source": [
    "### $\\frac{\\partial L}{\\partial o^{[L-1]}}$"
   ]
  },
  {
   "cell_type": "code",
   "execution_count": 19,
   "id": "cf4fa56f-1ee1-4c3d-97f3-8bd0e8faf240",
   "metadata": {},
   "outputs": [
    {
     "data": {
      "text/plain": [
       "tensor([[ 3.3835e-02, -3.0327e-02, -1.3513e-02, -9.9635e-03,  1.4540e-02,\n",
       "          2.4095e-02,  1.7294e-03, -1.6324e-03,  3.2671e-02, -3.3544e-02],\n",
       "        [ 3.0534e-02, -2.6590e-02, -1.1586e-02, -6.9888e-03,  1.2372e-02,\n",
       "          1.8936e-02,  3.4274e-03, -1.8047e-03,  2.7572e-02, -2.8463e-02],\n",
       "        [ 2.7289e-02, -3.0793e-02, -1.5853e-02, -2.4326e-02,  1.7820e-02,\n",
       "          4.2274e-02, -1.3788e-02,  1.3797e-03,  4.1903e-02, -4.1766e-02],\n",
       "        [ 1.1901e-02, -1.4558e-02, -7.7970e-03, -1.3514e-02,  8.8579e-03,\n",
       "          2.2509e-02, -8.7205e-03,  1.0825e-03,  2.1047e-02, -2.0838e-02],\n",
       "        [ 3.1265e-02, -3.2798e-02, -1.6222e-02, -2.1489e-02,  1.8029e-02,\n",
       "          3.9486e-02, -9.8492e-03,  5.2450e-04,  4.1915e-02, -4.2088e-02],\n",
       "        [-1.4568e-02,  4.9667e-03, -5.1166e-04, -1.6524e-02,  1.5249e-03,\n",
       "          1.8809e-02, -2.0144e-02,  4.1479e-03,  5.8038e-03, -4.3545e-03],\n",
       "        [ 4.1031e-02, -4.1469e-02, -2.0058e-02, -2.4151e-02,  2.2146e-02,\n",
       "          4.6141e-02, -9.1509e-03,  1.7951e-05,  5.1142e-02, -5.1577e-02],\n",
       "        [ 3.0658e-02, -3.1492e-02, -1.5384e-02, -1.9350e-02,  1.7035e-02,\n",
       "          3.6305e-02, -8.0535e-03,  2.2939e-04,  3.9458e-02, -3.9716e-02]])"
      ]
     },
     "execution_count": 19,
     "metadata": {},
     "output_type": "execute_result"
    }
   ],
   "source": [
    "inputs.grad"
   ]
  },
  {
   "cell_type": "code",
   "execution_count": 20,
   "id": "b1fb6b0c-6b28-4647-aa42-2847152a7735",
   "metadata": {},
   "outputs": [
    {
     "data": {
      "text/plain": [
       "array([[ 3.38347787e-02, -3.03271337e-02, -1.35132706e-02,\n",
       "        -9.96354602e-03,  1.45398845e-02,  2.40947459e-02,\n",
       "         1.72939233e-03, -1.63240071e-03,  3.26714022e-02,\n",
       "        -3.35436006e-02],\n",
       "       [ 3.05344453e-02, -2.65903691e-02, -1.15860420e-02,\n",
       "        -6.98883274e-03,  1.23724881e-02,  1.89362825e-02,\n",
       "         3.42736876e-03, -1.80467297e-03,  2.75724619e-02,\n",
       "        -2.84629042e-02],\n",
       "       [ 2.72892517e-02, -3.07927155e-02, -1.58532281e-02,\n",
       "        -2.43261306e-02,  1.78201623e-02,  4.22739179e-02,\n",
       "        -1.37876645e-02,  1.37965361e-03,  4.19028534e-02,\n",
       "        -4.17659656e-02],\n",
       "       [ 1.19004995e-02, -1.45577665e-02, -7.79700408e-03,\n",
       "        -1.35137671e-02,  8.85789426e-03,  2.25088701e-02,\n",
       "        -8.72052803e-03,  1.08254532e-03,  2.10470970e-02,\n",
       "        -2.08375190e-02],\n",
       "       [ 3.12646330e-02, -3.27979900e-02, -1.62220906e-02,\n",
       "        -2.14889723e-02,  1.80294386e-02,  3.94855224e-02,\n",
       "        -9.84915527e-03,  5.24502185e-04,  4.19153412e-02,\n",
       "        -4.20876820e-02],\n",
       "       [-1.45682784e-02,  4.96673186e-03, -5.11662997e-04,\n",
       "        -1.65242823e-02,  1.52486825e-03,  1.88093558e-02,\n",
       "        -2.01437227e-02,  4.14794727e-03,  5.80375291e-03,\n",
       "        -4.35446513e-03],\n",
       "       [ 4.10310483e-02, -4.14688795e-02, -2.00577309e-02,\n",
       "        -2.41513273e-02,  2.21464756e-02,  4.61409512e-02,\n",
       "        -9.15086610e-03,  1.79513151e-05,  5.11420034e-02,\n",
       "        -5.15771247e-02],\n",
       "       [ 3.06575335e-02, -3.14919302e-02, -1.53835602e-02,\n",
       "        -1.93502557e-02,  1.70354580e-02,  3.63051445e-02,\n",
       "        -8.05350550e-03,  2.29392550e-04,  3.94579892e-02,\n",
       "        -3.97157873e-02]])"
      ]
     },
     "execution_count": 20,
     "metadata": {},
     "output_type": "execute_result"
    }
   ],
   "source": [
    "mybackward"
   ]
  },
  {
   "cell_type": "code",
   "execution_count": 21,
   "id": "fe346627-d273-4033-adf7-0e63128cd1c6",
   "metadata": {},
   "outputs": [
    {
     "data": {
      "text/plain": [
       "True"
      ]
     },
     "execution_count": 21,
     "metadata": {},
     "output_type": "execute_result"
    }
   ],
   "source": [
    "np.allclose(inputs.grad, mybackward)"
   ]
  }
 ],
 "metadata": {
  "kernelspec": {
   "display_name": "ML",
   "language": "python",
   "name": "python3"
  },
  "language_info": {
   "codemirror_mode": {
    "name": "ipython",
    "version": 3
   },
   "file_extension": ".py",
   "mimetype": "text/x-python",
   "name": "python",
   "nbconvert_exporter": "python",
   "pygments_lexer": "ipython3",
   "version": "3.10.8 | packaged by conda-forge | (main, Nov 22 2022, 08:26:04) [GCC 10.4.0]"
  },
  "vscode": {
   "interpreter": {
    "hash": "29308c18330174df5d08dc27cbd59630723a13c381a5b5f57befcdc7a6962bd9"
   }
  }
 },
 "nbformat": 4,
 "nbformat_minor": 5
}
