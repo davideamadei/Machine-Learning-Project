{
 "cells": [
  {
   "cell_type": "code",
   "execution_count": 1,
   "id": "68552ed8-ef69-4dce-8c59-41aab7bbc3d4",
   "metadata": {},
   "outputs": [],
   "source": [
    "import numpy as np\n",
    "import torch"
   ]
  },
  {
   "cell_type": "code",
   "execution_count": 2,
   "id": "be6f3fef-8df6-4355-898c-10024f17b4a6",
   "metadata": {},
   "outputs": [],
   "source": [
    "net = torch.nn.Sequential(\n",
    "    torch.nn.Linear(10, 2)\n",
    ")\n",
    "loss_fn = torch.nn.MSELoss()"
   ]
  },
  {
   "cell_type": "code",
   "execution_count": 3,
   "id": "b9183e16-4d4c-46b1-9d5b-79672cb20142",
   "metadata": {},
   "outputs": [],
   "source": [
    "inputs = torch.rand(8, 10, requires_grad=True)\n",
    "labels = torch.rand(8, 2)"
   ]
  },
  {
   "cell_type": "code",
   "execution_count": 4,
   "id": "ae231c32-7e71-4b2e-ae80-52d67ae9e704",
   "metadata": {},
   "outputs": [],
   "source": [
    "pred = net(inputs)"
   ]
  },
  {
   "cell_type": "code",
   "execution_count": 5,
   "id": "467f0ca9-bae7-4931-ac5e-a606a4931ab7",
   "metadata": {},
   "outputs": [
    {
     "data": {
      "text/plain": [
       "tensor([[ 3.8142e-02, -2.4399e-01],\n",
       "        [-1.5580e-01, -4.1225e-01],\n",
       "        [ 3.2097e-01, -5.1974e-01],\n",
       "        [-1.6614e-02, -2.4831e-01],\n",
       "        [-5.6091e-04, -5.4096e-01],\n",
       "        [ 7.7815e-02, -6.8261e-01],\n",
       "        [-5.6924e-03, -2.7929e-01],\n",
       "        [-9.4297e-02, -3.3948e-01]], grad_fn=<AddmmBackward0>)"
      ]
     },
     "execution_count": 5,
     "metadata": {},
     "output_type": "execute_result"
    }
   ],
   "source": [
    "pred"
   ]
  },
  {
   "cell_type": "code",
   "execution_count": 6,
   "id": "d2ad284d-05cc-46e6-9a66-13a25020b711",
   "metadata": {},
   "outputs": [],
   "source": [
    "loss = loss_fn(pred, labels)\n",
    "loss.backward()"
   ]
  },
  {
   "cell_type": "code",
   "execution_count": 7,
   "id": "afea065e-8611-4b39-aed7-62522d8077d5",
   "metadata": {},
   "outputs": [
    {
     "data": {
      "text/plain": [
       "tensor(0.6876, grad_fn=<MseLossBackward0>)"
      ]
     },
     "execution_count": 7,
     "metadata": {},
     "output_type": "execute_result"
    }
   ],
   "source": [
    "loss"
   ]
  },
  {
   "cell_type": "code",
   "execution_count": 8,
   "id": "85b4ce57-e279-4526-8db3-fab9c8c7bb55",
   "metadata": {},
   "outputs": [],
   "source": [
    "class NeuralLayer:\n",
    "    @staticmethod\n",
    "    def get_activation_function(name):\n",
    "        if name == \"ReLU\":\n",
    "            return (\n",
    "                lambda x: x*(x>0), # function\n",
    "                lambda x: 1*(x>0) # gradient\n",
    "            )\n",
    "        if name == \"None\":\n",
    "            return (\n",
    "                lambda x: x,\n",
    "                lambda x: 1\n",
    "            )\n",
    "        else:\n",
    "            raise ValueError(f\"Invalid Activation Function: {name}\")\n",
    "    \n",
    "    def __init__(\n",
    "        self, \n",
    "        shape, \n",
    "        activation_function = \"ReLU\"\n",
    "    ):\n",
    "        self.weights = np.random.rand(*shape[::-1])\n",
    "        self.bias = np.random.rand(shape[1])\n",
    "        self.activation, self.activation_gradient = NeuralLayer.get_activation_function(activation_function)\n",
    "        self.weights_gradient = np.empty(shape[::-1])\n",
    "        self.bias_gradient = np.empty(shape[1])\n",
    "        # self.momentum = get_momentum_function(momentum)\n",
    "        # self.regularization = get_regularization_function(regularization)\n",
    "        \n",
    "    def __call__(self, data):\n",
    "        self.input_buffer = data\n",
    "        output = data @ self.weights.T + self.bias.T\n",
    "        return self.activation(output)\n",
    "    \n",
    "    def backward(self, output_gradient):\n",
    "        self.bias_gradient[:] = output_gradient.sum(axis=0)\n",
    "        self.weights_gradient[:] = output_gradient.T @ self.input_buffer\n",
    "        input_gradient = (output_gradient @ self.weights)\n",
    "        return input_gradient\n",
    "        \n",
    "    def update_weights(self):\n",
    "        pass\n",
    "    \n",
    "    def zero_gradient(self):\n",
    "        self.bias_gradient[:] = 0\n",
    "        self.weights_gradient[:] = 0\n",
    "        self.output_buffer = None"
   ]
  },
  {
   "cell_type": "code",
   "execution_count": 9,
   "id": "b0f5973c-17b2-449b-b8a5-dfc2ff2548cc",
   "metadata": {},
   "outputs": [],
   "source": [
    "mynet = NeuralLayer((10,2), activation_function=\"None\")"
   ]
  },
  {
   "cell_type": "code",
   "execution_count": 10,
   "id": "2d25658d-168d-46f5-a1be-871c53ae8e97",
   "metadata": {},
   "outputs": [],
   "source": [
    "mynet.weights[:] = net[0].weight.detach().numpy()\n",
    "mynet.bias[:] = net[0].bias.detach().numpy()\n",
    "myinputs = inputs.detach().numpy()\n",
    "mylabels = labels.numpy()\n",
    "myloss_fn = lambda pred, labels: 1/(2*pred.shape[0]) * np.sum((labels - pred)**2)\n",
    "myloss_grad = lambda pred, labels: 1/pred.shape[0] * (pred - labels)"
   ]
  },
  {
   "cell_type": "code",
   "execution_count": 11,
   "id": "7cce94f0-6fbd-476b-9794-033bb6ef2959",
   "metadata": {},
   "outputs": [],
   "source": [
    "mypred = mynet(myinputs)"
   ]
  },
  {
   "cell_type": "code",
   "execution_count": 12,
   "id": "f0e8af72-8586-42fc-896d-e1227ab4ed36",
   "metadata": {},
   "outputs": [],
   "source": [
    "mybackward = mynet.backward(myloss_grad(mypred, mylabels))"
   ]
  },
  {
   "cell_type": "markdown",
   "id": "a3df6803-31fc-4720-b679-89bae6696abb",
   "metadata": {},
   "source": [
    "### $\\frac{\\partial L}{\\partial b^L}$"
   ]
  },
  {
   "cell_type": "code",
   "execution_count": 13,
   "id": "41ad3b9e-a96b-4c9a-b813-12a5042016b5",
   "metadata": {},
   "outputs": [
    {
     "data": {
      "text/plain": [
       "tensor([-0.5990, -0.9434])"
      ]
     },
     "execution_count": 13,
     "metadata": {},
     "output_type": "execute_result"
    }
   ],
   "source": [
    "net[0].bias.grad"
   ]
  },
  {
   "cell_type": "code",
   "execution_count": 14,
   "id": "9ce7b432-d094-4e61-a5f0-ee1675d97a03",
   "metadata": {},
   "outputs": [
    {
     "data": {
      "text/plain": [
       "array([-0.5989859 , -0.94335283])"
      ]
     },
     "execution_count": 14,
     "metadata": {},
     "output_type": "execute_result"
    }
   ],
   "source": [
    "mynet.bias_gradient"
   ]
  },
  {
   "cell_type": "code",
   "execution_count": 15,
   "id": "b4f5436a-06fd-4e20-b53f-b6b82ac5eb9d",
   "metadata": {},
   "outputs": [
    {
     "data": {
      "text/plain": [
       "True"
      ]
     },
     "execution_count": 15,
     "metadata": {},
     "output_type": "execute_result"
    }
   ],
   "source": [
    "np.allclose(net[0].bias.grad, mynet.bias_gradient)"
   ]
  },
  {
   "cell_type": "markdown",
   "id": "f330f869-a568-4510-a9c8-f2b235aa119d",
   "metadata": {},
   "source": [
    "### $\\frac{\\partial L}{\\partial W^L}$"
   ]
  },
  {
   "cell_type": "code",
   "execution_count": 16,
   "id": "8f263b4c-b477-4f6f-91fd-080175f51424",
   "metadata": {},
   "outputs": [
    {
     "data": {
      "text/plain": [
       "tensor([[-0.3721, -0.2844, -0.2841, -0.2399, -0.3206, -0.2928, -0.2848, -0.2797,\n",
       "         -0.2468, -0.2210],\n",
       "        [-0.5271, -0.3468, -0.4427, -0.3693, -0.4416, -0.5012, -0.4793, -0.4558,\n",
       "         -0.3706, -0.4056]])"
      ]
     },
     "execution_count": 16,
     "metadata": {},
     "output_type": "execute_result"
    }
   ],
   "source": [
    "net[0].weight.grad"
   ]
  },
  {
   "cell_type": "code",
   "execution_count": 17,
   "id": "7981858d-9325-4979-ac05-3809cd7e5e8a",
   "metadata": {},
   "outputs": [
    {
     "data": {
      "text/plain": [
       "array([[-0.3720902 , -0.28435787, -0.28412932, -0.23986145, -0.32058406,\n",
       "        -0.29282174, -0.28483872, -0.27968048, -0.24678782, -0.22103372],\n",
       "       [-0.5270703 , -0.34684077, -0.44267892, -0.36930918, -0.44159497,\n",
       "        -0.50117398, -0.47931995, -0.45578168, -0.37064137, -0.40556333]])"
      ]
     },
     "execution_count": 17,
     "metadata": {},
     "output_type": "execute_result"
    }
   ],
   "source": [
    "mynet.weights_gradient"
   ]
  },
  {
   "cell_type": "code",
   "execution_count": 18,
   "id": "88263c66-e4b3-4db3-82d3-54489123845a",
   "metadata": {},
   "outputs": [
    {
     "data": {
      "text/plain": [
       "True"
      ]
     },
     "execution_count": 18,
     "metadata": {},
     "output_type": "execute_result"
    }
   ],
   "source": [
    "np.allclose(net[0].weight.grad, mynet.weights_gradient)"
   ]
  },
  {
   "cell_type": "markdown",
   "id": "79eeb496-1021-48be-aa6b-d5a16d1aece8",
   "metadata": {},
   "source": [
    "### $\\frac{\\partial L}{\\partial o^{[L-1]}}$"
   ]
  },
  {
   "cell_type": "code",
   "execution_count": 19,
   "id": "cf4fa56f-1ee1-4c3d-97f3-8bd0e8faf240",
   "metadata": {},
   "outputs": [
    {
     "data": {
      "text/plain": [
       "tensor([[-0.0145,  0.0028,  0.0163,  0.0436,  0.0165, -0.0359,  0.0217,  0.0083,\n",
       "         -0.0235,  0.0244],\n",
       "        [ 0.0128,  0.0164,  0.0183,  0.0476,  0.0140, -0.0345,  0.0058, -0.0220,\n",
       "         -0.0378, -0.0090],\n",
       "        [-0.0029,  0.0072,  0.0148,  0.0390,  0.0133, -0.0305,  0.0131, -0.0035,\n",
       "         -0.0253,  0.0093],\n",
       "        [ 0.0077,  0.0119,  0.0146,  0.0381,  0.0115, -0.0280,  0.0063, -0.0148,\n",
       "         -0.0291, -0.0040],\n",
       "        [-0.0018,  0.0076,  0.0145,  0.0385,  0.0130, -0.0299,  0.0123, -0.0046,\n",
       "         -0.0254,  0.0078],\n",
       "        [ 0.0010,  0.0068,  0.0110,  0.0291,  0.0095, -0.0222,  0.0078, -0.0060,\n",
       "         -0.0202,  0.0030],\n",
       "        [ 0.0043,  0.0112,  0.0161,  0.0422,  0.0134, -0.0317,  0.0096, -0.0119,\n",
       "         -0.0305,  0.0008],\n",
       "        [ 0.0133,  0.0151,  0.0157,  0.0409,  0.0117, -0.0292,  0.0036, -0.0214,\n",
       "         -0.0334, -0.0106]])"
      ]
     },
     "execution_count": 19,
     "metadata": {},
     "output_type": "execute_result"
    }
   ],
   "source": [
    "inputs.grad"
   ]
  },
  {
   "cell_type": "code",
   "execution_count": 20,
   "id": "b1fb6b0c-6b28-4647-aa42-2847152a7735",
   "metadata": {},
   "outputs": [
    {
     "data": {
      "text/plain": [
       "array([[-0.01451984,  0.00277703,  0.01629723,  0.04360741,  0.0164942 ,\n",
       "        -0.03593987,  0.02168799,  0.00832113, -0.02349492,  0.02439209],\n",
       "       [ 0.01280766,  0.01637692,  0.01825308,  0.04759858,  0.01397548,\n",
       "        -0.03447095,  0.00583379, -0.02202984, -0.03778836, -0.00903639],\n",
       "       [-0.00290579,  0.00718625,  0.01475293,  0.03903777,  0.01334702,\n",
       "        -0.03049788,  0.01313251, -0.00350837, -0.02530954,  0.0092766 ],\n",
       "       [ 0.00767498,  0.01190685,  0.01456556,  0.0380914 ,  0.01154598,\n",
       "        -0.02801333,  0.00627126, -0.01483449, -0.02914969, -0.00402767],\n",
       "       [-0.00180112,  0.00757236,  0.01454838,  0.038451  ,  0.01299725,\n",
       "        -0.0298633 ,  0.01227463, -0.00460757, -0.02537871,  0.00781683],\n",
       "       [ 0.00096233,  0.00680622,  0.01103485,  0.02906533,  0.00949803,\n",
       "        -0.02218798,  0.00783185, -0.00600587, -0.02016862,  0.00301697],\n",
       "       [ 0.00428784,  0.0112255 ,  0.01606371,  0.04218778,  0.01337981,\n",
       "        -0.03172538,  0.00956805, -0.01185623, -0.03049944,  0.00078137],\n",
       "       [ 0.01329595,  0.0151381 ,  0.01571985,  0.04089586,  0.01168532,\n",
       "        -0.02923628,  0.00358558, -0.02141592, -0.03343825, -0.01061594]])"
      ]
     },
     "execution_count": 20,
     "metadata": {},
     "output_type": "execute_result"
    }
   ],
   "source": [
    "mybackward"
   ]
  },
  {
   "cell_type": "code",
   "execution_count": 21,
   "id": "fe346627-d273-4033-adf7-0e63128cd1c6",
   "metadata": {},
   "outputs": [
    {
     "data": {
      "text/plain": [
       "True"
      ]
     },
     "execution_count": 21,
     "metadata": {},
     "output_type": "execute_result"
    }
   ],
   "source": [
    "np.allclose(inputs.grad, mybackward)"
   ]
  }
 ],
 "metadata": {
  "kernelspec": {
   "display_name": "Python 3 (ipykernel)",
   "language": "python",
   "name": "python3"
  },
  "language_info": {
   "codemirror_mode": {
    "name": "ipython",
    "version": 3
   },
   "file_extension": ".py",
   "mimetype": "text/x-python",
   "name": "python",
   "nbconvert_exporter": "python",
   "pygments_lexer": "ipython3",
   "version": "3.10.8"
  }
 },
 "nbformat": 4,
 "nbformat_minor": 5
}
