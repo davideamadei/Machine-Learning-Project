{
 "cells": [
  {
   "cell_type": "code",
   "execution_count": 1,
   "id": "d83dcea5-1463-48ba-a7d1-6f3d56821d43",
   "metadata": {},
   "outputs": [],
   "source": [
    "import numpy as np\n",
    "\n",
    "from util_classes import Dataset\n",
    "from datasets import read_ML_cup, read_monks, train_valid_split\n",
    "from loss import LossFunction\n",
    "from optimizer import Optimizer"
   ]
  },
  {
   "cell_type": "markdown",
   "id": "1515c84f-bc22-4bea-83c7-1e46ecc87709",
   "metadata": {},
   "source": [
    "Test Data Modules"
   ]
  },
  {
   "cell_type": "code",
   "execution_count": 2,
   "id": "03b89d31-653c-4265-96e1-750f490c5c8f",
   "metadata": {},
   "outputs": [
    {
     "data": {
      "text/plain": [
       "(124, [6, 1])"
      ]
     },
     "execution_count": 2,
     "metadata": {},
     "output_type": "execute_result"
    }
   ],
   "source": [
    "data = read_monks(1, \"train\")\n",
    "ids = data.ids.copy()\n",
    "data.shape"
   ]
  },
  {
   "cell_type": "code",
   "execution_count": 3,
   "id": "08a74766-d4d1-45ca-a165-0ed06a758297",
   "metadata": {},
   "outputs": [],
   "source": [
    "train, valid = train_valid_split(data)"
   ]
  },
  {
   "cell_type": "code",
   "execution_count": 4,
   "id": "b7cd1567-e2c4-4409-b04b-81d92452de20",
   "metadata": {},
   "outputs": [
    {
     "data": {
      "text/plain": [
       "((86, [6, 1]), (38, [6, 1]))"
      ]
     },
     "execution_count": 4,
     "metadata": {},
     "output_type": "execute_result"
    }
   ],
   "source": [
    "train.shape, valid.shape"
   ]
  },
  {
   "cell_type": "code",
   "execution_count": 5,
   "id": "5e3882f2-ce85-4764-a5e2-b61402e6089b",
   "metadata": {},
   "outputs": [
    {
     "data": {
      "text/plain": [
       "True"
      ]
     },
     "execution_count": 5,
     "metadata": {},
     "output_type": "execute_result"
    }
   ],
   "source": [
    "# all elements are present\n",
    "sorted(list(train.ids) + list(valid.ids)) == sorted(ids)"
   ]
  },
  {
   "cell_type": "markdown",
   "id": "5bc6c2f7-ea24-4dcb-b1ed-16df5d23b46f",
   "metadata": {},
   "source": [
    "### Trainer Class"
   ]
  },
  {
   "cell_type": "code",
   "execution_count": 6,
   "id": "9a6aea70-0df4-422a-8b77-5660f49c5e56",
   "metadata": {},
   "outputs": [],
   "source": [
    "class Estimator:\n",
    "    def __init__(self, net, *,\n",
    "        loss=LossFunction(), optimizer=Optimizer(),\n",
    "        batchsize=1, start_it=0, seed=None\n",
    "    ):\n",
    "        self.net = net\n",
    "        self.t = start_it\n",
    "        self.loss = loss\n",
    "        self.optimizer = optimizer\n",
    "        self.batchsize = batchsize\n",
    "        self.rng = np.random.default_rng(seed)\n",
    "        if seed != None:\n",
    "            # re-randomize all layers with new rng\n",
    "            self.net.rng = self.rng\n",
    "    \n",
    "    def update_params(net=None, loss=None, optimizer=None, batchsize=None, seed=None):\n",
    "        self.t = 0\n",
    "        if seed is not None:\n",
    "            self.rng = np.random.default_rng(seed)\n",
    "        if net is not None:\n",
    "            self.net = net\n",
    "            self.net.rng = self.rng\n",
    "        if loss is not None:\n",
    "            self.loss = loss\n",
    "        if optimizer is not None:\n",
    "            self.optimizer = optimizer\n",
    "        if batchsize is not None:\n",
    "            self.batchsize = batchsize\n",
    "    \n",
    "    @staticmethod\n",
    "    def get_minibatches(x, y, batchsize):\n",
    "        size = x.shape[0]\n",
    "        batchtotal, remainder = divmod(size, batchsize)\n",
    "        for i in range(batchtotal):\n",
    "            mini_x = x[i*batchsize:(i+1)*batchsize]\n",
    "            mini_y = y[i*batchsize:(i+1)*batchsize]\n",
    "            yield mini_x, mini_y\n",
    "        if remainder > 0:\n",
    "            yield (\n",
    "                x[batchtotal*batchsize:],\n",
    "                y[batchtotal*batchsize:]\n",
    "            )\n",
    "        \n",
    "    def train(self, dataset, *, n_epochs=1, callback=print, mb_callback=None):\n",
    "        for i in range(n_epochs):\n",
    "            # permute dataset\n",
    "            permutation = self.rng.permutation(dataset.shape[0])\n",
    "            x = dataset.data[permutation]\n",
    "            y = dataset.labels[permutation]\n",
    "            # iterate minibatches\n",
    "            avg_loss, batchcount = 0., np.ceil(x.shape[0] / self.batchsize)\n",
    "            for b, (mini_x, mini_y) in enumerate(Estimator.get_minibatches(x, y, self.batchsize)):\n",
    "                pred = self.net.foward(mini_x)\n",
    "                loss = self.loss.foward(pred, mini_y)\n",
    "                if mb_callback is not None:\n",
    "                    record = {\"epoch\": self.t, \"batch\": b, \"loss\": loss}\n",
    "                    mb_callback(self.t, b, loss)\n",
    "                avg_loss += loss\n",
    "                loss_grad = self.loss.backward()\n",
    "                self.net.backward(loss_grad)\n",
    "                self.net.optimize(self.optimizer)\n",
    "            avg_loss /= batchcount\n",
    "            self.t += 1\n",
    "            record = {\"epoch\": self.t, \"loss\": avg_loss}\n",
    "            callback(record)"
   ]
  },
  {
   "cell_type": "code",
   "execution_count": 7,
   "id": "57abbb80-374a-4669-8eaf-06ea9b4ec345",
   "metadata": {},
   "outputs": [],
   "source": [
    "from nn import NeuralNetwork, LinearLayer, ActivationFunction"
   ]
  },
  {
   "cell_type": "code",
   "execution_count": 8,
   "id": "748bc371-cc15-4111-8282-f4e6049c8568",
   "metadata": {},
   "outputs": [],
   "source": [
    "trainer = Estimator(\n",
    "    NeuralNetwork([\n",
    "        LinearLayer((9, 8)),\n",
    "        ActivationFunction(),\n",
    "        LinearLayer((8, 8)),\n",
    "        ActivationFunction(),\n",
    "        LinearLayer((8, 2))\n",
    "    ]),\n",
    "    batchsize=64,\n",
    "    seed=123,\n",
    "    optimizer=Optimizer(eta=1e-3, l2_coeff=1e-2, alpha=0.2)\n",
    ")"
   ]
  },
  {
   "cell_type": "code",
   "execution_count": 9,
   "id": "6f7871f5-3a7f-45be-a429-d87936927e22",
   "metadata": {},
   "outputs": [],
   "source": [
    "train, valid = train_valid_split(read_ML_cup(\"train\"), splits=(0.7, 0.3))"
   ]
  },
  {
   "cell_type": "code",
   "execution_count": 10,
   "id": "cb1b1ba0-6111-4a7e-8697-f69275751df4",
   "metadata": {},
   "outputs": [
    {
     "name": "stdout",
     "output_type": "stream",
     "text": [
      "{'epoch': 1, 'loss': 477.2846025302484}\n",
      "{'epoch': 2, 'loss': 355.36805692778324}\n",
      "{'epoch': 3, 'loss': 340.72458828744124}\n",
      "{'epoch': 4, 'loss': 351.21379834771705}\n",
      "{'epoch': 5, 'loss': 358.029870328806}\n",
      "{'epoch': 6, 'loss': 360.8883135887121}\n",
      "{'epoch': 7, 'loss': 365.9556978451745}\n",
      "{'epoch': 8, 'loss': 367.01020554761595}\n",
      "{'epoch': 9, 'loss': 364.1841146261983}\n",
      "{'epoch': 10, 'loss': 365.2386041262139}\n",
      "{'epoch': 11, 'loss': 366.7439068194883}\n",
      "{'epoch': 12, 'loss': 364.1846029862737}\n",
      "{'epoch': 13, 'loss': 366.01150312002534}\n",
      "{'epoch': 14, 'loss': 369.0559329064739}\n",
      "{'epoch': 15, 'loss': 363.9748320545789}\n",
      "{'epoch': 16, 'loss': 366.5443436439703}\n",
      "{'epoch': 17, 'loss': 368.2874410174959}\n",
      "{'epoch': 18, 'loss': 368.45876551320373}\n",
      "{'epoch': 19, 'loss': 369.65054155020914}\n",
      "{'epoch': 20, 'loss': 368.87109232262634}\n",
      "{'epoch': 21, 'loss': 367.59148472713656}\n",
      "{'epoch': 22, 'loss': 365.680379710991}\n",
      "{'epoch': 23, 'loss': 368.1960237303889}\n",
      "{'epoch': 24, 'loss': 366.4120518459492}\n",
      "{'epoch': 25, 'loss': 367.8710166592314}\n",
      "{'epoch': 26, 'loss': 367.52362253452327}\n",
      "{'epoch': 27, 'loss': 369.54858885417735}\n",
      "{'epoch': 28, 'loss': 368.3208048121263}\n",
      "{'epoch': 29, 'loss': 368.0044000532412}\n",
      "{'epoch': 30, 'loss': 367.2051287215215}\n",
      "{'epoch': 31, 'loss': 367.8687530466756}\n",
      "{'epoch': 32, 'loss': 366.3584019208382}\n",
      "{'epoch': 33, 'loss': 369.06881206869656}\n",
      "{'epoch': 34, 'loss': 367.8702823590899}\n",
      "{'epoch': 35, 'loss': 365.1022875629656}\n",
      "{'epoch': 36, 'loss': 366.7794588824312}\n",
      "{'epoch': 37, 'loss': 367.4807890019248}\n",
      "{'epoch': 38, 'loss': 367.4556833155434}\n",
      "{'epoch': 39, 'loss': 368.75031536414537}\n",
      "{'epoch': 40, 'loss': 366.03684963220974}\n",
      "{'epoch': 41, 'loss': 365.257971023346}\n",
      "{'epoch': 42, 'loss': 364.98232027199145}\n",
      "{'epoch': 43, 'loss': 368.853649956065}\n",
      "{'epoch': 44, 'loss': 365.8700417445622}\n",
      "{'epoch': 45, 'loss': 366.5361206886158}\n",
      "{'epoch': 46, 'loss': 367.38253924002225}\n",
      "{'epoch': 47, 'loss': 365.45340273480144}\n",
      "{'epoch': 48, 'loss': 366.98186967857686}\n",
      "{'epoch': 49, 'loss': 365.08902657194454}\n",
      "{'epoch': 50, 'loss': 367.1190162050981}\n",
      "{'epoch': 51, 'loss': 367.43280541201335}\n",
      "{'epoch': 52, 'loss': 368.273080653951}\n",
      "{'epoch': 53, 'loss': 364.24870603874916}\n",
      "{'epoch': 54, 'loss': 371.3304551994636}\n",
      "{'epoch': 55, 'loss': 367.5344575998582}\n",
      "{'epoch': 56, 'loss': 366.5379016494659}\n",
      "{'epoch': 57, 'loss': 370.2730990033148}\n",
      "{'epoch': 58, 'loss': 368.6670056028794}\n",
      "{'epoch': 59, 'loss': 367.08513688931316}\n",
      "{'epoch': 60, 'loss': 367.37648861930944}\n",
      "{'epoch': 61, 'loss': 369.1400962452138}\n",
      "{'epoch': 62, 'loss': 366.8038776792833}\n",
      "{'epoch': 63, 'loss': 367.03418669926634}\n",
      "{'epoch': 64, 'loss': 369.11679335758816}\n",
      "{'epoch': 65, 'loss': 366.5822544793323}\n",
      "{'epoch': 66, 'loss': 367.47468807635977}\n",
      "{'epoch': 67, 'loss': 368.33206567888874}\n",
      "{'epoch': 68, 'loss': 367.766459681475}\n",
      "{'epoch': 69, 'loss': 366.92492712854266}\n",
      "{'epoch': 70, 'loss': 367.42463571839136}\n",
      "{'epoch': 71, 'loss': 365.0003111356068}\n",
      "{'epoch': 72, 'loss': 366.835259030367}\n",
      "{'epoch': 73, 'loss': 367.5858009382325}\n",
      "{'epoch': 74, 'loss': 368.0746569639741}\n",
      "{'epoch': 75, 'loss': 368.3996237201439}\n",
      "{'epoch': 76, 'loss': 366.7955022443995}\n",
      "{'epoch': 77, 'loss': 368.24148782731015}\n",
      "{'epoch': 78, 'loss': 367.8977668891915}\n",
      "{'epoch': 79, 'loss': 367.37355703317456}\n",
      "{'epoch': 80, 'loss': 368.21471195900455}\n",
      "{'epoch': 81, 'loss': 367.184023707582}\n",
      "{'epoch': 82, 'loss': 367.30452553151036}\n",
      "{'epoch': 83, 'loss': 365.89548017234}\n",
      "{'epoch': 84, 'loss': 366.5063396089949}\n",
      "{'epoch': 85, 'loss': 366.7675367441166}\n",
      "{'epoch': 86, 'loss': 366.65292095896353}\n",
      "{'epoch': 87, 'loss': 368.368706018843}\n",
      "{'epoch': 88, 'loss': 366.9740373535001}\n",
      "{'epoch': 89, 'loss': 367.4171628045846}\n",
      "{'epoch': 90, 'loss': 365.5547097450586}\n",
      "{'epoch': 91, 'loss': 366.2526076737538}\n",
      "{'epoch': 92, 'loss': 367.5648766818828}\n",
      "{'epoch': 93, 'loss': 365.38790019488897}\n",
      "{'epoch': 94, 'loss': 366.8171885059394}\n",
      "{'epoch': 95, 'loss': 367.5867823092767}\n",
      "{'epoch': 96, 'loss': 366.9891254001376}\n",
      "{'epoch': 97, 'loss': 367.2744722272926}\n",
      "{'epoch': 98, 'loss': 368.8394998771808}\n",
      "{'epoch': 99, 'loss': 366.0722407547655}\n",
      "{'epoch': 100, 'loss': 364.74189507336706}\n"
     ]
    }
   ],
   "source": [
    "trainer.train(train, n_epochs=100)"
   ]
  },
  {
   "cell_type": "code",
   "execution_count": null,
   "id": "16c58e61-c60f-447f-905e-989ac9166f97",
   "metadata": {},
   "outputs": [],
   "source": []
  }
 ],
 "metadata": {
  "kernelspec": {
   "display_name": "Python 3 (ipykernel)",
   "language": "python",
   "name": "python3"
  },
  "language_info": {
   "codemirror_mode": {
    "name": "ipython",
    "version": 3
   },
   "file_extension": ".py",
   "mimetype": "text/x-python",
   "name": "python",
   "nbconvert_exporter": "python",
   "pygments_lexer": "ipython3",
   "version": "3.10.8"
  },
  "vscode": {
   "interpreter": {
    "hash": "916dbcbb3f70747c44a77c7bcd40155683ae19c65e1c03b4aa3499c5328201f1"
   }
  }
 },
 "nbformat": 4,
 "nbformat_minor": 5
}
