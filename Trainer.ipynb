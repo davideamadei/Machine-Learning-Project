{
 "cells": [
  {
   "cell_type": "code",
   "execution_count": 1,
   "id": "d83dcea5-1463-48ba-a7d1-6f3d56821d43",
   "metadata": {},
   "outputs": [],
   "source": [
    "from dataclasses import dataclass\n",
    "from typing import Optional\n",
    "import numpy as np\n",
    "import pandas as pd\n",
    "\n",
    "from data import read_ML_cup, read_monks\n",
    "from nn import LossFunction, Optimizer"
   ]
  },
  {
   "cell_type": "markdown",
   "id": "1515c84f-bc22-4bea-83c7-1e46ecc87709",
   "metadata": {},
   "source": [
    "Test Data Modules"
   ]
  },
  {
   "cell_type": "code",
   "execution_count": 2,
   "id": "f640be71-b212-45c4-9f1f-f187e151cf15",
   "metadata": {},
   "outputs": [],
   "source": [
    "dataset = read_ML_cup(\"train\")"
   ]
  },
  {
   "cell_type": "code",
   "execution_count": 3,
   "id": "f573a912-7ac4-4f56-a07b-4afc3b6fc293",
   "metadata": {},
   "outputs": [
    {
     "data": {
      "text/plain": [
       "(124, [6, 1])"
      ]
     },
     "execution_count": 3,
     "metadata": {},
     "output_type": "execute_result"
    }
   ],
   "source": [
    "dataset = read_monks(3, \"test\")\n",
    "dataset.shape"
   ]
  },
  {
   "cell_type": "markdown",
   "id": "5bc6c2f7-ea24-4dcb-b1ed-16df5d23b46f",
   "metadata": {},
   "source": [
    "### Trainer Class"
   ]
  },
  {
   "cell_type": "code",
   "execution_count": 4,
   "id": "9a6aea70-0df4-422a-8b77-5660f49c5e56",
   "metadata": {},
   "outputs": [],
   "source": [
    "class Trainer:\n",
    "    def __init__(self, nn, data, *,\n",
    "        loss=LossFunction(), optimizer=Optimizer(),\n",
    "        batchsize=None, start_it=0, seed=None\n",
    "    ):\n",
    "        self.dataset = data\n",
    "        self.nn = nn\n",
    "        self.t = start_it\n",
    "        self.loss = loss\n",
    "        self.optimizer = optimizer\n",
    "        if batchsize is None:\n",
    "            self.batchsize = self.dataset.shape[0]\n",
    "        else:\n",
    "            self.batchsize = batchsize\n",
    "        self.rng = np.random.default_rng(seed)\n",
    "        if seed != None:\n",
    "            # re-randomize all layers with new rng\n",
    "            self.nn.rng = self.rng\n",
    "    \n",
    "    @staticmethod\n",
    "    def get_minibatches(x, y, batchsize):\n",
    "        size = x.shape[0]\n",
    "        batchtotal, remainder = divmod(size, batchsize)\n",
    "        for i in range(batchtotal):\n",
    "            mini_x = x[i*batchsize:(i+1)*batchsize]\n",
    "            mini_y = y[i*batchsize:(i+1)*batchsize]\n",
    "            yield mini_x, mini_y\n",
    "        if remainder > 0:\n",
    "            yield (\n",
    "                x[batchtotal*batchsize:],\n",
    "                y[batchtotal*batchsize:]\n",
    "            )\n",
    "        \n",
    "    def train(self, n_epochs, callback=print, mb_callback=None):\n",
    "        for i in range(n_epochs):\n",
    "            # permute dataset\n",
    "            permutation = self.rng.permutation(self.dataset.shape[0])\n",
    "            x = self.dataset.data[permutation]\n",
    "            y = self.dataset.labels[permutation]\n",
    "            # iterate minibatches\n",
    "            avg_loss, batchcount = 0., np.ceil(x.shape[0] / self.batchsize)\n",
    "            for b, (mini_x, mini_y) in enumerate(Trainer.get_minibatches(x, y, self.batchsize)):\n",
    "                pred = self.nn.foward(mini_x)\n",
    "                loss = self.loss.foward(pred, mini_y)\n",
    "                if mb_callback is not None:\n",
    "                    record = {\"epoch\": self.t, \"batch\": b, \"loss\": loss}\n",
    "                    mb_callback(self.t, b, loss)\n",
    "                avg_loss += loss\n",
    "                loss_grad = self.loss.backward()\n",
    "                self.nn.backward(loss_grad)\n",
    "                self.nn.optimize(self.optimizer)\n",
    "            avg_loss /= batchcount\n",
    "            self.t += 1\n",
    "            record = {\"epoch\": self.t, \"loss\": avg_loss}\n",
    "            callback(record)"
   ]
  },
  {
   "cell_type": "code",
   "execution_count": 5,
   "id": "57abbb80-374a-4669-8eaf-06ea9b4ec345",
   "metadata": {},
   "outputs": [],
   "source": [
    "from nn import NeuralNetwork, LinearLayer, ActivationFunction"
   ]
  },
  {
   "cell_type": "code",
   "execution_count": 6,
   "id": "748bc371-cc15-4111-8282-f4e6049c8568",
   "metadata": {},
   "outputs": [],
   "source": [
    "trainer = Trainer(\n",
    "    NeuralNetwork([\n",
    "        LinearLayer((9, 8)),\n",
    "        ActivationFunction(),\n",
    "        LinearLayer((8, 8)),\n",
    "        ActivationFunction(),\n",
    "        LinearLayer((8, 2))\n",
    "    ]),\n",
    "    read_ML_cup(\"train\"),\n",
    "    seed=123,\n",
    "    optimizer=Optimizer(eta=1e-3, l2_coeff=1e-2, alpha=0.2)\n",
    ")"
   ]
  },
  {
   "cell_type": "code",
   "execution_count": 7,
   "id": "cb1b1ba0-6111-4a7e-8697-f69275751df4",
   "metadata": {},
   "outputs": [
    {
     "name": "stdout",
     "output_type": "stream",
     "text": [
      "{'epoch': 1, 'loss': 1371.8703763570543}\n",
      "{'epoch': 2, 'loss': 451.8049967820603}\n",
      "{'epoch': 3, 'loss': 448.93691363874774}\n",
      "{'epoch': 4, 'loss': 444.9905358628785}\n",
      "{'epoch': 5, 'loss': 440.33591419852877}\n",
      "{'epoch': 6, 'loss': 435.5141989917532}\n",
      "{'epoch': 7, 'loss': 430.8645304334314}\n",
      "{'epoch': 8, 'loss': 426.52548849971805}\n",
      "{'epoch': 9, 'loss': 422.45081912327015}\n",
      "{'epoch': 10, 'loss': 418.56797116846826}\n",
      "{'epoch': 11, 'loss': 414.7779776302563}\n",
      "{'epoch': 12, 'loss': 410.98060966470075}\n",
      "{'epoch': 13, 'loss': 407.1873551018359}\n",
      "{'epoch': 14, 'loss': 403.46688734574866}\n",
      "{'epoch': 15, 'loss': 399.84708701026074}\n",
      "{'epoch': 16, 'loss': 396.318247518225}\n",
      "{'epoch': 17, 'loss': 392.83509108044836}\n",
      "{'epoch': 18, 'loss': 389.3217751224261}\n",
      "{'epoch': 19, 'loss': 385.70497824556156}\n",
      "{'epoch': 20, 'loss': 381.8711350394194}\n",
      "{'epoch': 21, 'loss': 377.72470715544904}\n",
      "{'epoch': 22, 'loss': 373.15915811432427}\n",
      "{'epoch': 23, 'loss': 368.1108783944512}\n",
      "{'epoch': 24, 'loss': 362.606161617119}\n",
      "{'epoch': 25, 'loss': 356.8183354695933}\n",
      "{'epoch': 26, 'loss': 351.2306948030724}\n",
      "{'epoch': 27, 'loss': 346.4125679874589}\n",
      "{'epoch': 28, 'loss': 342.69125063077894}\n",
      "{'epoch': 29, 'loss': 340.13004687972176}\n",
      "{'epoch': 30, 'loss': 338.5347928112426}\n",
      "{'epoch': 31, 'loss': 337.62139776913244}\n",
      "{'epoch': 32, 'loss': 337.1372061514362}\n",
      "{'epoch': 33, 'loss': 336.92298463296396}\n",
      "{'epoch': 34, 'loss': 336.87029465186777}\n",
      "{'epoch': 35, 'loss': 336.910601303407}\n",
      "{'epoch': 36, 'loss': 337.0125817556303}\n",
      "{'epoch': 37, 'loss': 337.171595736076}\n",
      "{'epoch': 38, 'loss': 337.3586169092961}\n",
      "{'epoch': 39, 'loss': 337.5663959387622}\n",
      "{'epoch': 40, 'loss': 337.80239373625204}\n",
      "{'epoch': 41, 'loss': 338.06233904915456}\n",
      "{'epoch': 42, 'loss': 338.342205087953}\n",
      "{'epoch': 43, 'loss': 338.63956287505243}\n",
      "{'epoch': 44, 'loss': 338.9507337461898}\n",
      "{'epoch': 45, 'loss': 339.27464936330654}\n",
      "{'epoch': 46, 'loss': 339.61619262010856}\n",
      "{'epoch': 47, 'loss': 339.975424407117}\n",
      "{'epoch': 48, 'loss': 340.3518048748351}\n",
      "{'epoch': 49, 'loss': 340.74270733680277}\n",
      "{'epoch': 50, 'loss': 341.1464935511723}\n",
      "{'epoch': 51, 'loss': 341.56187219258317}\n",
      "{'epoch': 52, 'loss': 341.98656014128824}\n",
      "{'epoch': 53, 'loss': 342.41977029367547}\n",
      "{'epoch': 54, 'loss': 342.8593317938867}\n",
      "{'epoch': 55, 'loss': 343.30443343559455}\n",
      "{'epoch': 56, 'loss': 343.754083696545}\n",
      "{'epoch': 57, 'loss': 344.2073519526748}\n",
      "{'epoch': 58, 'loss': 344.6634071219331}\n",
      "{'epoch': 59, 'loss': 345.12126102372196}\n",
      "{'epoch': 60, 'loss': 345.57988609147475}\n",
      "{'epoch': 61, 'loss': 346.0383616791137}\n",
      "{'epoch': 62, 'loss': 346.4947201328403}\n",
      "{'epoch': 63, 'loss': 346.9485987787467}\n",
      "{'epoch': 64, 'loss': 347.39867715714576}\n",
      "{'epoch': 65, 'loss': 347.8442126741712}\n",
      "{'epoch': 66, 'loss': 348.28496101240603}\n",
      "{'epoch': 67, 'loss': 348.72052272243786}\n",
      "{'epoch': 68, 'loss': 349.1504385317928}\n",
      "{'epoch': 69, 'loss': 349.57396448525486}\n",
      "{'epoch': 70, 'loss': 349.9904347896042}\n",
      "{'epoch': 71, 'loss': 350.39962858339203}\n",
      "{'epoch': 72, 'loss': 350.80089980009467}\n",
      "{'epoch': 73, 'loss': 351.1939169877482}\n",
      "{'epoch': 74, 'loss': 351.57849897724503}\n",
      "{'epoch': 75, 'loss': 351.954378356722}\n",
      "{'epoch': 76, 'loss': 352.3211717943572}\n",
      "{'epoch': 77, 'loss': 352.6795665968601}\n",
      "{'epoch': 78, 'loss': 353.02919087715975}\n",
      "{'epoch': 79, 'loss': 353.3693493434153}\n",
      "{'epoch': 80, 'loss': 353.70008561948845}\n",
      "{'epoch': 81, 'loss': 354.02192707587056}\n",
      "{'epoch': 82, 'loss': 354.3342382274028}\n",
      "{'epoch': 83, 'loss': 354.63756623705046}\n",
      "{'epoch': 84, 'loss': 354.93179408323516}\n",
      "{'epoch': 85, 'loss': 355.2166895815131}\n",
      "{'epoch': 86, 'loss': 355.4919792977472}\n",
      "{'epoch': 87, 'loss': 355.7584022571232}\n",
      "{'epoch': 88, 'loss': 356.01627394520403}\n",
      "{'epoch': 89, 'loss': 356.2659853923621}\n",
      "{'epoch': 90, 'loss': 356.5075130715179}\n",
      "{'epoch': 91, 'loss': 356.740979292617}\n",
      "{'epoch': 92, 'loss': 356.96679741211494}\n",
      "{'epoch': 93, 'loss': 357.18499490594945}\n",
      "{'epoch': 94, 'loss': 357.39538252537983}\n",
      "{'epoch': 95, 'loss': 357.59821526809776}\n",
      "{'epoch': 96, 'loss': 357.7936372845266}\n",
      "{'epoch': 97, 'loss': 357.9817053942661}\n",
      "{'epoch': 98, 'loss': 358.16282499550874}\n",
      "{'epoch': 99, 'loss': 358.33706549481593}\n",
      "{'epoch': 100, 'loss': 358.5048961225292}\n"
     ]
    }
   ],
   "source": [
    "trainer.train(100)"
   ]
  }
 ],
 "metadata": {
  "kernelspec": {
   "display_name": "Python 3 (ipykernel)",
   "language": "python",
   "name": "python3"
  },
  "language_info": {
   "codemirror_mode": {
    "name": "ipython",
    "version": 3
   },
   "file_extension": ".py",
   "mimetype": "text/x-python",
   "name": "python",
   "nbconvert_exporter": "python",
   "pygments_lexer": "ipython3",
   "version": "3.10.8"
  }
 },
 "nbformat": 4,
 "nbformat_minor": 5
}
