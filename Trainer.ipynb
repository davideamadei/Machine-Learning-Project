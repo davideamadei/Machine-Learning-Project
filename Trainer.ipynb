{
 "cells": [
  {
   "cell_type": "code",
   "execution_count": 1,
   "id": "d83dcea5-1463-48ba-a7d1-6f3d56821d43",
   "metadata": {},
   "outputs": [],
   "source": [
    "import numpy as np\n",
    "\n",
    "from util_classes import Dataset\n",
    "from datasets import read_ML_cup, read_monks, train_valid_split\n",
    "from loss import LossFunction\n",
    "from optimizer import Optimizer"
   ]
  },
  {
   "cell_type": "markdown",
   "id": "1515c84f-bc22-4bea-83c7-1e46ecc87709",
   "metadata": {},
   "source": [
    "Test Data Modules"
   ]
  },
  {
   "cell_type": "code",
   "execution_count": 2,
   "id": "03b89d31-653c-4265-96e1-750f490c5c8f",
   "metadata": {},
   "outputs": [
    {
     "data": {
      "text/plain": [
       "(124, (6, 1))"
      ]
     },
     "execution_count": 2,
     "metadata": {},
     "output_type": "execute_result"
    }
   ],
   "source": [
    "data = read_monks(1, \"train\")\n",
    "ids = data.ids.copy()\n",
    "data.shape"
   ]
  },
  {
   "cell_type": "code",
   "execution_count": 3,
   "id": "08a74766-d4d1-45ca-a165-0ed06a758297",
   "metadata": {},
   "outputs": [],
   "source": [
    "train, valid = train_valid_split(data)"
   ]
  },
  {
   "cell_type": "code",
   "execution_count": 4,
   "id": "b7cd1567-e2c4-4409-b04b-81d92452de20",
   "metadata": {},
   "outputs": [
    {
     "data": {
      "text/plain": [
       "((86, (6, 1)), (38, (6, 1)))"
      ]
     },
     "execution_count": 4,
     "metadata": {},
     "output_type": "execute_result"
    }
   ],
   "source": [
    "train.shape, valid.shape"
   ]
  },
  {
   "cell_type": "code",
   "execution_count": 5,
   "id": "5e3882f2-ce85-4764-a5e2-b61402e6089b",
   "metadata": {},
   "outputs": [
    {
     "data": {
      "text/plain": [
       "True"
      ]
     },
     "execution_count": 5,
     "metadata": {},
     "output_type": "execute_result"
    }
   ],
   "source": [
    "# all elements are present\n",
    "sorted(list(train.ids) + list(valid.ids)) == sorted(ids)"
   ]
  },
  {
   "cell_type": "markdown",
   "id": "5bc6c2f7-ea24-4dcb-b1ed-16df5d23b46f",
   "metadata": {},
   "source": [
    "### Trainer Class"
   ]
  },
  {
   "cell_type": "code",
   "execution_count": 6,
   "id": "57abbb80-374a-4669-8eaf-06ea9b4ec345",
   "metadata": {},
   "outputs": [],
   "source": [
    "from nn import NeuralNetwork, LinearLayer, ActivationFunction\n",
    "from estimator import Estimator"
   ]
  },
  {
   "cell_type": "code",
   "execution_count": 7,
   "id": "748bc371-cc15-4111-8282-f4e6049c8568",
   "metadata": {},
   "outputs": [],
   "source": [
    "trainer = Estimator(\n",
    "    NeuralNetwork(\n",
    "        [\n",
    "            LinearLayer((6, 8)),\n",
    "            ActivationFunction(),\n",
    "            LinearLayer((8, 8)),\n",
    "            ActivationFunction(),\n",
    "            LinearLayer((8, 1)),\n",
    "        ]\n",
    "    ),\n",
    "    batchsize=64,\n",
    "    seed=123,\n",
    "    optimizer=Optimizer(eta=1e-3, l2_coeff=1e-2, alpha=0.2),\n",
    ")"
   ]
  },
  {
   "cell_type": "code",
   "execution_count": 8,
   "id": "6f7871f5-3a7f-45be-a429-d87936927e22",
   "metadata": {},
   "outputs": [],
   "source": [
    "train = read_monks(1, \"train\")"
   ]
  },
  {
   "cell_type": "code",
   "execution_count": 9,
   "id": "cb1b1ba0-6111-4a7e-8697-f69275751df4",
   "metadata": {},
   "outputs": [
    {
     "name": "stdout",
     "output_type": "stream",
     "text": [
      "{'epoch': 1, 'loss': 2162.3931300841346}\n",
      "{'epoch': 2, 'loss': 35.63043197671959}\n",
      "{'epoch': 3, 'loss': 24.6562642902391}\n",
      "{'epoch': 4, 'loss': 16.457463852912184}\n",
      "{'epoch': 5, 'loss': 11.723249641077015}\n",
      "{'epoch': 6, 'loss': 8.56008227349045}\n",
      "{'epoch': 7, 'loss': 6.372345067426246}\n",
      "{'epoch': 8, 'loss': 4.826193502717709}\n",
      "{'epoch': 9, 'loss': 3.717460880030653}\n",
      "{'epoch': 10, 'loss': 2.910199349058829}\n",
      "{'epoch': 11, 'loss': 2.313993173935091}\n",
      "{'epoch': 12, 'loss': 1.8693411694950073}\n",
      "{'epoch': 13, 'loss': 1.5299312157104104}\n",
      "{'epoch': 14, 'loss': 1.2729790329065729}\n",
      "{'epoch': 15, 'loss': 1.072995351700594}\n",
      "{'epoch': 16, 'loss': 0.9175610262054497}\n",
      "{'epoch': 17, 'loss': 0.794035237542863}\n",
      "{'epoch': 18, 'loss': 0.6954377497353315}\n",
      "{'epoch': 19, 'loss': 0.6180092163558089}\n",
      "{'epoch': 20, 'loss': 0.5554202123407597}\n",
      "{'epoch': 21, 'loss': 0.5037512040342099}\n",
      "{'epoch': 22, 'loss': 0.4608424444119759}\n",
      "{'epoch': 23, 'loss': 0.4272615924484797}\n",
      "{'epoch': 24, 'loss': 0.39748305923470295}\n",
      "{'epoch': 25, 'loss': 0.3743357885359848}\n",
      "{'epoch': 26, 'loss': 0.3562021479031252}\n",
      "{'epoch': 27, 'loss': 0.3375161645880298}\n",
      "{'epoch': 28, 'loss': 0.323237408444945}\n",
      "{'epoch': 29, 'loss': 0.31107354685476807}\n",
      "{'epoch': 30, 'loss': 0.3011647049844621}\n",
      "{'epoch': 31, 'loss': 0.2927133664690593}\n",
      "{'epoch': 32, 'loss': 0.28395646065908775}\n",
      "{'epoch': 33, 'loss': 0.2780117614057189}\n",
      "{'epoch': 34, 'loss': 0.2734724102015147}\n",
      "{'epoch': 35, 'loss': 0.26790430407360977}\n",
      "{'epoch': 36, 'loss': 0.26373165147479405}\n",
      "{'epoch': 37, 'loss': 0.2603706463958838}\n",
      "{'epoch': 38, 'loss': 0.2562309208743227}\n",
      "{'epoch': 39, 'loss': 0.2542549205846639}\n",
      "{'epoch': 40, 'loss': 0.2523940250641706}\n",
      "{'epoch': 41, 'loss': 0.2508383029090995}\n",
      "{'epoch': 42, 'loss': 0.2477904180460042}\n",
      "{'epoch': 43, 'loss': 0.24572779019949714}\n",
      "{'epoch': 44, 'loss': 0.24587668841538804}\n",
      "{'epoch': 45, 'loss': 0.24395453301405834}\n",
      "{'epoch': 46, 'loss': 0.24368247648124922}\n",
      "{'epoch': 47, 'loss': 0.24305021459782994}\n",
      "{'epoch': 48, 'loss': 0.2400356686792815}\n",
      "{'epoch': 49, 'loss': 0.2421196148374434}\n",
      "{'epoch': 50, 'loss': 0.2398021902852985}\n"
     ]
    }
   ],
   "source": [
    "trainer.train(train, n_epochs=50)"
   ]
  }
 ],
 "metadata": {
  "kernelspec": {
   "display_name": "ML",
   "language": "python",
   "name": "python3"
  },
  "language_info": {
   "codemirror_mode": {
    "name": "ipython",
    "version": 3
   },
   "file_extension": ".py",
   "mimetype": "text/x-python",
   "name": "python",
   "nbconvert_exporter": "python",
   "pygments_lexer": "ipython3",
   "version": "3.10.8"
  },
  "vscode": {
   "interpreter": {
    "hash": "29308c18330174df5d08dc27cbd59630723a13c381a5b5f57befcdc7a6962bd9"
   }
  }
 },
 "nbformat": 4,
 "nbformat_minor": 5
}
