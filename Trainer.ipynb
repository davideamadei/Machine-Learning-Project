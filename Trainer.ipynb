{
 "cells": [
  {
   "cell_type": "code",
   "execution_count": 1,
   "id": "d83dcea5-1463-48ba-a7d1-6f3d56821d43",
   "metadata": {},
   "outputs": [],
   "source": [
    "import numpy as np\n",
    "\n",
    "from ddnn.data import read_ML_cup, read_monks, train_valid_split, onehot_encoding\n",
    "from ddnn.nn import *\n",
    "from ddnn.utils import Dataset, Parameter"
   ]
  },
  {
   "cell_type": "markdown",
   "id": "1515c84f-bc22-4bea-83c7-1e46ecc87709",
   "metadata": {},
   "source": [
    "Test Data Modules"
   ]
  },
  {
   "cell_type": "code",
   "execution_count": 2,
   "id": "03b89d31-653c-4265-96e1-750f490c5c8f",
   "metadata": {},
   "outputs": [],
   "source": [
    "train = onehot_encoding(read_monks(1, \"train\"))"
   ]
  },
  {
   "cell_type": "markdown",
   "id": "5bc6c2f7-ea24-4dcb-b1ed-16df5d23b46f",
   "metadata": {},
   "source": [
    "### Trainer Class"
   ]
  },
  {
   "cell_type": "code",
   "execution_count": 3,
   "id": "15dc8d1c",
   "metadata": {},
   "outputs": [],
   "source": [
    "trainer = Estimator(\n",
    "    NeuralNetwork(\n",
    "        [\n",
    "            LinearLayer((17, 4)),\n",
    "            ActivationFunction(),\n",
    "            LinearLayer((4, 1)),\n",
    "            ActivationFunction(\"logistic\"),\n",
    "        ]\n",
    "    ),\n",
    "    batchsize=16,\n",
    "    seed=123,\n",
    "    optimizer=Optimizer(\n",
    "        \"Adam\", learning_rate = 0.1, l2_coefficient = 1e-4, beta1 = 0.9, beta2 = 0.999, eps=1e-8\n",
    "    ),\n",
    ")"
   ]
  },
  {
   "cell_type": "code",
   "execution_count": 4,
   "id": "9a7036fc",
   "metadata": {},
   "outputs": [
    {
     "name": "stdout",
     "output_type": "stream",
     "text": [
      "{'epoch': 1, 'loss': 0.22055692499782945}\n",
      "{'epoch': 2, 'loss': 0.15720016381709265}\n",
      "{'epoch': 3, 'loss': 0.11960146349177542}\n",
      "{'epoch': 4, 'loss': 0.11711585008147302}\n",
      "{'epoch': 5, 'loss': 0.11859030844896908}\n",
      "{'epoch': 6, 'loss': 0.11564142202270733}\n",
      "{'epoch': 7, 'loss': 0.10761545975686986}\n",
      "{'epoch': 8, 'loss': 0.09817511729758113}\n",
      "{'epoch': 9, 'loss': 0.09545901129491963}\n",
      "{'epoch': 10, 'loss': 0.0912327227668957}\n",
      "{'epoch': 11, 'loss': 0.09241016311916572}\n",
      "{'epoch': 12, 'loss': 0.0860101169828306}\n",
      "{'epoch': 13, 'loss': 0.08816651810014439}\n",
      "{'epoch': 14, 'loss': 0.08216549600962345}\n",
      "{'epoch': 15, 'loss': 0.08140573470113384}\n",
      "{'epoch': 16, 'loss': 0.0819701769645318}\n",
      "{'epoch': 17, 'loss': 0.07670740843838639}\n",
      "{'epoch': 18, 'loss': 0.07136353080163625}\n",
      "{'epoch': 19, 'loss': 0.06990981386100342}\n",
      "{'epoch': 20, 'loss': 0.07294553731171106}\n"
     ]
    }
   ],
   "source": [
    "trainer.train(train, n_epochs=20)"
   ]
  },
  {
   "cell_type": "code",
   "execution_count": 5,
   "id": "d5f84e0b",
   "metadata": {},
   "outputs": [
    {
     "data": {
      "text/plain": [
       "{'binary_accuracy': 0.9193548387096774}"
      ]
     },
     "execution_count": 5,
     "metadata": {},
     "output_type": "execute_result"
    }
   ],
   "source": [
    "test = onehot_encoding(read_monks(1, \"test\"))\n",
    "trainer.evaluate([\"binary_accuracy\"], test)"
   ]
  },
  {
   "cell_type": "code",
   "execution_count": 6,
   "id": "58288e84",
   "metadata": {},
   "outputs": [
    {
     "name": "stdout",
     "output_type": "stream",
     "text": [
      "{'epoch': 1, 'loss': 0.22055692499782945}\n",
      "{'epoch': 2, 'loss': 0.15720016381709265}\n",
      "{'epoch': 3, 'loss': 0.11960146349177542}\n",
      "{'epoch': 4, 'loss': 0.11711585008147302}\n",
      "{'epoch': 5, 'loss': 0.11859030844896908}\n",
      "{'epoch': 6, 'loss': 0.11564142202270733}\n",
      "{'epoch': 7, 'loss': 0.10761545975686986}\n",
      "{'epoch': 8, 'loss': 0.09817511729758113}\n",
      "{'epoch': 9, 'loss': 0.09545901129491963}\n",
      "{'epoch': 10, 'loss': 0.0912327227668957}\n",
      "{'epoch': 11, 'loss': 0.09241016311916572}\n",
      "{'epoch': 12, 'loss': 0.0860101169828306}\n",
      "{'epoch': 13, 'loss': 0.08816651810014439}\n",
      "{'epoch': 14, 'loss': 0.08216549600962345}\n",
      "{'epoch': 15, 'loss': 0.08140573470113384}\n",
      "{'epoch': 16, 'loss': 0.0819701769645318}\n",
      "{'epoch': 17, 'loss': 0.07670740843838639}\n",
      "{'epoch': 18, 'loss': 0.07136353080163625}\n",
      "{'epoch': 19, 'loss': 0.06990981386100342}\n",
      "{'epoch': 20, 'loss': 0.07294553731171106}\n"
     ]
    }
   ],
   "source": [
    "trainer.reset()\n",
    "trainer.train(train, n_epochs=20)"
   ]
  },
  {
   "cell_type": "code",
   "execution_count": 7,
   "id": "4b595c44",
   "metadata": {},
   "outputs": [
    {
     "data": {
      "text/plain": [
       "{'binary_accuracy': 0.9193548387096774}"
      ]
     },
     "execution_count": 7,
     "metadata": {},
     "output_type": "execute_result"
    }
   ],
   "source": [
    "test = onehot_encoding(read_monks(1, \"test\"))\n",
    "trainer.evaluate([\"binary_accuracy\"], test)"
   ]
  }
 ],
 "metadata": {
  "kernelspec": {
   "display_name": "ML",
   "language": "python",
   "name": "python3"
  },
  "language_info": {
   "codemirror_mode": {
    "name": "ipython",
    "version": 3
   },
   "file_extension": ".py",
   "mimetype": "text/x-python",
   "name": "python",
   "nbconvert_exporter": "python",
   "pygments_lexer": "ipython3",
   "version": "3.10.8"
  },
  "vscode": {
   "interpreter": {
    "hash": "29308c18330174df5d08dc27cbd59630723a13c381a5b5f57befcdc7a6962bd9"
   }
  }
 },
 "nbformat": 4,
 "nbformat_minor": 5
}
