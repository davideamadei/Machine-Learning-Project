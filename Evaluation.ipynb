{
 "cells": [
  {
   "cell_type": "code",
   "execution_count": null,
   "id": "4b5b06b4",
   "metadata": {},
   "outputs": [],
   "source": [
    "from ddnn.nn import *\n",
    "from ddnn.validation import *\n",
    "from ddnn.data import *\n",
    "\n",
    "estimator = Estimator(\n",
    "    net=NeuralNetwork([\n",
    "        LinearLayer((17, 4)),\n",
    "        ActivationFunction(\"ReLU\"),\n",
    "        LinearLayer((4, 1)),\n",
    "        ActivationFunction(\"logistic\")\n",
    "    ]),\n",
    "    loss=LossFunction(\"MSE\"),\n",
    "    optimizer=Optimizer(\"SGD\", learning_rate=0.5, momentum_coefficient=0.5, l2_coefficient=0),\n",
    "    # optimizer=Optimizer(\"Adam\", learning_rate=0.01, l2_coefficient=2e-3),\n",
    "    batchsize=16,\n",
    "    initializer=Initializer(\"glorot_uniform\"),\n",
    "    seed=777\n",
    ")\n",
    "early_stopping = None\n",
    "epochs = 50\n",
    "dataset_type = (\"monk\", 2)\n",
    "log_every = 5\n",
    "losses = [\"MSE\", \"binary_accuracy\"]"
   ]
  },
  {
   "cell_type": "code",
   "execution_count": null,
   "id": "2ff1b843",
   "metadata": {},
   "outputs": [],
   "source": [
    "if len(dataset_type) > 1:\n",
    "    traindata = read_monks(dataset_type[1], \"train\")\n",
    "    traindata = onehot_encoding(data=traindata)\n",
    "\n",
    "    testdata = read_monks(dataset_type[1], \"test\")\n",
    "    testdata = onehot_encoding(data=testdata)\n",
    "else:\n",
    "    # todo ml_cup\n",
    "    raise ValueError()"
   ]
  },
  {
   "cell_type": "code",
   "execution_count": null,
   "metadata": {},
   "outputs": [],
   "source": [
    "traindata.shape, testdata.shape"
   ]
  },
  {
   "cell_type": "code",
   "execution_count": null,
   "metadata": {},
   "outputs": [],
   "source": [
    "testlogger = Logger(estimator, losses=losses, training_set=traindata, validation_set=testdata, every=log_every)\n",
    "if early_stopping is not None:\n",
    "    teststopper = TrainingThresholdStopping(estimator, early_stopping)\n",
    "    def callback(record):\n",
    "        testlogger(record)\n",
    "        teststopper(record)\n",
    "else:\n",
    "    def callback(record):\n",
    "        print(record)\n",
    "        testlogger(record)"
   ]
  },
  {
   "cell_type": "code",
   "execution_count": null,
   "id": "6a6d8d6c",
   "metadata": {},
   "outputs": [],
   "source": [
    "estimator.train(traindata, callback=callback, n_epochs=epochs)"
   ]
  },
  {
   "cell_type": "code",
   "execution_count": null,
   "metadata": {},
   "outputs": [],
   "source": [
    "res = estimator.evaluate(losses=losses, dataset=traindata)\n",
    "res"
   ]
  },
  {
   "cell_type": "code",
   "execution_count": null,
   "id": "59993b39",
   "metadata": {},
   "outputs": [],
   "source": [
    "res = estimator.evaluate(losses=losses, dataset=testdata)\n",
    "res"
   ]
  },
  {
   "cell_type": "code",
   "execution_count": null,
   "metadata": {},
   "outputs": [],
   "source": [
    "import matplotlib.pyplot as plt\n",
    "import matplotlib.ticker as ticker\n",
    "from ipywidgets import interact"
   ]
  },
  {
   "cell_type": "code",
   "execution_count": null,
   "metadata": {},
   "outputs": [],
   "source": [
    "%matplotlib ipympl\n",
    "\n",
    "# 1 plot with train and valid\n",
    "\n",
    "fig, ax = plt.subplots()\n",
    "\n",
    "@interact(\n",
    "    loss = testlogger._losses,\n",
    ")\n",
    "def plot_results(loss):\n",
    "    fig.tight_layout()\n",
    "    ax.clear()\n",
    "    for where in [\"train\", \"valid\"]:\n",
    "        y = testlogger._scores[0][\"folds\"][0][where][loss]\n",
    "        if loss == \"binary_accuracy\":\n",
    "            # todo fix to show last not best\n",
    "            best = max(y)\n",
    "            form = \"{:.2}\"\n",
    "            logplot = False\n",
    "        else:\n",
    "            best = min(y)\n",
    "            form = \"{:.2E}\"\n",
    "            logplot = True\n",
    "        # scale to resemble number of epochs instead of plot points\n",
    "        ticks_x = ticker.FuncFormatter(lambda x, pos: '{0:g}'.format(x*testlogger._every))\n",
    "        ax.xaxis.set_major_formatter(ticks_x)\n",
    "        if logplot:\n",
    "            ax.set_yscale(\"log\")\n",
    "        else:\n",
    "            ax.set_yscale(\"linear\")\n",
    "        \n",
    "        ax.plot(y, label=f\"{where}: {form.format(best)}\")\n",
    "        ax.legend()"
   ]
  },
  {
   "cell_type": "code",
   "execution_count": null,
   "metadata": {},
   "outputs": [],
   "source": []
  }
 ],
 "metadata": {
  "kernelspec": {
   "display_name": "ML",
   "language": "python",
   "name": "python3"
  },
  "language_info": {
   "codemirror_mode": {
    "name": "ipython",
    "version": 3
   },
   "file_extension": ".py",
   "mimetype": "text/x-python",
   "name": "python",
   "nbconvert_exporter": "python",
   "pygments_lexer": "ipython3",
   "version": "3.10.8"
  },
  "orig_nbformat": 4,
  "vscode": {
   "interpreter": {
    "hash": "29308c18330174df5d08dc27cbd59630723a13c381a5b5f57befcdc7a6962bd9"
   }
  }
 },
 "nbformat": 4,
 "nbformat_minor": 2
}
