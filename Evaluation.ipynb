{
 "cells": [
  {
   "cell_type": "code",
   "execution_count": null,
   "id": "4b5b06b4",
   "metadata": {},
   "outputs": [],
   "source": [
    "from ddnn.nn import *\n",
    "from ddnn.validation import *\n",
    "from ddnn.data import *\n",
    "\n",
    "estimator = Estimator(\n",
    "    net=NeuralNetwork([\n",
    "        LinearLayer((9, 128)),\n",
    "        ActivationFunction(\"ReLU\"),\n",
    "        LinearLayer((128, 2)),\n",
    "    ]),\n",
    "    loss=LossFunction(\"MSE\"),\n",
    "    # optimizer=Optimizer(\"SGD\", learning_rate=0.5, momentum_coefficient=0.5, l2_coefficient=0),\n",
    "    optimizer=Optimizer(\"Adam\", learning_rate=0.5, l2_coefficient=1e-3),\n",
    "    batchsize=-1,\n",
    "    initializer=Initializer(\"glorot_uniform\"),\n",
    "    seed=1239147219\n",
    ")\n",
    "early_stopping = None #2.4934976413737315\n",
    "epochs = 500\n",
    "# dataset_type = (\"monk\", 2)\n",
    "dataset_type = \"ML_cup\"\n",
    "log_every = 1\n",
    "losses = [\"MSE\", \"MEE\"]"
   ]
  },
  {
   "cell_type": "code",
   "execution_count": null,
   "id": "2ff1b843",
   "metadata": {},
   "outputs": [],
   "source": [
    "if isinstance(dataset_type, tuple):\n",
    "    traindata = read_monks(dataset_type[1], \"train\")\n",
    "    traindata = onehot_encoding(data=traindata)\n",
    "\n",
    "    testdata = read_monks(dataset_type[1], \"test\")\n",
    "    testdata = onehot_encoding(data=testdata)\n",
    "else:\n",
    "    traindata = read_ML_cup(\"train\")\n",
    "    traindata, testdata = train_valid_split(traindata)\n",
    "    blindtest = read_ML_cup(\"test\")"
   ]
  },
  {
   "cell_type": "code",
   "execution_count": null,
   "metadata": {},
   "outputs": [],
   "source": [
    "traindata.shape, testdata.shape"
   ]
  },
  {
   "cell_type": "code",
   "execution_count": null,
   "metadata": {},
   "outputs": [],
   "source": [
    "testlogger = Logger(estimator, losses=losses, training_set=traindata, validation_set=testdata, every=log_every)\n",
    "if early_stopping is not None:\n",
    "    teststopper = TrainingThresholdStopping(estimator, early_stopping)\n",
    "    def callback(record):\n",
    "        testlogger(record)\n",
    "        teststopper(record)\n",
    "else:\n",
    "    def callback(record):\n",
    "        testlogger(record)"
   ]
  },
  {
   "cell_type": "code",
   "execution_count": null,
   "id": "6a6d8d6c",
   "metadata": {},
   "outputs": [],
   "source": [
    "estimator.train(traindata, callback=callback, n_epochs=epochs)"
   ]
  },
  {
   "cell_type": "code",
   "execution_count": null,
   "metadata": {},
   "outputs": [],
   "source": [
    "res = estimator.evaluate(losses=losses, dataset=traindata)\n",
    "res"
   ]
  },
  {
   "cell_type": "code",
   "execution_count": null,
   "id": "59993b39",
   "metadata": {},
   "outputs": [],
   "source": [
    "res = estimator.evaluate(losses=losses, dataset=testdata)\n",
    "res"
   ]
  },
  {
   "cell_type": "code",
   "execution_count": null,
   "metadata": {},
   "outputs": [],
   "source": [
    "import matplotlib.pyplot as plt\n",
    "import matplotlib.ticker as ticker\n",
    "from ipywidgets import interact\n",
    "import numpy as np"
   ]
  },
  {
   "cell_type": "code",
   "execution_count": null,
   "metadata": {},
   "outputs": [],
   "source": [
    "%matplotlib ipympl\n",
    "\n",
    "# 1 plot with train and valid\n",
    "\n",
    "fig, ax = plt.subplots()\n",
    "\n",
    "@interact(\n",
    "    loss = testlogger._losses,\n",
    ")\n",
    "def plot_results(loss):\n",
    "    fig.tight_layout()\n",
    "    ax.clear()\n",
    "    ax.set_xlabel(\"epochs\")\n",
    "    ax.set_ylabel(loss)\n",
    "    for where, style in zip([\"train\", \"valid\"], [None, \"dotted\"]):\n",
    "        y = testlogger._scores[0][\"folds\"][0][where][loss]\n",
    "        if loss == \"binary_accuracy\":\n",
    "            # todo fix to show last not best\n",
    "            best = max(y)\n",
    "            form = \"{:.2}\"\n",
    "            logplot = False\n",
    "        else:\n",
    "            best = min(y)\n",
    "            form = \"{:.2E}\"\n",
    "            logplot = True\n",
    "        # scale to resemble number of epochs instead of plot points\n",
    "        ticks_x = ticker.FuncFormatter(\n",
    "            lambda x, pos: '{0:g}'.format(x*testlogger._every)\n",
    "        )\n",
    "        ax.xaxis.set_major_formatter(ticks_x)\n",
    "        if logplot:\n",
    "            ax.set_yscale(\"log\")\n",
    "        else:\n",
    "            ax.set_yscale(\"linear\")\n",
    "        if where == \"valid\": \n",
    "            where = \"test\"\n",
    "        ax.plot(y, label=f\"{where}: {form.format(best)}\", \n",
    "            linestyle=style, color=\"black\"\n",
    "        )\n",
    "        ax.legend()"
   ]
  },
  {
   "cell_type": "code",
   "execution_count": null,
   "metadata": {},
   "outputs": [],
   "source": [
    "SAMPLE_SIZE = 50\n",
    "sampleids = np.random.choice(\n",
    "    np.arange(testdata.data.shape[0]), \n",
    "    size=SAMPLE_SIZE, replace=False\n",
    ")\n",
    "sampledata = testdata.data[sampleids]\n",
    "samplepred = estimator.predict(sampledata)\n",
    "samplelabels = testdata.labels[sampleids]\n",
    "\n",
    "fig, ax = plt.subplots()\n",
    "ax.set_xlabel(\"x\")\n",
    "ax.set_ylabel(\"y\")\n",
    "\n",
    "for i in range(samplelabels.shape[0]):\n",
    "    ax.plot(\n",
    "        [samplelabels[i, 0], samplepred[i, 0]], \n",
    "        [samplelabels[i, 1], samplepred[i, 1]],\n",
    "        marker=\"o\"\n",
    "    )"
   ]
  },
  {
   "cell_type": "code",
   "execution_count": null,
   "metadata": {},
   "outputs": [],
   "source": [
    "fig, ax = plt.subplots()\n",
    "\n",
    "preds = estimator.predict(testdata)\n",
    "labels = testdata.labels\n",
    "distances = np.linalg.norm(preds - labels, axis=1, ord=2)\n",
    "\n",
    "ax.set_xlabel(\"distance (Euclidean)\")\n",
    "ax.set_ylabel(\"count\")\n",
    "ax.hist(distances, bins=50, color=\"black\");"
   ]
  }
 ],
 "metadata": {
  "kernelspec": {
   "display_name": "ML",
   "language": "python",
   "name": "python3"
  },
  "language_info": {
   "codemirror_mode": {
    "name": "ipython",
    "version": 3
   },
   "file_extension": ".py",
   "mimetype": "text/x-python",
   "name": "python",
   "nbconvert_exporter": "python",
   "pygments_lexer": "ipython3",
   "version": "3.10.8"
  },
  "orig_nbformat": 4,
  "vscode": {
   "interpreter": {
    "hash": "29308c18330174df5d08dc27cbd59630723a13c381a5b5f57befcdc7a6962bd9"
   }
  }
 },
 "nbformat": 4,
 "nbformat_minor": 2
}
