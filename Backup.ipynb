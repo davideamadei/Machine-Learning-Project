{
 "cells": [
  {
   "cell_type": "raw",
   "metadata": {},
   "source": [
    "%matplotlib ipympl\n",
    "\n",
    "# separated plot for train/valid, hyper, loss\n",
    "\n",
    "hps = [x[\"hp\"] for x in logger._scores]\n",
    "fig, ax = plt.subplots()\n",
    "\n",
    "@interact(\n",
    "    loss = logger._losses,\n",
    "    hyper = hps,\n",
    "    where = [\"train\", \"valid\"]\n",
    ")\n",
    "def plot_results(loss, hyper, where):\n",
    "    ys = [y[where][loss] for y in logger._scores[hps.index(hyper)][\"folds\"]]\n",
    "    if loss != \"binary_accuracy\":\n",
    "        bests = [min(y) for y in ys]\n",
    "        form = \"{:.2E}\"\n",
    "        logplot = True\n",
    "    else:\n",
    "        bests = [max(y) for y in ys]\n",
    "        form = \"{:.2}\"\n",
    "        logplot = False\n",
    "\n",
    "    ax.clear()\n",
    "    ax.set_title(\", \".join([f\"{k}={v}\" for k,v in hyper.items()]), wrap=True, fontsize=10)\n",
    "    # scale to resemble number of epochs instead of plot points\n",
    "    ticks_x = ticker.FuncFormatter(lambda x, pos: '{0:g}'.format(x*logger._every))\n",
    "    ax.xaxis.set_major_formatter(ticks_x)\n",
    "    if logplot:\n",
    "        ax.set_yscale(\"log\")\n",
    "    else:\n",
    "        ax.set_yscale(\"linear\")\n",
    "    for y,best in zip(ys, bests):\n",
    "        ax.plot(y, label=f\"{form.format(best)}\")\n",
    "    ax.legend()"
   ]
  },
  {
   "cell_type": "raw",
   "metadata": {},
   "source": [
    "%matplotlib ipympl\n",
    "\n",
    "# 1 plot with train and valid\n",
    "\n",
    "fig, ax = plt.subplots()\n",
    "\n",
    "@interact(\n",
    "    loss = logger._losses,\n",
    ")\n",
    "def plot_results(loss):\n",
    "    fig.tight_layout()\n",
    "    ax.clear()\n",
    "    for where in [\"train\", \"valid\"]:\n",
    "        y = logger._scores[0][\"folds\"][0][where][loss]\n",
    "        if loss == \"binary_accuracy\":\n",
    "            best = max(y)\n",
    "            form = \"{:.2}\"\n",
    "            logplot = False\n",
    "        else:\n",
    "            best = min(y)\n",
    "            form = \"{:.2E}\"\n",
    "            logplot = True\n",
    "        # scale to resemble number of epochs instead of plot points\n",
    "        ticks_x = ticker.FuncFormatter(lambda x, pos: '{0:g}'.format(x*logger._every))\n",
    "        ax.xaxis.set_major_formatter(ticks_x)\n",
    "        if logplot:\n",
    "            ax.set_yscale(\"log\")\n",
    "        else:\n",
    "            ax.set_yscale(\"linear\")\n",
    "        \n",
    "        ax.plot(y, label=f\"{where}: {form.format(best)}\")\n",
    "        ax.legend()"
   ]
  }
 ],
 "metadata": {
  "kernelspec": {
   "display_name": "ML",
   "language": "python",
   "name": "python3"
  },
  "language_info": {
   "name": "python",
   "version": "3.10.8 | packaged by conda-forge | (main, Nov 22 2022, 08:26:04) [GCC 10.4.0]"
  },
  "orig_nbformat": 4,
  "vscode": {
   "interpreter": {
    "hash": "29308c18330174df5d08dc27cbd59630723a13c381a5b5f57befcdc7a6962bd9"
   }
  }
 },
 "nbformat": 4,
 "nbformat_minor": 2
}
