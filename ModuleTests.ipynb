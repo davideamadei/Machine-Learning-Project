{
 "cells": [
  {
   "attachments": {},
   "cell_type": "markdown",
   "metadata": {},
   "source": [
    "## Single Module Tests"
   ]
  },
  {
   "cell_type": "code",
   "execution_count": 1,
   "metadata": {},
   "outputs": [],
   "source": [
    "import numpy as np\n",
    "import torch"
   ]
  },
  {
   "cell_type": "code",
   "execution_count": 2,
   "metadata": {},
   "outputs": [],
   "source": [
    "from ddnn.nn import Initializer\n",
    "\n",
    "Initializer(\"random_uniform\")((4, 5))\n",
    "Initializer(\"random_normal\")((4, 5))\n",
    "Initializer(\"glorot_uniform\")((4, 5))\n",
    "Initializer(\"glorot_normal\")((4, 5))\n",
    "Initializer(\"he_uniform\", fan_mode=\"fan_in\")((4, 5))\n",
    "Initializer(\"he_normal\", fan_mode=\"fan_out\")((4, 5));"
   ]
  },
  {
   "cell_type": "code",
   "execution_count": 3,
   "metadata": {},
   "outputs": [
    {
     "name": "stderr",
     "output_type": "stream",
     "text": [
      "/home/david/uni/ml/Machine-Learning-Project/ddnn/nn/activation.py:86: RuntimeWarning: overflow encountered in exp\n",
      "  return 1 / (1 + np.exp(-x))\n"
     ]
    }
   ],
   "source": [
    "from ddnn.nn import ActivationFunction\n",
    "\n",
    "\n",
    "def assert_activation_function(fname, pytorch_equivalent):\n",
    "    inputs = np.array([0, -1, 1, -1e5, 1e5, 1e-5, -1e-5])\n",
    "    tinput = torch.Tensor(inputs).requires_grad_()\n",
    "    afun = ActivationFunction(fname)\n",
    "\n",
    "    outputs = afun.foward(inputs)\n",
    "    expected = pytorch_equivalent(tinput)\n",
    "    assert np.allclose(outputs, expected.detach()), f\"{fname} func\"\n",
    "\n",
    "    expected.sum().backward()\n",
    "    assert np.allclose(\n",
    "        afun.backward(np.ones_like(outputs)), tinput.grad\n",
    "    ), f\"{fname} grad\"\n",
    "\n",
    "\n",
    "assert_activation_function(\"ReLU\", torch.nn.ReLU())\n",
    "assert_activation_function(\"logistic\", torch.nn.Sigmoid())\n",
    "assert_activation_function(\"tanh\", torch.nn.Tanh())\n",
    "# overflow error in logistic function can be safely ignored"
   ]
  },
  {
   "cell_type": "code",
   "execution_count": 4,
   "metadata": {},
   "outputs": [],
   "source": [
    "from ddnn.nn import LossFunction\n",
    "\n",
    "inputs = np.array([0, 1, 0, 1])\n",
    "labels = np.array([0, 0, 1, 1])\n",
    "tinput = torch.Tensor(inputs).requires_grad_()\n",
    "tlabels = torch.Tensor(labels)\n",
    "\n",
    "tinput.grad = None\n",
    "lfun = LossFunction(\"MSE\")\n",
    "outputs = lfun.foward(inputs.reshape(inputs.size, 1), labels)\n",
    "expected = torch.nn.MSELoss()(tinput, tlabels)\n",
    "assert np.allclose(outputs, expected.detach()), \"MSE func\"\n",
    "expected.backward()\n",
    "assert np.allclose(lfun.backward().squeeze(), tinput.grad), \"MSE grad\"\n",
    "\n",
    "# TODO add manual check for accuracy and MEE"
   ]
  },
  {
   "cell_type": "code",
   "execution_count": 5,
   "metadata": {},
   "outputs": [],
   "source": [
    "from ddnn.nn import LinearLayer\n",
    "\n",
    "tlayer = torch.nn.Linear(10, 2)\n",
    "layer = LinearLayer((10, 2))\n",
    "layer.params.weights[:] = tlayer.weight.detach()\n",
    "layer.params.bias[:] = tlayer.bias.detach()\n",
    "\n",
    "tinputs = torch.rand(8, 10, requires_grad=True)\n",
    "tlabels = torch.rand(8, 2)\n",
    "inputs = tinputs.detach().numpy()\n",
    "labels = tlabels.detach().numpy()\n",
    "\n",
    "tpreds = tlayer(tinputs)\n",
    "preds = layer.foward(inputs)\n",
    "assert np.allclose(preds, tpreds.detach()), \"Linear Forward\"\n",
    "\n",
    "tpreds.sum().backward()\n",
    "tigrad = tinputs.grad\n",
    "igrad = layer.backward(np.ones_like(preds))\n",
    "assert np.allclose(igrad, tigrad.detach()), \"Linear Backward [Input]\"\n",
    "assert np.allclose(layer.grads.weights, tlayer.weight.grad), \"Linear Backward [Weights]\"\n",
    "assert np.allclose(layer.grads.bias, tlayer.bias.grad), \"Linear Backward [Bias]\""
   ]
  },
  {
   "attachments": {},
   "cell_type": "markdown",
   "id": "3cae8090-2d77-47b8-b7a5-d3394245baa1",
   "metadata": {},
   "source": [
    "## MultiLayer Test\n",
    "### Pytorch"
   ]
  },
  {
   "cell_type": "code",
   "execution_count": null,
   "id": "8012ad8f-0cd6-4dbe-bca7-6fc01101cca6",
   "metadata": {},
   "outputs": [],
   "source": [
    "tnet = torch.nn.Sequential(\n",
    "    torch.nn.Linear(8, 16),\n",
    "    torch.nn.ReLU(),\n",
    "    torch.nn.Linear(16, 16),\n",
    "    torch.nn.ReLU(),\n",
    "    torch.nn.Linear(16, 2),\n",
    ")\n",
    "tloss_fn = torch.nn.MSELoss()"
   ]
  },
  {
   "cell_type": "code",
   "execution_count": null,
   "id": "24f8218d-29a2-4195-9eff-b5fa0b4cd89c",
   "metadata": {},
   "outputs": [
    {
     "data": {
      "text/plain": [
       "tensor(0.5451, grad_fn=<MseLossBackward0>)"
      ]
     },
     "metadata": {},
     "output_type": "display_data"
    }
   ],
   "source": [
    "tdata = torch.rand(10, 8, requires_grad=True)\n",
    "tlabel = torch.rand(10, 2)\n",
    "tpred = tnet(tdata)\n",
    "tloss = tloss_fn(tpred, tlabel)\n",
    "tloss"
   ]
  },
  {
   "cell_type": "code",
   "execution_count": null,
   "id": "8991c7be-fc31-4973-a417-7e3ba466c712",
   "metadata": {},
   "outputs": [],
   "source": [
    "tloss.backward()\n",
    "tgrad = tdata.grad"
   ]
  },
  {
   "attachments": {},
   "cell_type": "markdown",
   "id": "2aa99e39-0025-4593-8581-55109ab9351e",
   "metadata": {},
   "source": [
    "### Ours"
   ]
  },
  {
   "cell_type": "code",
   "execution_count": null,
   "metadata": {},
   "outputs": [],
   "source": [
    "from ddnn.nn import NeuralNetwork, LinearLayer, ActivationFunction, LossFunction"
   ]
  },
  {
   "cell_type": "code",
   "execution_count": null,
   "id": "24a273f7-a39e-446b-950c-e14106f05a7f",
   "metadata": {},
   "outputs": [],
   "source": [
    "net = NeuralNetwork(\n",
    "    [\n",
    "        LinearLayer((8, 16)),\n",
    "        ActivationFunction(),\n",
    "        LinearLayer((16, 16)),\n",
    "        ActivationFunction(),\n",
    "        LinearLayer((16, 2)),\n",
    "    ]\n",
    ")\n",
    "loss_fn = LossFunction()"
   ]
  },
  {
   "cell_type": "code",
   "execution_count": null,
   "id": "97699fdb-5434-49a9-aa3b-55bb052bc066",
   "metadata": {},
   "outputs": [],
   "source": [
    "# We force the same initial weights for both networks\n",
    "for layer, tlayer in zip(net[:], tnet):\n",
    "    if isinstance(layer, LinearLayer):\n",
    "        layer.params.weights[:] = tlayer.weight.detach().numpy()\n",
    "        layer.params.bias[:] = tlayer.bias.detach().numpy()"
   ]
  },
  {
   "cell_type": "code",
   "execution_count": null,
   "id": "4c38b5a6-04ce-4aba-b8a8-9ddc0fac408c",
   "metadata": {},
   "outputs": [
    {
     "data": {
      "text/plain": [
       "1.090184360879591"
      ]
     },
     "metadata": {},
     "output_type": "display_data"
    }
   ],
   "source": [
    "data = tdata.detach().numpy()\n",
    "label = tlabel.numpy()\n",
    "pred = net.foward(data)\n",
    "loss = loss_fn.foward(pred, label)\n",
    "loss"
   ]
  },
  {
   "cell_type": "code",
   "execution_count": null,
   "id": "c2e14863-2099-4fb1-8b1a-141acb89ab43",
   "metadata": {},
   "outputs": [],
   "source": [
    "grad = net.backward(loss_fn.backward())"
   ]
  },
  {
   "attachments": {},
   "cell_type": "markdown",
   "id": "a18e5548-55c4-47d6-992e-571be276f147",
   "metadata": {},
   "source": [
    "### Assessment"
   ]
  },
  {
   "cell_type": "code",
   "execution_count": null,
   "id": "34ae211c",
   "metadata": {},
   "outputs": [
    {
     "data": {
      "text/plain": [
       "(True, 2.787329340050096e-08)"
      ]
     },
     "metadata": {},
     "output_type": "display_data"
    }
   ],
   "source": [
    "# check for correct foward computation by comparing with pytorch\n",
    "np.allclose(pred, tpred.detach().numpy()), np.linalg.norm(pred - tpred.detach().numpy())"
   ]
  },
  {
   "cell_type": "code",
   "execution_count": null,
   "id": "dc3f36a3-418b-4d39-ace5-2291f7bc99fc",
   "metadata": {},
   "outputs": [
    {
     "data": {
      "text/plain": [
       "(True, 3.0641544645357924e-09)"
      ]
     },
     "metadata": {},
     "output_type": "display_data"
    }
   ],
   "source": [
    "# check for correct backward computation by comparing with pytorch\n",
    "np.allclose(grad, tgrad.numpy()), np.linalg.norm(grad - tgrad.numpy())"
   ]
  },
  {
   "cell_type": "code",
   "execution_count": null,
   "id": "ce9f209f",
   "metadata": {},
   "outputs": [],
   "source": [
    "for i, (layer, tlayer) in enumerate(zip(net[::-1], tnet[::-1])):\n",
    "    if isinstance(layer, LinearLayer):\n",
    "        assert np.allclose(layer.grads.weights, tlayer.weight.grad.detach().numpy()), i\n",
    "        assert np.allclose(layer.grads.bias, tlayer.bias.grad.detach().numpy()), i"
   ]
  }
 ],
 "metadata": {
  "kernelspec": {
   "display_name": "ML",
   "language": "python",
   "name": "python3"
  },
  "language_info": {
   "codemirror_mode": {
    "name": "ipython",
    "version": 3
   },
   "file_extension": ".py",
   "mimetype": "text/x-python",
   "name": "python",
   "nbconvert_exporter": "python",
   "pygments_lexer": "ipython3",
   "version": "3.10.8 | packaged by conda-forge | (main, Nov 22 2022, 08:26:04) [GCC 10.4.0]"
  },
  "orig_nbformat": 4,
  "vscode": {
   "interpreter": {
    "hash": "29308c18330174df5d08dc27cbd59630723a13c381a5b5f57befcdc7a6962bd9"
   }
  }
 },
 "nbformat": 4,
 "nbformat_minor": 2
}
