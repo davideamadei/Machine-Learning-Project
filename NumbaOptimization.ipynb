{
 "cells": [
  {
   "attachments": {},
   "cell_type": "markdown",
   "metadata": {},
   "source": [
    "Possible optimizations for the neural network, not actually used in the code"
   ]
  },
  {
   "cell_type": "code",
   "execution_count": null,
   "metadata": {},
   "outputs": [],
   "source": [
    "import numpy as np\n",
    "from numba import njit, jit\n",
    "from numba import double\n",
    "from typing import Tuple\n",
    "\n",
    "# requires scipy as well"
   ]
  },
  {
   "cell_type": "code",
   "execution_count": null,
   "metadata": {},
   "outputs": [],
   "source": [
    "@njit\n",
    "def opt_foward(\n",
    "    inputs: np.ndarray, w: np.ndarray, b: np.ndarray\n",
    ") -> Tuple[np.ndarray, np.ndarray]:\n",
    "    output = inputs @ w.T + b.T\n",
    "    return output, inputs"
   ]
  },
  {
   "cell_type": "code",
   "execution_count": null,
   "metadata": {},
   "outputs": [],
   "source": [
    "def foward(\n",
    "    inputs: np.ndarray, w: np.ndarray, b: np.ndarray\n",
    ") -> Tuple[np.ndarray, np.ndarray]:\n",
    "    output = inputs @ w.T + b.T\n",
    "    return output, inputs"
   ]
  },
  {
   "cell_type": "code",
   "execution_count": null,
   "metadata": {},
   "outputs": [],
   "source": [
    "def backward(\n",
    "    ograds: np.ndarray, s: np.ndarray, w: np.ndarray\n",
    ") -> Tuple[np.ndarray, np.ndarray, np.ndarray]:\n",
    "    bgrads = ograds.sum(axis=0)\n",
    "    wgrads = ograds.T @ s\n",
    "    igrads = ograds @ w\n",
    "    return igrads, wgrads, bgrads"
   ]
  },
  {
   "cell_type": "code",
   "execution_count": null,
   "metadata": {},
   "outputs": [],
   "source": [
    "@njit\n",
    "def opt_backward(\n",
    "    ograds: np.ndarray, s: np.ndarray, w: np.ndarray\n",
    ") -> Tuple[np.ndarray, np.ndarray, np.ndarray]:\n",
    "    bgrads = ograds.sum(axis=0)\n",
    "    wgrads = ograds.T @ s\n",
    "    igrads = ograds @ w\n",
    "    return igrads, wgrads, bgrads"
   ]
  },
  {
   "cell_type": "code",
   "execution_count": null,
   "metadata": {},
   "outputs": [],
   "source": [
    "i = np.random.rand(1000, 128)\n",
    "w = np.random.rand(128, 128)\n",
    "b = np.random.rand(128)"
   ]
  },
  {
   "cell_type": "code",
   "execution_count": null,
   "metadata": {},
   "outputs": [],
   "source": [
    "o, s = np.zeros((i.shape[0], w.shape[0])), np.zeros_like(i)\n",
    "# compile code once\n",
    "opt_foward(i, w, b);"
   ]
  },
  {
   "cell_type": "code",
   "execution_count": null,
   "metadata": {},
   "outputs": [],
   "source": [
    "%%timeit\n",
    "o[:], s[:] = foward(i, w, b)"
   ]
  },
  {
   "cell_type": "code",
   "execution_count": null,
   "metadata": {},
   "outputs": [],
   "source": [
    "%%timeit\n",
    "o[:], s[:] = opt_foward(i, w, b)"
   ]
  },
  {
   "cell_type": "code",
   "execution_count": null,
   "metadata": {},
   "outputs": [],
   "source": [
    "o, s = opt_foward(i, w, b)\n",
    "og = np.random.rand(*o.shape)"
   ]
  },
  {
   "cell_type": "code",
   "execution_count": null,
   "metadata": {},
   "outputs": [],
   "source": [
    "ig, wg, bg = np.zeros_like(i), np.zeros_like(w), np.zeros_like(b)\n",
    "# compile code once\n",
    "opt_backward(og, s, w);"
   ]
  },
  {
   "cell_type": "code",
   "execution_count": null,
   "metadata": {},
   "outputs": [],
   "source": [
    "%%timeit\n",
    "ig[:], wg[:], bg[:] = backward(og, s, w)"
   ]
  },
  {
   "cell_type": "code",
   "execution_count": null,
   "metadata": {},
   "outputs": [],
   "source": [
    "%%timeit\n",
    "ig[:], wg[:], bg[:] = opt_backward(og, s, w)"
   ]
  },
  {
   "cell_type": "code",
   "execution_count": null,
   "metadata": {},
   "outputs": [],
   "source": [
    "def tanh_func(x):\n",
    "    return np.tanh(x)\n",
    "\n",
    "\n",
    "def tanh_grad(x):\n",
    "    y = np.tanh(x)\n",
    "    return 1 - (y * y)"
   ]
  },
  {
   "cell_type": "code",
   "execution_count": null,
   "metadata": {},
   "outputs": [],
   "source": [
    "a = np.random.rand(128, 128)"
   ]
  },
  {
   "cell_type": "code",
   "execution_count": null,
   "metadata": {},
   "outputs": [],
   "source": [
    "%%timeit\n",
    "tanh_func(a)"
   ]
  },
  {
   "cell_type": "code",
   "execution_count": null,
   "metadata": {},
   "outputs": [],
   "source": [
    "%%timeit\n",
    "tanh_grad(a)"
   ]
  },
  {
   "cell_type": "code",
   "execution_count": null,
   "metadata": {},
   "outputs": [],
   "source": [
    "@njit\n",
    "def opt_tanh_func(x: np.ndarray) -> np.ndarray:\n",
    "    return np.tanh(x)\n",
    "\n",
    "\n",
    "@njit\n",
    "def opt_tanh_grad(x: np.ndarray) -> np.ndarray:\n",
    "    y = np.tanh(x)\n",
    "    return 1 - (y * y)\n",
    "\n",
    "\n",
    "# compile once\n",
    "opt_tanh_func(np.ones(1))\n",
    "opt_tanh_grad(np.ones(1));"
   ]
  },
  {
   "cell_type": "code",
   "execution_count": null,
   "metadata": {},
   "outputs": [],
   "source": [
    "%%timeit\n",
    "tanh_func(a)"
   ]
  },
  {
   "cell_type": "code",
   "execution_count": null,
   "metadata": {},
   "outputs": [],
   "source": [
    "%%timeit\n",
    "tanh_grad(a)"
   ]
  },
  {
   "cell_type": "code",
   "execution_count": null,
   "metadata": {},
   "outputs": [],
   "source": [
    "from ddnn.utils import Parameter\n",
    "\n",
    "_t = 1\n",
    "_l2 = 0.1\n",
    "_eta = 0.1\n",
    "_eps = 1e-8\n",
    "_beta1 = 0.9\n",
    "_beta2 = 0.999\n",
    "\n",
    "\n",
    "def call_t(\n",
    "    params: Parameter, grads: Parameter, state: Parameter\n",
    ") -> Tuple[Parameter, Tuple[Parameter, Parameter]]:\n",
    "    if _t == 0:\n",
    "        raise ValueError()\n",
    "    if state == None:\n",
    "        old_m = Parameter(np.zeros_like(grads.weights), np.zeros_like(grads.bias))\n",
    "        old_v = Parameter(np.zeros_like(grads.weights), np.zeros_like(grads.bias))\n",
    "    else:\n",
    "        old_m = state[0]\n",
    "        old_v = state[1]\n",
    "\n",
    "    temp = grads.weights\n",
    "    if _l2 != 0:\n",
    "        # += here would modify grads.weights\n",
    "        temp = temp + _l2 * params.weights\n",
    "\n",
    "    m_w = _beta1 * old_m.weights + (1 - _beta1) * temp\n",
    "    m_b = _beta1 * old_m.bias + (1 - _beta1) * grads.bias\n",
    "\n",
    "    v_w = _beta2 * old_v.weights + (1 - _beta2) * temp * temp\n",
    "    v_b = _beta2 * old_v.bias + (1 - _beta2) * grads.bias * grads.bias\n",
    "\n",
    "    old_m = Parameter(m_w, m_b)\n",
    "    old_v = Parameter(v_w, v_b)\n",
    "\n",
    "    adj = (1 - _beta2**_t) ** 0.5 / (1 - _beta1**_t)\n",
    "    delta_w = (-_eta * adj) * m_w / (np.sqrt(v_w) + _eps)\n",
    "    delta_b = (-_eta * adj) * m_b / (np.sqrt(v_b) + _eps)\n",
    "\n",
    "    delta = Parameter(delta_w, delta_b)\n",
    "\n",
    "    return (delta, (old_m, old_v))"
   ]
  },
  {
   "cell_type": "code",
   "execution_count": null,
   "metadata": {},
   "outputs": [],
   "source": [
    "from numba.experimental import jitclass\n",
    "from numba import double\n",
    "\n",
    "\n",
    "@jitclass\n",
    "class Parameter:\n",
    "    weights: double[:, :]\n",
    "    bias: double[:]\n",
    "\n",
    "    def __init__(self, w, b):\n",
    "        weights = w\n",
    "        bias = b\n",
    "\n",
    "    def __iadd__(self, other):\n",
    "        self.weights += other.weights\n",
    "        self.bias += other.bias\n",
    "        return self\n",
    "\n",
    "    @property\n",
    "    def shape(self):\n",
    "        return self.weights.shape\n",
    "\n",
    "\n",
    "@jit\n",
    "def opt_call_t(\n",
    "    params: Parameter, grads: Parameter, state: Parameter\n",
    ") -> Tuple[Parameter, Tuple[Parameter, Parameter]]:\n",
    "    if _t == 0:\n",
    "        raise ValueError()\n",
    "    if state == None:\n",
    "        old_m = Parameter(np.zeros_like(grads.weights), np.zeros_like(grads.bias))\n",
    "        old_v = Parameter(np.zeros_like(grads.weights), np.zeros_like(grads.bias))\n",
    "    else:\n",
    "        old_m = state[0]\n",
    "        old_v = state[1]\n",
    "\n",
    "    temp = grads.weights\n",
    "    if _l2 != 0:\n",
    "        # += here would modify grads.weights\n",
    "        temp = temp + _l2 * params.weights\n",
    "\n",
    "    m_w = _beta1 * old_m.weights + (1 - _beta1) * temp\n",
    "    m_b = _beta1 * old_m.bias + (1 - _beta1) * grads.bias\n",
    "\n",
    "    v_w = _beta2 * old_v.weights + (1 - _beta2) * temp * temp\n",
    "    v_b = _beta2 * old_v.bias + (1 - _beta2) * grads.bias * grads.bias\n",
    "\n",
    "    old_m = Parameter(m_w, m_b)\n",
    "    old_v = Parameter(v_w, v_b)\n",
    "\n",
    "    adj = (1 - _beta2**_t) ** 0.5 / (1 - _beta1**_t)\n",
    "    delta_w = (-_eta * adj) * m_w / (np.sqrt(v_w) + _eps)\n",
    "    delta_b = (-_eta * adj) * m_b / (np.sqrt(v_b) + _eps)\n",
    "\n",
    "    delta = Parameter(delta_w, delta_b)\n",
    "\n",
    "    return (delta, (old_m, old_v))"
   ]
  },
  {
   "cell_type": "code",
   "execution_count": null,
   "metadata": {},
   "outputs": [],
   "source": [
    "params = Parameter(np.random.rand(128, 128), np.random.random(128))\n",
    "grads = Parameter(np.random.rand(128, 128), np.random.random(128))\n",
    "state = (\n",
    "    Parameter(np.random.rand(128, 128), np.random.random(128)),\n",
    "    Parameter(np.random.rand(128, 128), np.random.random(128)),\n",
    ")\n",
    "# compile once\n",
    "opt_call_t(params, grads, state);"
   ]
  },
  {
   "cell_type": "code",
   "execution_count": null,
   "metadata": {},
   "outputs": [],
   "source": [
    "%%timeit\n",
    "delta, nstate = call_t(params, grads, state)"
   ]
  },
  {
   "cell_type": "code",
   "execution_count": null,
   "metadata": {},
   "outputs": [],
   "source": [
    "%%timeit\n",
    "delta, nstate = opt_call_t(params, grads, state)"
   ]
  },
  {
   "cell_type": "code",
   "execution_count": null,
   "metadata": {},
   "outputs": [],
   "source": []
  }
 ],
 "metadata": {
  "kernelspec": {
   "display_name": "ML",
   "language": "python",
   "name": "python3"
  },
  "language_info": {
   "codemirror_mode": {
    "name": "ipython",
    "version": 3
   },
   "file_extension": ".py",
   "mimetype": "text/x-python",
   "name": "python",
   "nbconvert_exporter": "python",
   "pygments_lexer": "ipython3",
   "version": "3.10.8"
  },
  "orig_nbformat": 4,
  "vscode": {
   "interpreter": {
    "hash": "5bd504499a3d325a7c1da9f8228712639636db49ae66a9009fa19a793144457f"
   }
  }
 },
 "nbformat": 4,
 "nbformat_minor": 2
}
