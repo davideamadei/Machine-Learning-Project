{
 "cells": [
  {
   "cell_type": "code",
   "execution_count": 1,
   "id": "68552ed8-ef69-4dce-8c59-41aab7bbc3d4",
   "metadata": {},
   "outputs": [],
   "source": [
    "import numpy as np"
   ]
  },
  {
   "cell_type": "code",
   "execution_count": 2,
   "id": "79bb75f2-098e-46b0-b41a-0f9f0e95cde4",
   "metadata": {},
   "outputs": [],
   "source": [
    "a = np.random.rand(12, 2)\n",
    "b = np.random.rand(12, 2)"
   ]
  },
  {
   "cell_type": "code",
   "execution_count": 3,
   "id": "cf2748a3-6da7-4edf-8193-c377b720da0b",
   "metadata": {},
   "outputs": [
    {
     "data": {
      "text/plain": [
       "5.351521860538725"
      ]
     },
     "execution_count": 3,
     "metadata": {},
     "output_type": "execute_result"
    }
   ],
   "source": [
    "np.sum((a[:,0] - b[:,0])**2) + np.sum((a[:,1] - b[:,1])**2)"
   ]
  },
  {
   "cell_type": "code",
   "execution_count": 4,
   "id": "21c1c09d-443f-454f-91aa-dac5b03b8a72",
   "metadata": {},
   "outputs": [
    {
     "data": {
      "text/plain": [
       "5.351521860538725"
      ]
     },
     "execution_count": 4,
     "metadata": {},
     "output_type": "execute_result"
    }
   ],
   "source": [
    "np.sum((a - b)**2)"
   ]
  },
  {
   "cell_type": "code",
   "execution_count": 5,
   "id": "9776c183-c912-47c9-a037-ae1ce18b9713",
   "metadata": {},
   "outputs": [],
   "source": [
    "import torch"
   ]
  },
  {
   "cell_type": "code",
   "execution_count": 6,
   "id": "be6f3fef-8df6-4355-898c-10024f17b4a6",
   "metadata": {},
   "outputs": [],
   "source": [
    "net = torch.nn.Sequential(\n",
    "    torch.nn.Linear(10, 2),\n",
    "    # torch.nn.ReLU()\n",
    ")\n",
    "loss_fn = torch.nn.MSELoss()"
   ]
  },
  {
   "cell_type": "code",
   "execution_count": 7,
   "id": "b9183e16-4d4c-46b1-9d5b-79672cb20142",
   "metadata": {},
   "outputs": [],
   "source": [
    "inputs = torch.rand(8, 10, requires_grad=True)\n",
    "labels = torch.rand(8, 2)"
   ]
  },
  {
   "cell_type": "code",
   "execution_count": 8,
   "id": "ae231c32-7e71-4b2e-ae80-52d67ae9e704",
   "metadata": {},
   "outputs": [],
   "source": [
    "pred = net(inputs)"
   ]
  },
  {
   "cell_type": "code",
   "execution_count": 9,
   "id": "467f0ca9-bae7-4931-ac5e-a606a4931ab7",
   "metadata": {},
   "outputs": [
    {
     "data": {
      "text/plain": [
       "tensor([[-0.0074,  0.6776],\n",
       "        [ 0.5342,  0.5625],\n",
       "        [ 0.3380,  0.4247],\n",
       "        [ 0.4657,  0.1548],\n",
       "        [ 0.2714,  0.8351],\n",
       "        [ 0.1939,  0.6120],\n",
       "        [ 0.4586,  0.2364],\n",
       "        [ 0.2945,  0.1556]], grad_fn=<AddmmBackward0>)"
      ]
     },
     "execution_count": 9,
     "metadata": {},
     "output_type": "execute_result"
    }
   ],
   "source": [
    "pred"
   ]
  },
  {
   "cell_type": "code",
   "execution_count": 10,
   "id": "d2ad284d-05cc-46e6-9a66-13a25020b711",
   "metadata": {},
   "outputs": [],
   "source": [
    "loss = loss_fn(pred, labels)\n",
    "loss.backward()"
   ]
  },
  {
   "cell_type": "code",
   "execution_count": 11,
   "id": "afea065e-8611-4b39-aed7-62522d8077d5",
   "metadata": {},
   "outputs": [
    {
     "data": {
      "text/plain": [
       "tensor(0.0843, grad_fn=<MseLossBackward0>)"
      ]
     },
     "execution_count": 11,
     "metadata": {},
     "output_type": "execute_result"
    }
   ],
   "source": [
    "loss"
   ]
  },
  {
   "cell_type": "code",
   "execution_count": 12,
   "id": "e862f2a9-2529-4dd6-8ff2-46f92a8f7c7a",
   "metadata": {},
   "outputs": [
    {
     "data": {
      "text/plain": [
       "torch.Size([2, 10])"
      ]
     },
     "execution_count": 12,
     "metadata": {},
     "output_type": "execute_result"
    }
   ],
   "source": [
    "net[0].weight.grad.shape"
   ]
  },
  {
   "cell_type": "code",
   "execution_count": 13,
   "id": "03182183-7112-4e3e-bdff-fe0e8b8515e9",
   "metadata": {},
   "outputs": [
    {
     "data": {
      "text/plain": [
       "tuple"
      ]
     },
     "execution_count": 13,
     "metadata": {},
     "output_type": "execute_result"
    }
   ],
   "source": [
    "import numpy as np\n",
    "type(np.random.rand(2,3).shape)"
   ]
  },
  {
   "cell_type": "code",
   "execution_count": 14,
   "id": "85b4ce57-e279-4526-8db3-fab9c8c7bb55",
   "metadata": {},
   "outputs": [],
   "source": [
    "class NeuralLayer:\n",
    "    @staticmethod\n",
    "    def get_activation_function(name):\n",
    "        if name == \"ReLU\":\n",
    "            return (\n",
    "                lambda x: x*(x>0), # function\n",
    "                lambda x: 1*(x>0) # gradient\n",
    "            )\n",
    "        if name == \"None\":\n",
    "            return (\n",
    "                lambda x: x,\n",
    "                lambda x: 1\n",
    "            )\n",
    "        else:\n",
    "            raise ValueError(f\"Invalid Activation Function: {name}\")\n",
    "    \n",
    "    def __init__(\n",
    "        self, \n",
    "        shape, \n",
    "        activation_function = \"ReLU\"\n",
    "    ):\n",
    "        self.weights = np.random.rand(*shape[::-1])\n",
    "        self.bias = np.random.rand(shape[1])\n",
    "        self.activation, self.activation_gradient = NeuralLayer.get_activation_function(activation_function)\n",
    "        self.weights_gradient = np.empty(shape[::-1])\n",
    "        self.bias_gradient = np.empty(shape[1])\n",
    "        # self.momentum = get_momentum_function(momentum)\n",
    "        # self.regularization = get_regularization_function(regularization)\n",
    "        \n",
    "    def __call__(self, data):\n",
    "        self.input_buffer = data\n",
    "        output = data @ self.weights.T + self.bias.T\n",
    "        return self.activation(output)\n",
    "    \n",
    "    def backward(self, output_gradient):\n",
    "        self.bias_gradient[:] = output_gradient.sum(axis=0)\n",
    "        self.weights_gradient[:] = output_gradient.T @ self.input_buffer\n",
    "        input_gradient = (output_gradient @ self.weights)\n",
    "        return input_gradient\n",
    "        \n",
    "    def update_weights(self):\n",
    "        pass\n",
    "    \n",
    "    def zero_gradient(self):\n",
    "        self.bias_gradient[:] = 0\n",
    "        self.weights_gradient[:] = 0\n",
    "        self.output_buffer = None"
   ]
  },
  {
   "cell_type": "code",
   "execution_count": 15,
   "id": "b0f5973c-17b2-449b-b8a5-dfc2ff2548cc",
   "metadata": {},
   "outputs": [],
   "source": [
    "mynet = NeuralLayer((10,2), activation_function=\"None\")"
   ]
  },
  {
   "cell_type": "code",
   "execution_count": 16,
   "id": "2d25658d-168d-46f5-a1be-871c53ae8e97",
   "metadata": {},
   "outputs": [],
   "source": [
    "mynet.weights[:] = net[0].weight.detach().numpy()\n",
    "mynet.bias[:] = net[0].bias.detach().numpy()\n",
    "myinputs = inputs.detach().numpy()\n",
    "mylabels = labels.numpy()\n",
    "myloss_fn = lambda pred, labels: 1/(2*pred.shape[0]) * np.sum((labels - pred)**2)\n",
    "myloss_grad = lambda pred, labels: 1/pred.shape[0] * (pred - labels)"
   ]
  },
  {
   "cell_type": "code",
   "execution_count": 17,
   "id": "7cce94f0-6fbd-476b-9794-033bb6ef2959",
   "metadata": {},
   "outputs": [],
   "source": [
    "mypred = mynet(myinputs)"
   ]
  },
  {
   "cell_type": "markdown",
   "id": "a3df6803-31fc-4720-b679-89bae6696abb",
   "metadata": {},
   "source": [
    "### $\\frac{\\partial L}{\\partial b^L}$"
   ]
  },
  {
   "cell_type": "code",
   "execution_count": 18,
   "id": "41ad3b9e-a96b-4c9a-b813-12a5042016b5",
   "metadata": {},
   "outputs": [
    {
     "data": {
      "text/plain": [
       "tensor([-0.0107, -0.1315])"
      ]
     },
     "execution_count": 18,
     "metadata": {},
     "output_type": "execute_result"
    }
   ],
   "source": [
    "net[0].bias.grad"
   ]
  },
  {
   "cell_type": "code",
   "execution_count": 19,
   "id": "9ce7b432-d094-4e61-a5f0-ee1675d97a03",
   "metadata": {},
   "outputs": [
    {
     "data": {
      "text/plain": [
       "array([-0.01073851, -0.13148743])"
      ]
     },
     "execution_count": 19,
     "metadata": {},
     "output_type": "execute_result"
    }
   ],
   "source": [
    "myloss_grad(mypred, mylabels).sum(axis=0)"
   ]
  },
  {
   "cell_type": "markdown",
   "id": "f330f869-a568-4510-a9c8-f2b235aa119d",
   "metadata": {},
   "source": [
    "### $\\frac{\\partial L}{\\partial W^L}$"
   ]
  },
  {
   "cell_type": "code",
   "execution_count": 20,
   "id": "8f263b4c-b477-4f6f-91fd-080175f51424",
   "metadata": {},
   "outputs": [
    {
     "data": {
      "text/plain": [
       "tensor([[ 0.0167, -0.0202, -0.0091,  0.0231,  0.0613,  0.0456, -0.0147,  0.0204,\n",
       "         -0.0194,  0.0057],\n",
       "        [-0.0576, -0.0726, -0.0731,  0.0101, -0.0225, -0.0834, -0.0330, -0.0435,\n",
       "         -0.0400, -0.0713]])"
      ]
     },
     "execution_count": 20,
     "metadata": {},
     "output_type": "execute_result"
    }
   ],
   "source": [
    "net[0].weight.grad"
   ]
  },
  {
   "cell_type": "code",
   "execution_count": 21,
   "id": "7981858d-9325-4979-ac05-3809cd7e5e8a",
   "metadata": {},
   "outputs": [
    {
     "data": {
      "text/plain": [
       "array([[ 0.01674437, -0.02023538, -0.00913341,  0.02308217,  0.06130684,\n",
       "         0.04563345, -0.01467364,  0.02041105, -0.01937562,  0.0057479 ],\n",
       "       [-0.05760419, -0.07262027, -0.07313376,  0.0100964 , -0.02253775,\n",
       "        -0.08342972, -0.0329759 , -0.0434947 , -0.03999242, -0.07133868]])"
      ]
     },
     "execution_count": 21,
     "metadata": {},
     "output_type": "execute_result"
    }
   ],
   "source": [
    "myloss_grad(mypred, mylabels).T @ mynet.input_buffer"
   ]
  },
  {
   "cell_type": "markdown",
   "id": "79eeb496-1021-48be-aa6b-d5a16d1aece8",
   "metadata": {},
   "source": [
    "### $\\frac{\\partial L}{\\partial o^{[L-1]}}$"
   ]
  },
  {
   "cell_type": "code",
   "execution_count": 22,
   "id": "cf4fa56f-1ee1-4c3d-97f3-8bd0e8faf240",
   "metadata": {},
   "outputs": [
    {
     "data": {
      "text/plain": [
       "tensor([[ 5.3356e-04, -3.9569e-03,  5.2732e-03,  2.0215e-03, -6.0722e-03,\n",
       "         -4.5945e-03,  6.3452e-03, -6.6904e-03, -2.5719e-05,  1.0113e-03],\n",
       "        [ 3.8793e-03,  1.9305e-02, -4.6591e-05, -1.5163e-02,  5.3236e-03,\n",
       "          1.2374e-02, -1.7701e-02,  5.9868e-03, -6.9876e-03, -9.7980e-03],\n",
       "        [-4.4639e-04, -4.4226e-03,  1.7629e-03,  3.1120e-03, -2.8778e-03,\n",
       "         -3.5199e-03,  4.9596e-03, -3.1902e-03,  1.1154e-03,  1.9127e-03],\n",
       "        [ 1.7581e-03,  1.3312e-02, -3.6649e-03, -9.7062e-03,  7.1088e-03,\n",
       "          9.9532e-03, -1.4081e-02,  7.8989e-03, -3.8122e-03, -6.0684e-03],\n",
       "        [-1.8511e-03, -4.8257e-03, -3.4801e-03,  4.5109e-03,  1.9735e-03,\n",
       "         -1.7276e-03,  2.6221e-03,  2.1277e-03,  2.7138e-03,  3.1105e-03],\n",
       "        [-1.9843e-03, -3.4129e-03, -5.1356e-03,  3.7423e-03,  3.9265e-03,\n",
       "         -1.7600e-04,  4.7391e-04,  4.2805e-03,  2.6601e-03,  2.7064e-03],\n",
       "        [ 1.7446e-03,  3.6840e-03,  3.9696e-03, -3.7146e-03, -2.7490e-03,\n",
       "          8.0542e-04, -1.3240e-03, -2.9870e-03, -2.4354e-03, -2.6233e-03],\n",
       "        [ 9.9410e-03,  1.9498e-02,  2.3813e-02, -2.0239e-02, -1.7202e-02,\n",
       "          3.1669e-03, -5.5607e-03, -1.8718e-02, -1.3666e-02, -1.4415e-02]])"
      ]
     },
     "execution_count": 22,
     "metadata": {},
     "output_type": "execute_result"
    }
   ],
   "source": [
    "inputs.grad"
   ]
  },
  {
   "cell_type": "code",
   "execution_count": 23,
   "id": "b1fb6b0c-6b28-4647-aa42-2847152a7735",
   "metadata": {},
   "outputs": [
    {
     "data": {
      "text/plain": [
       "array([[ 5.33562567e-04, -3.95687959e-03,  5.27319249e-03,\n",
       "         2.02153306e-03, -6.07218158e-03, -4.59454736e-03,\n",
       "         6.34518647e-03, -6.69035362e-03, -2.57197519e-05,\n",
       "         1.01131409e-03],\n",
       "       [ 3.87932328e-03,  1.93051496e-02, -4.65914507e-05,\n",
       "        -1.51629625e-02,  5.32361932e-03,  1.23736871e-02,\n",
       "        -1.77005520e-02,  5.98675137e-03, -6.98759402e-03,\n",
       "        -9.79797316e-03],\n",
       "       [-4.46386636e-04, -4.42259321e-03,  1.76295051e-03,\n",
       "         3.11201884e-03, -2.87777472e-03, -3.51990990e-03,\n",
       "         4.95955679e-03, -3.19023385e-03,  1.11543107e-03,\n",
       "         1.91272672e-03],\n",
       "       [ 1.75805536e-03,  1.33123008e-02, -3.66493193e-03,\n",
       "        -9.70620187e-03,  7.10877199e-03,  9.95318148e-03,\n",
       "        -1.40811372e-02,  7.89888590e-03, -3.81223338e-03,\n",
       "        -6.06836473e-03],\n",
       "       [-1.85111714e-03, -4.82568890e-03, -3.48007590e-03,\n",
       "         4.51091384e-03,  1.97350412e-03, -1.72758205e-03,\n",
       "         2.62209535e-03,  2.12765209e-03,  2.71382444e-03,\n",
       "         3.11051731e-03],\n",
       "       [-1.98426714e-03, -3.41293130e-03, -5.13560465e-03,\n",
       "         3.74225753e-03,  3.92650162e-03, -1.76001535e-04,\n",
       "         4.73907229e-04,  4.28054443e-03,  2.66007635e-03,\n",
       "         2.70640748e-03],\n",
       "       [ 1.74457409e-03,  3.68395746e-03,  3.96964502e-03,\n",
       "        -3.71462830e-03, -2.74902534e-03,  8.05415246e-04,\n",
       "        -1.32395937e-03, -2.98699351e-03, -2.43540750e-03,\n",
       "        -2.62325443e-03],\n",
       "       [ 9.94100448e-03,  1.94982154e-02,  2.38128078e-02,\n",
       "        -2.02389503e-02, -1.72019159e-02,  3.16690920e-03,\n",
       "        -5.56065158e-03, -1.87181849e-02, -1.36662169e-02,\n",
       "        -1.44149884e-02]])"
      ]
     },
     "execution_count": 23,
     "metadata": {},
     "output_type": "execute_result"
    }
   ],
   "source": [
    "myloss_grad(mypred, mylabels) @ mynet.weights"
   ]
  },
  {
   "cell_type": "code",
   "execution_count": null,
   "id": "fe346627-d273-4033-adf7-0e63128cd1c6",
   "metadata": {},
   "outputs": [],
   "source": []
  }
 ],
 "metadata": {
  "kernelspec": {
   "display_name": "Python 3 (ipykernel)",
   "language": "python",
   "name": "python3"
  },
  "language_info": {
   "codemirror_mode": {
    "name": "ipython",
    "version": 3
   },
   "file_extension": ".py",
   "mimetype": "text/x-python",
   "name": "python",
   "nbconvert_exporter": "python",
   "pygments_lexer": "ipython3",
   "version": "3.10.8"
  }
 },
 "nbformat": 4,
 "nbformat_minor": 5
}
