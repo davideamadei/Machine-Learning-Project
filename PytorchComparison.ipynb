{
 "cells": [
  {
   "cell_type": "code",
   "execution_count": 1,
   "id": "68552ed8-ef69-4dce-8c59-41aab7bbc3d4",
   "metadata": {},
   "outputs": [],
   "source": [
    "import numpy as np"
   ]
  },
  {
   "cell_type": "code",
   "execution_count": 2,
   "id": "79bb75f2-098e-46b0-b41a-0f9f0e95cde4",
   "metadata": {},
   "outputs": [],
   "source": [
    "a = np.random.rand(12, 2)\n",
    "b = np.random.rand(12, 2)"
   ]
  },
  {
   "cell_type": "code",
   "execution_count": 3,
   "id": "cf2748a3-6da7-4edf-8193-c377b720da0b",
   "metadata": {},
   "outputs": [
    {
     "data": {
      "text/plain": [
       "4.82375722592738"
      ]
     },
     "execution_count": 3,
     "metadata": {},
     "output_type": "execute_result"
    }
   ],
   "source": [
    "np.sum((a[:,0] - b[:,0])**2) + np.sum((a[:,1] - b[:,1])**2)"
   ]
  },
  {
   "cell_type": "code",
   "execution_count": 4,
   "id": "21c1c09d-443f-454f-91aa-dac5b03b8a72",
   "metadata": {},
   "outputs": [
    {
     "data": {
      "text/plain": [
       "4.82375722592738"
      ]
     },
     "execution_count": 4,
     "metadata": {},
     "output_type": "execute_result"
    }
   ],
   "source": [
    "np.sum((a - b)**2)"
   ]
  },
  {
   "cell_type": "code",
   "execution_count": 5,
   "id": "9776c183-c912-47c9-a037-ae1ce18b9713",
   "metadata": {},
   "outputs": [],
   "source": [
    "import torch"
   ]
  },
  {
   "cell_type": "code",
   "execution_count": 6,
   "id": "be6f3fef-8df6-4355-898c-10024f17b4a6",
   "metadata": {},
   "outputs": [],
   "source": [
    "net = torch.nn.Sequential(\n",
    "    torch.nn.Linear(10, 2)\n",
    ")\n",
    "loss_fn = torch.nn.MSELoss()"
   ]
  },
  {
   "cell_type": "code",
   "execution_count": 7,
   "id": "b9183e16-4d4c-46b1-9d5b-79672cb20142",
   "metadata": {},
   "outputs": [],
   "source": [
    "inputs = torch.rand(8, 10, requires_grad=True)\n",
    "labels = torch.rand(8, 2)"
   ]
  },
  {
   "cell_type": "code",
   "execution_count": 8,
   "id": "ae231c32-7e71-4b2e-ae80-52d67ae9e704",
   "metadata": {},
   "outputs": [],
   "source": [
    "pred = net(inputs)"
   ]
  },
  {
   "cell_type": "code",
   "execution_count": 9,
   "id": "467f0ca9-bae7-4931-ac5e-a606a4931ab7",
   "metadata": {},
   "outputs": [
    {
     "data": {
      "text/plain": [
       "tensor([[ 0.0797, -0.2756],\n",
       "        [-0.0101, -0.1831],\n",
       "        [ 0.0669, -0.0967],\n",
       "        [-0.1646, -0.5744],\n",
       "        [-0.0902, -0.3358],\n",
       "        [-0.3111, -0.5636],\n",
       "        [-0.2012, -0.3271],\n",
       "        [-0.3644, -0.1183]], grad_fn=<AddmmBackward0>)"
      ]
     },
     "execution_count": 9,
     "metadata": {},
     "output_type": "execute_result"
    }
   ],
   "source": [
    "pred"
   ]
  },
  {
   "cell_type": "code",
   "execution_count": 10,
   "id": "d2ad284d-05cc-46e6-9a66-13a25020b711",
   "metadata": {},
   "outputs": [],
   "source": [
    "loss = loss_fn(pred, labels)\n",
    "loss.backward()"
   ]
  },
  {
   "cell_type": "code",
   "execution_count": 11,
   "id": "afea065e-8611-4b39-aed7-62522d8077d5",
   "metadata": {},
   "outputs": [
    {
     "data": {
      "text/plain": [
       "tensor(0.7818, grad_fn=<MseLossBackward0>)"
      ]
     },
     "execution_count": 11,
     "metadata": {},
     "output_type": "execute_result"
    }
   ],
   "source": [
    "loss"
   ]
  },
  {
   "cell_type": "code",
   "execution_count": 14,
   "id": "85b4ce57-e279-4526-8db3-fab9c8c7bb55",
   "metadata": {},
   "outputs": [],
   "source": [
    "class NeuralLayer:\n",
    "    @staticmethod\n",
    "    def get_activation_function(name):\n",
    "        if name == \"ReLU\":\n",
    "            return (\n",
    "                lambda x: x*(x>0), # function\n",
    "                lambda x: 1*(x>0) # gradient\n",
    "            )\n",
    "        if name == \"None\":\n",
    "            return (\n",
    "                lambda x: x,\n",
    "                lambda x: 1\n",
    "            )\n",
    "        else:\n",
    "            raise ValueError(f\"Invalid Activation Function: {name}\")\n",
    "    \n",
    "    def __init__(\n",
    "        self, \n",
    "        shape, \n",
    "        activation_function = \"ReLU\"\n",
    "    ):\n",
    "        self.weights = np.random.rand(*shape[::-1])\n",
    "        self.bias = np.random.rand(shape[1])\n",
    "        self.activation, self.activation_gradient = NeuralLayer.get_activation_function(activation_function)\n",
    "        self.weights_gradient = np.empty(shape[::-1])\n",
    "        self.bias_gradient = np.empty(shape[1])\n",
    "        # self.momentum = get_momentum_function(momentum)\n",
    "        # self.regularization = get_regularization_function(regularization)\n",
    "        \n",
    "    def __call__(self, data):\n",
    "        self.input_buffer = data\n",
    "        output = data @ self.weights.T + self.bias.T\n",
    "        return self.activation(output)\n",
    "    \n",
    "    def backward(self, output_gradient):\n",
    "        self.bias_gradient[:] = output_gradient.sum(axis=0)\n",
    "        self.weights_gradient[:] = output_gradient.T @ self.input_buffer\n",
    "        input_gradient = (output_gradient @ self.weights)\n",
    "        return input_gradient\n",
    "        \n",
    "    def update_weights(self):\n",
    "        pass\n",
    "    \n",
    "    def zero_gradient(self):\n",
    "        self.bias_gradient[:] = 0\n",
    "        self.weights_gradient[:] = 0\n",
    "        self.output_buffer = None"
   ]
  },
  {
   "cell_type": "code",
   "execution_count": 15,
   "id": "b0f5973c-17b2-449b-b8a5-dfc2ff2548cc",
   "metadata": {},
   "outputs": [],
   "source": [
    "mynet = NeuralLayer((10,2), activation_function=\"None\")"
   ]
  },
  {
   "cell_type": "code",
   "execution_count": 16,
   "id": "2d25658d-168d-46f5-a1be-871c53ae8e97",
   "metadata": {},
   "outputs": [],
   "source": [
    "mynet.weights[:] = net[0].weight.detach().numpy()\n",
    "mynet.bias[:] = net[0].bias.detach().numpy()\n",
    "myinputs = inputs.detach().numpy()\n",
    "mylabels = labels.numpy()\n",
    "myloss_fn = lambda pred, labels: 1/(2*pred.shape[0]) * np.sum((labels - pred)**2)\n",
    "myloss_grad = lambda pred, labels: 1/pred.shape[0] * (pred - labels)"
   ]
  },
  {
   "cell_type": "code",
   "execution_count": 17,
   "id": "7cce94f0-6fbd-476b-9794-033bb6ef2959",
   "metadata": {},
   "outputs": [],
   "source": [
    "mypred = mynet(myinputs)"
   ]
  },
  {
   "cell_type": "code",
   "execution_count": 18,
   "id": "f0e8af72-8586-42fc-896d-e1227ab4ed36",
   "metadata": {},
   "outputs": [],
   "source": [
    "mybackward = mynet.backward(myloss_grad(mypred, mylabels))"
   ]
  },
  {
   "cell_type": "markdown",
   "id": "a3df6803-31fc-4720-b679-89bae6696abb",
   "metadata": {},
   "source": [
    "### $\\frac{\\partial L}{\\partial b^L}$"
   ]
  },
  {
   "cell_type": "code",
   "execution_count": 19,
   "id": "41ad3b9e-a96b-4c9a-b813-12a5042016b5",
   "metadata": {},
   "outputs": [
    {
     "data": {
      "text/plain": [
       "tensor([-0.7730, -0.8788])"
      ]
     },
     "execution_count": 19,
     "metadata": {},
     "output_type": "execute_result"
    }
   ],
   "source": [
    "net[0].bias.grad"
   ]
  },
  {
   "cell_type": "code",
   "execution_count": 20,
   "id": "9ce7b432-d094-4e61-a5f0-ee1675d97a03",
   "metadata": {},
   "outputs": [
    {
     "data": {
      "text/plain": [
       "array([-0.77296116, -0.87880203])"
      ]
     },
     "execution_count": 20,
     "metadata": {},
     "output_type": "execute_result"
    }
   ],
   "source": [
    "mynet.bias_gradient"
   ]
  },
  {
   "cell_type": "code",
   "execution_count": 21,
   "id": "b4f5436a-06fd-4e20-b53f-b6b82ac5eb9d",
   "metadata": {},
   "outputs": [
    {
     "data": {
      "text/plain": [
       "True"
      ]
     },
     "execution_count": 21,
     "metadata": {},
     "output_type": "execute_result"
    }
   ],
   "source": [
    "np.allclose(net[0].bias.grad, mynet.bias_gradient)"
   ]
  },
  {
   "cell_type": "markdown",
   "id": "f330f869-a568-4510-a9c8-f2b235aa119d",
   "metadata": {},
   "source": [
    "### $\\frac{\\partial L}{\\partial W^L}$"
   ]
  },
  {
   "cell_type": "code",
   "execution_count": 22,
   "id": "8f263b4c-b477-4f6f-91fd-080175f51424",
   "metadata": {},
   "outputs": [
    {
     "data": {
      "text/plain": [
       "tensor([[-0.2469, -0.4180, -0.4212, -0.4119, -0.2387, -0.5068, -0.4721, -0.4150,\n",
       "         -0.3045, -0.4195],\n",
       "        [-0.2739, -0.4735, -0.5399, -0.4461, -0.3524, -0.5359, -0.4754, -0.4382,\n",
       "         -0.4070, -0.4753]])"
      ]
     },
     "execution_count": 22,
     "metadata": {},
     "output_type": "execute_result"
    }
   ],
   "source": [
    "net[0].weight.grad"
   ]
  },
  {
   "cell_type": "code",
   "execution_count": 23,
   "id": "7981858d-9325-4979-ac05-3809cd7e5e8a",
   "metadata": {},
   "outputs": [
    {
     "data": {
      "text/plain": [
       "array([[-0.24693766, -0.41796969, -0.42115039, -0.41191583, -0.23870429,\n",
       "        -0.50677284, -0.47206002, -0.41498892, -0.3045326 , -0.41948812],\n",
       "       [-0.27385473, -0.47349682, -0.53985129, -0.44611956, -0.35236976,\n",
       "        -0.5359183 , -0.47536654, -0.43817902, -0.40701409, -0.47530964]])"
      ]
     },
     "execution_count": 23,
     "metadata": {},
     "output_type": "execute_result"
    }
   ],
   "source": [
    "mynet.weights_gradient"
   ]
  },
  {
   "cell_type": "code",
   "execution_count": 24,
   "id": "88263c66-e4b3-4db3-82d3-54489123845a",
   "metadata": {},
   "outputs": [
    {
     "data": {
      "text/plain": [
       "True"
      ]
     },
     "execution_count": 24,
     "metadata": {},
     "output_type": "execute_result"
    }
   ],
   "source": [
    "np.allclose(net[0].weight.grad, mynet.weights_gradient)"
   ]
  },
  {
   "cell_type": "markdown",
   "id": "79eeb496-1021-48be-aa6b-d5a16d1aece8",
   "metadata": {},
   "source": [
    "### $\\frac{\\partial L}{\\partial o^{[L-1]}}$"
   ]
  },
  {
   "cell_type": "code",
   "execution_count": 25,
   "id": "cf4fa56f-1ee1-4c3d-97f3-8bd0e8faf240",
   "metadata": {},
   "outputs": [
    {
     "data": {
      "text/plain": [
       "tensor([[ 0.0472,  0.0237, -0.0030,  0.0475,  0.0265, -0.0684,  0.0672, -0.0168,\n",
       "          0.0556, -0.0270],\n",
       "        [ 0.0344,  0.0145, -0.0062,  0.0351,  0.0161, -0.0499,  0.0494, -0.0066,\n",
       "          0.0416, -0.0234],\n",
       "        [ 0.0188,  0.0055, -0.0070,  0.0195,  0.0058, -0.0273,  0.0273,  0.0015,\n",
       "          0.0237, -0.0161],\n",
       "        [ 0.0322,  0.0281,  0.0154,  0.0306,  0.0323, -0.0467,  0.0442, -0.0361,\n",
       "          0.0333, -0.0023],\n",
       "        [ 0.0511,  0.0232, -0.0067,  0.0518,  0.0258, -0.0741,  0.0731, -0.0132,\n",
       "          0.0612, -0.0324],\n",
       "        [ 0.0500,  0.0156, -0.0169,  0.0518,  0.0169, -0.0725,  0.0725,  0.0017,\n",
       "          0.0626, -0.0413],\n",
       "        [ 0.0376,  0.0239,  0.0049,  0.0371,  0.0270, -0.0545,  0.0529, -0.0237,\n",
       "          0.0424, -0.0148],\n",
       "        [ 0.0386,  0.0047, -0.0239,  0.0411,  0.0043, -0.0560,  0.0571,  0.0165,\n",
       "          0.0512, -0.0418]])"
      ]
     },
     "execution_count": 25,
     "metadata": {},
     "output_type": "execute_result"
    }
   ],
   "source": [
    "inputs.grad"
   ]
  },
  {
   "cell_type": "code",
   "execution_count": 26,
   "id": "b1fb6b0c-6b28-4647-aa42-2847152a7735",
   "metadata": {},
   "outputs": [
    {
     "data": {
      "text/plain": [
       "array([[ 0.0471791 ,  0.0236846 , -0.00297638,  0.04752408,  0.02650434,\n",
       "        -0.06843189,  0.06721985, -0.01677932,  0.05562619, -0.02695742],\n",
       "       [ 0.03441968,  0.01453626, -0.00617188,  0.03509367,  0.01609052,\n",
       "        -0.04993307,  0.04942417, -0.00659239,  0.04164364, -0.02335442],\n",
       "       [ 0.0187929 ,  0.0054538 , -0.00699101,  0.01954318,  0.0058472 ,\n",
       "        -0.02727065,  0.02733257,  0.00151409,  0.02369787, -0.01608931],\n",
       "       [ 0.03219908,  0.02813908,  0.01543325,  0.03059085,  0.03225896,\n",
       "        -0.04666741,  0.04420155, -0.0361133 ,  0.03333062, -0.00229955],\n",
       "       [ 0.05107765,  0.0232364 , -0.00673042,  0.05182148,  0.02584814,\n",
       "        -0.07409395,  0.0731109 , -0.01321209,  0.06115348, -0.03241868],\n",
       "       [ 0.04999102,  0.01564844, -0.01693301,  0.05181118,  0.01690407,\n",
       "        -0.07253922,  0.07254781,  0.00167819,  0.0625973 , -0.04126553],\n",
       "       [ 0.03760526,  0.0238728 ,  0.00491175,  0.03711128,  0.02703602,\n",
       "        -0.05453014,  0.0528806 , -0.02366027,  0.04240569, -0.01477269],\n",
       "       [ 0.0386038 ,  0.00469618, -0.0238507 ,  0.04114681,  0.00431132,\n",
       "        -0.05603832,  0.05705592,  0.01651093,  0.05119719, -0.04179783]])"
      ]
     },
     "execution_count": 26,
     "metadata": {},
     "output_type": "execute_result"
    }
   ],
   "source": [
    "mybackward"
   ]
  },
  {
   "cell_type": "code",
   "execution_count": 27,
   "id": "fe346627-d273-4033-adf7-0e63128cd1c6",
   "metadata": {},
   "outputs": [
    {
     "data": {
      "text/plain": [
       "True"
      ]
     },
     "execution_count": 27,
     "metadata": {},
     "output_type": "execute_result"
    }
   ],
   "source": [
    "np.allclose(inputs.grad, mybackward)"
   ]
  }
 ],
 "metadata": {
  "kernelspec": {
   "display_name": "Python 3 (ipykernel)",
   "language": "python",
   "name": "python3"
  },
  "language_info": {
   "codemirror_mode": {
    "name": "ipython",
    "version": 3
   },
   "file_extension": ".py",
   "mimetype": "text/x-python",
   "name": "python",
   "nbconvert_exporter": "python",
   "pygments_lexer": "ipython3",
   "version": "3.10.8"
  }
 },
 "nbformat": 4,
 "nbformat_minor": 5
}
