{
 "cells": [
  {
   "cell_type": "code",
   "execution_count": 1,
   "metadata": {},
   "outputs": [],
   "source": [
    "import numpy as np\n",
    "import torch"
   ]
  },
  {
   "cell_type": "code",
   "execution_count": 2,
   "metadata": {},
   "outputs": [],
   "source": [
    "from ddnn.nn import Initializer\n",
    "\n",
    "Initializer(\"random_uniform\")((4, 5))\n",
    "Initializer(\"random_normal\")((4, 5))\n",
    "Initializer(\"glorot_uniform\")((4, 5))\n",
    "Initializer(\"glorot_normal\")((4, 5))\n",
    "Initializer(\"he_uniform\", fan_mode=\"fan_in\")((4, 5))\n",
    "Initializer(\"he_normal\", fan_mode=\"fan_out\")((4, 5));"
   ]
  },
  {
   "cell_type": "code",
   "execution_count": 3,
   "metadata": {},
   "outputs": [
    {
     "name": "stderr",
     "output_type": "stream",
     "text": [
      "/home/david/uni/ml/Machine-Learning-Project/ddnn/nn/activation.py:86: RuntimeWarning: overflow encountered in exp\n",
      "  return 1 / (1 + np.exp(-x))\n"
     ]
    }
   ],
   "source": [
    "from ddnn.nn import ActivationFunction\n",
    "\n",
    "inputs = np.array([0, -1, 1, -1e5, 1e5, 1e-5, -1e-5])\n",
    "tinput = torch.Tensor(inputs).requires_grad_()\n",
    "\n",
    "tinput.grad = None\n",
    "afun = ActivationFunction(\"ReLU\")\n",
    "outputs = afun.foward(inputs)\n",
    "expected = torch.nn.ReLU()(tinput)\n",
    "assert np.allclose(outputs, expected.detach()), \"ReLU func\"\n",
    "expected.sum().backward()\n",
    "assert np.allclose(afun.backward(np.ones_like(outputs)), tinput.grad), \"ReLU grad\"\n",
    "\n",
    "tinput.grad = None\n",
    "afun = ActivationFunction(\"logistic\")\n",
    "outputs = afun.foward(inputs)\n",
    "expected = torch.nn.Sigmoid()(tinput)\n",
    "assert np.allclose(outputs, expected.detach()), \"logistic func\"\n",
    "expected.sum().backward()\n",
    "assert np.allclose(afun.backward(np.ones_like(outputs)), tinput.grad), \"logistic grad\"\n",
    "\n",
    "tinput.grad = None\n",
    "afun = ActivationFunction(\"tanh\")\n",
    "outputs = afun.foward(inputs)\n",
    "expected = torch.nn.Tanh()(tinput)\n",
    "assert np.allclose(outputs, expected.detach()), \"tanh func\"\n",
    "expected.sum().backward()\n",
    "assert np.allclose(afun.backward(np.ones_like(outputs)), tinput.grad), \"tanh grad\"\n"
   ]
  },
  {
   "cell_type": "code",
   "execution_count": 4,
   "metadata": {},
   "outputs": [],
   "source": [
    "from ddnn.nn import LossFunction\n",
    "\n",
    "inputs = np.array([0,  1, 0, 1])\n",
    "labels = np.array([0,  0, 1, 1])\n",
    "tinput = torch.Tensor(inputs).requires_grad_()\n",
    "tlabels = torch.Tensor(labels)\n",
    "\n",
    "tinput.grad = None\n",
    "lfun = LossFunction(\"MSE\")\n",
    "outputs = lfun.foward(inputs.reshape(inputs.size, 1), labels)\n",
    "expected = torch.nn.MSELoss()(tinput, tlabels)\n",
    "assert np.allclose(outputs, expected.detach()), \"MSE func\"\n",
    "expected.backward()\n",
    "assert np.allclose(lfun.backward().squeeze(), tinput.grad), \"MSE grad\"\n",
    "\n",
    "# TODO add manual check for accuracy and MEE"
   ]
  },
  {
   "cell_type": "code",
   "execution_count": null,
   "metadata": {},
   "outputs": [],
   "source": []
  }
 ],
 "metadata": {
  "kernelspec": {
   "display_name": "ML",
   "language": "python",
   "name": "python3"
  },
  "language_info": {
   "codemirror_mode": {
    "name": "ipython",
    "version": 3
   },
   "file_extension": ".py",
   "mimetype": "text/x-python",
   "name": "python",
   "nbconvert_exporter": "python",
   "pygments_lexer": "ipython3",
   "version": "3.10.8"
  },
  "orig_nbformat": 4,
  "vscode": {
   "interpreter": {
    "hash": "29308c18330174df5d08dc27cbd59630723a13c381a5b5f57befcdc7a6962bd9"
   }
  }
 },
 "nbformat": 4,
 "nbformat_minor": 2
}
