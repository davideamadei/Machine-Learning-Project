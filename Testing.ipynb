{
 "cells": [
  {
   "cell_type": "code",
   "execution_count": 1,
   "metadata": {},
   "outputs": [],
   "source": [
    "import numpy as np\n",
    "import torch"
   ]
  },
  {
   "cell_type": "code",
   "execution_count": 2,
   "metadata": {},
   "outputs": [],
   "source": [
    "from ddnn.nn import Initializer\n",
    "\n",
    "Initializer(\"random_uniform\")((4, 5))\n",
    "Initializer(\"random_normal\")((4, 5))\n",
    "Initializer(\"glorot_uniform\")((4, 5))\n",
    "Initializer(\"glorot_normal\")((4, 5))\n",
    "Initializer(\"he_uniform\", fan_mode=\"fan_in\")((4, 5))\n",
    "Initializer(\"he_normal\", fan_mode=\"fan_out\")((4, 5));"
   ]
  },
  {
   "cell_type": "code",
   "execution_count": 3,
   "metadata": {},
   "outputs": [
    {
     "name": "stderr",
     "output_type": "stream",
     "text": [
      "/home/david/uni/ml/Machine-Learning-Project/ddnn/nn/activation.py:86: RuntimeWarning: overflow encountered in exp\n",
      "  return 1 / (1 + np.exp(-x))\n"
     ]
    }
   ],
   "source": [
    "from ddnn.nn import ActivationFunction\n",
    "\n",
    "\n",
    "def assert_activation_function(fname, pytorch_equivalent):\n",
    "    inputs = np.array([0, -1, 1, -1e5, 1e5, 1e-5, -1e-5])\n",
    "    tinput = torch.Tensor(inputs).requires_grad_()\n",
    "    afun = ActivationFunction(fname)\n",
    "\n",
    "    outputs = afun.foward(inputs)\n",
    "    expected = pytorch_equivalent(tinput)\n",
    "    assert np.allclose(outputs, expected.detach()), f\"{fname} func\"\n",
    "\n",
    "    expected.sum().backward()\n",
    "    assert np.allclose(\n",
    "        afun.backward(np.ones_like(outputs)), tinput.grad\n",
    "    ), f\"{fname} grad\"\n",
    "\n",
    "\n",
    "assert_activation_function(\"ReLU\", torch.nn.ReLU())\n",
    "assert_activation_function(\"logistic\", torch.nn.Sigmoid())\n",
    "assert_activation_function(\"tanh\", torch.nn.Tanh())\n",
    "# overflow error in logistic function can be safely ignored"
   ]
  },
  {
   "cell_type": "code",
   "execution_count": 4,
   "metadata": {},
   "outputs": [],
   "source": [
    "from ddnn.nn import LossFunction\n",
    "\n",
    "inputs = np.array([0, 1, 0, 1])\n",
    "labels = np.array([0, 0, 1, 1])\n",
    "tinput = torch.Tensor(inputs).requires_grad_()\n",
    "tlabels = torch.Tensor(labels)\n",
    "\n",
    "tinput.grad = None\n",
    "lfun = LossFunction(\"MSE\")\n",
    "outputs = lfun.foward(inputs.reshape(inputs.size, 1), labels)\n",
    "expected = torch.nn.MSELoss()(tinput, tlabels)\n",
    "assert np.allclose(outputs, expected.detach()), \"MSE func\"\n",
    "expected.backward()\n",
    "assert np.allclose(lfun.backward().squeeze(), tinput.grad), \"MSE grad\"\n",
    "\n",
    "# TODO add manual check for accuracy and MEE"
   ]
  },
  {
   "cell_type": "code",
   "execution_count": 5,
   "metadata": {},
   "outputs": [],
   "source": [
    "from ddnn.nn import LinearLayer\n",
    "\n",
    "tlayer = torch.nn.Linear(10, 2)\n",
    "layer = LinearLayer((10, 2))\n",
    "layer.params.weights[:] = tlayer.weight.detach()\n",
    "layer.params.bias[:] = tlayer.bias.detach()\n",
    "\n",
    "tinputs = torch.rand(8, 10, requires_grad=True)\n",
    "tlabels = torch.rand(8, 2)\n",
    "inputs = tinputs.detach().numpy()\n",
    "labels = tlabels.detach().numpy()\n",
    "\n",
    "tpreds = tlayer(tinputs)\n",
    "preds = layer.foward(inputs)\n",
    "assert np.allclose(preds, tpreds.detach()), \"Linear Forward\"\n",
    "\n",
    "tpreds.sum().backward()\n",
    "tigrad = tinputs.grad\n",
    "igrad = layer.backward(np.ones_like(preds))\n",
    "assert np.allclose(igrad, tigrad.detach()), \"Linear Backward [Input]\"\n",
    "assert np.allclose(layer.grads.weights, tlayer.weight.grad), \"Linear Backward [Weights]\"\n",
    "assert np.allclose(layer.grads.bias, tlayer.bias.grad), \"Linear Backward [Bias]\""
   ]
  },
  {
   "cell_type": "code",
   "execution_count": 6,
   "metadata": {},
   "outputs": [],
   "source": [
    "from ddnn.nn import Optimizer\n",
    "from ddnn.utils import Parameter\n",
    "\n",
    "params = Parameter(np.array([10, 10]), np.array([10]))\n",
    "grads = Parameter(np.array([1, -1]), np.array([-1]))\n",
    "state = Parameter(np.array([0.5, -1.5]), np.array([-0.5]))\n",
    "\n",
    "expected = Parameter(\n",
    "    0.5 * state.weights - 0.2 * params.weights - 1 * grads.weights,\n",
    "    0.5 * state.bias - 1 * grads.bias,\n",
    ")\n",
    "\n",
    "update, state = Optimizer(\n",
    "    \"SGD\", learning_rate=1, l2_coefficient=0.1, momentum_coefficient=0.5\n",
    ")(1)(params, grads, state)\n",
    "assert np.allclose(update.weights, state.weights) and np.allclose(\n",
    "    update.weights, expected.weights\n",
    "), \"SGD [Weight]\"\n",
    "assert np.allclose(update.bias, state.bias) and np.allclose(\n",
    "    update.bias, expected.bias\n",
    "), \"SGD [Bias]\""
   ]
  }
 ],
 "metadata": {
  "kernelspec": {
   "display_name": "ML",
   "language": "python",
   "name": "python3"
  },
  "language_info": {
   "codemirror_mode": {
    "name": "ipython",
    "version": 3
   },
   "file_extension": ".py",
   "mimetype": "text/x-python",
   "name": "python",
   "nbconvert_exporter": "python",
   "pygments_lexer": "ipython3",
   "version": "3.10.8"
  },
  "orig_nbformat": 4,
  "vscode": {
   "interpreter": {
    "hash": "29308c18330174df5d08dc27cbd59630723a13c381a5b5f57befcdc7a6962bd9"
   }
  }
 },
 "nbformat": 4,
 "nbformat_minor": 2
}
