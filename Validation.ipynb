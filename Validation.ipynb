{
 "cells": [
  {
   "cell_type": "code",
   "execution_count": 1,
   "id": "ce432db2",
   "metadata": {},
   "outputs": [],
   "source": [
    "from typing import Dict, List\n",
    "from ddnn.nn import *\n",
    "from ddnn.data import *\n",
    "from ddnn.validation import *"
   ]
  },
  {
   "cell_type": "code",
   "execution_count": 2,
   "id": "e9adc196",
   "metadata": {},
   "outputs": [],
   "source": [
    "class Logger:\n",
    "    def __init__(self, estimator: Estimator, losses: List[str]):\n",
    "        self._estimator = estimator\n",
    "        self._losses = losses\n",
    "        self._scores = []\n",
    "\n",
    "    def update_hp(self, hp_dict : Dict):\n",
    "        self._scores.append({\"hp\": hp_dict.copy(), \"folds\": []})\n",
    "\n",
    "    def update_fold(self, fold_dict : Dict):\n",
    "        self._vfold = fold_dict[\"test\"]\n",
    "        self._tfold = fold_dict[\"train\"]\n",
    "\n",
    "        current_hp_config = self._scores[-1]\n",
    "        current_hp_config[\"folds\"].append({\"train\":{},\"valid\":{}})\n",
    "\n",
    "        current_fold = current_hp_config[\"folds\"]\n",
    "        print(type(current_fold[\"train\"]))\n",
    "        for loss in self._losses:\n",
    "            current_fold[\"train\"][loss] = []\n",
    "            current_fold[\"valid\"][loss] = []\n",
    "\n",
    "    def __call__(self, dict):\n",
    "        dt = self._estimator.evaluate(self._losses, self._tfold)\n",
    "        dv = self._estimator.evaluate(self._losses, self._tfold)\n",
    "\n",
    "        current_train = self._scores[-1][\"folds\"][\"train\"]\n",
    "        current_valid = self._scores[-1][\"folds\"][\"valid\"]\n",
    "        \n",
    "        for loss in self._loss_names:\n",
    "            current_train[loss].append(dt[loss])\n",
    "            current_valid[loss].append(dt[loss])\n",
    "        \n",
    "        "
   ]
  },
  {
   "cell_type": "code",
   "execution_count": 3,
   "id": "f6c30a89",
   "metadata": {},
   "outputs": [],
   "source": [
    "net = NeuralNetwork(\n",
    "    [\n",
    "        LinearLayer((8, 16)),\n",
    "        ActivationFunction(),\n",
    "        LinearLayer((16, 16)),\n",
    "        ActivationFunction(),\n",
    "        LinearLayer((16, 2)),\n",
    "    ]\n",
    ")\n",
    "estimator = Estimator(net) # fix to work without anything\n",
    "grid = {}\n",
    "grid[\"layers\"] = [[(4, \"ReLU\"), (1, \"logistic\")]]\n",
    "grid[\"learning_rate\"] = [0.5, 0.6]\n",
    "grid[\"momentum_coefficient\"] = [0.9]\n",
    "grid[\"optimizer\"] = [\"SGD\"]\n",
    "grid[\"loss\"] = [\"MSE\"]\n",
    "grid[\"l2_coefficient\"] = [1e-3, 1e-4, 1e-5]\n",
    "grid[\"batchsize\"] = [-1, 16]\n",
    "grid[\"weight_initializer\"] = [\"random_uniform\"]\n",
    "# grid['fan_mode'] = ['fan_in', 'fan_out']\n",
    "selector = GridSearch(estimator, grid, 123)"
   ]
  },
  {
   "cell_type": "code",
   "execution_count": 4,
   "id": "018eff08",
   "metadata": {},
   "outputs": [],
   "source": [
    "# data = read_ML_cup(\"train\")\n",
    "data = read_monks(1, \"train\")\n",
    "data = onehot_encoding(data=data)"
   ]
  },
  {
   "cell_type": "code",
   "execution_count": 5,
   "id": "2228dacf",
   "metadata": {},
   "outputs": [],
   "source": [
    "logger = Logger(estimator, [\"MSE\", \"binary_accuracy\"])"
   ]
  },
  {
   "cell_type": "code",
   "execution_count": 6,
   "id": "97e5c7e9",
   "metadata": {},
   "outputs": [
    {
     "name": "stdout",
     "output_type": "stream",
     "text": [
      "{'layers': [(4, 'ReLU'), (1, 'logistic')], 'learning_rate': 0.5, 'momentum_coefficient': 0.9, 'optimizer': 'SGD', 'loss': 'MSE', 'l2_coefficient': 0.001, 'batchsize': -1, 'weight_initializer': 'random_uniform'}\n"
     ]
    },
    {
     "ename": "TypeError",
     "evalue": "list indices must be integers or slices, not str",
     "output_type": "error",
     "traceback": [
      "\u001b[0;31m---------------------------------------------------------------------------\u001b[0m",
      "\u001b[0;31mTypeError\u001b[0m                                 Traceback (most recent call last)",
      "Cell \u001b[0;32mIn[6], line 1\u001b[0m\n\u001b[0;32m----> 1\u001b[0m selector\u001b[39m.\u001b[39;49mk_fold(\n\u001b[1;32m      2\u001b[0m     data,\n\u001b[1;32m      3\u001b[0m     \u001b[39m5\u001b[39;49m,\n\u001b[1;32m      4\u001b[0m     n_epochs\u001b[39m=\u001b[39;49m\u001b[39m2000\u001b[39;49m,\n\u001b[1;32m      5\u001b[0m     loss_list\u001b[39m=\u001b[39;49m[\u001b[39m\"\u001b[39;49m\u001b[39mMSE\u001b[39;49m\u001b[39m\"\u001b[39;49m],\n\u001b[1;32m      6\u001b[0m     early_stopping\u001b[39m=\u001b[39;49m(\u001b[39m10\u001b[39;49m, \u001b[39m10\u001b[39;49m),\n\u001b[1;32m      7\u001b[0m     seed\u001b[39m=\u001b[39;49m\u001b[39m123\u001b[39;49m,\n\u001b[1;32m      8\u001b[0m     on_fold_change\u001b[39m=\u001b[39;49mlogger\u001b[39m.\u001b[39;49mupdate_fold,\n\u001b[1;32m      9\u001b[0m     on_hp_change\u001b[39m=\u001b[39;49mlogger\u001b[39m.\u001b[39;49mupdate_hp,\n\u001b[1;32m     10\u001b[0m     training_callback\u001b[39m=\u001b[39;49mlogger,\n\u001b[1;32m     11\u001b[0m )\n",
      "File \u001b[0;32m~/uni/ml/Machine-Learning-Project/ddnn/validation/gridsearch.py:494\u001b[0m, in \u001b[0;36mGridSearch.k_fold\u001b[0;34m(self, dataset, n_folds, n_epochs, training_callback, on_hp_change, on_fold_change, loss_list, early_stopping, seed)\u001b[0m\n\u001b[1;32m    491\u001b[0m \u001b[39mfor\u001b[39;00m train_set, test_set \u001b[39min\u001b[39;00m folds:\n\u001b[1;32m    492\u001b[0m     \u001b[39m# call update for callback as fold changed\u001b[39;00m\n\u001b[1;32m    493\u001b[0m     \u001b[39mif\u001b[39;00m on_fold_change \u001b[39m!=\u001b[39m \u001b[39mNone\u001b[39;00m:\n\u001b[0;32m--> 494\u001b[0m         on_fold_change({\u001b[39m'\u001b[39;49m\u001b[39mtrain\u001b[39;49m\u001b[39m'\u001b[39;49m: train_set, \u001b[39m'\u001b[39;49m\u001b[39mtest\u001b[39;49m\u001b[39m'\u001b[39;49m: test_set, \u001b[39m'\u001b[39;49m\u001b[39mn_folds\u001b[39;49m\u001b[39m'\u001b[39;49m: n_folds})\n\u001b[1;32m    496\u001b[0m     \u001b[39m# if early stopping was passed, train with a composite callback function\u001b[39;00m\n\u001b[1;32m    497\u001b[0m     \u001b[39mif\u001b[39;00m early_stopping \u001b[39m!=\u001b[39m \u001b[39mNone\u001b[39;00m:\n",
      "Cell \u001b[0;32mIn[2], line 19\u001b[0m, in \u001b[0;36mLogger.update_fold\u001b[0;34m(self, fold_dict)\u001b[0m\n\u001b[1;32m     17\u001b[0m current_fold \u001b[39m=\u001b[39m current_hp_config[\u001b[39m\"\u001b[39m\u001b[39mfolds\u001b[39m\u001b[39m\"\u001b[39m]\n\u001b[1;32m     18\u001b[0m \u001b[39mfor\u001b[39;00m loss \u001b[39min\u001b[39;00m \u001b[39mself\u001b[39m\u001b[39m.\u001b[39m_losses:\n\u001b[0;32m---> 19\u001b[0m     current_fold[\u001b[39m\"\u001b[39;49m\u001b[39mtrain\u001b[39;49m\u001b[39m\"\u001b[39;49m][loss] \u001b[39m=\u001b[39m []\n\u001b[1;32m     20\u001b[0m     current_fold[\u001b[39m\"\u001b[39m\u001b[39mvalid\u001b[39m\u001b[39m\"\u001b[39m][loss] \u001b[39m=\u001b[39m []\n",
      "\u001b[0;31mTypeError\u001b[0m: list indices must be integers or slices, not str"
     ]
    }
   ],
   "source": [
    "selector.k_fold(\n",
    "    data,\n",
    "    5,\n",
    "    n_epochs=2000,\n",
    "    loss_list=[\"MSE\"],\n",
    "    early_stopping=(10, 10),\n",
    "    seed=123,\n",
    "    on_fold_change=logger.update_fold,\n",
    "    on_hp_change=logger.update_hp,\n",
    "    training_callback=logger,\n",
    ")"
   ]
  },
  {
   "cell_type": "code",
   "execution_count": null,
   "id": "489ceb70",
   "metadata": {},
   "outputs": [],
   "source": []
  }
 ],
 "metadata": {
  "kernelspec": {
   "display_name": "ML",
   "language": "python",
   "name": "python3"
  },
  "language_info": {
   "codemirror_mode": {
    "name": "ipython",
    "version": 3
   },
   "file_extension": ".py",
   "mimetype": "text/x-python",
   "name": "python",
   "nbconvert_exporter": "python",
   "pygments_lexer": "ipython3",
   "version": "3.10.8"
  },
  "vscode": {
   "interpreter": {
    "hash": "29308c18330174df5d08dc27cbd59630723a13c381a5b5f57befcdc7a6962bd9"
   }
  }
 },
 "nbformat": 4,
 "nbformat_minor": 5
}
