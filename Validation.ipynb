{
 "cells": [
  {
   "cell_type": "markdown",
   "id": "a80f5542",
   "metadata": {},
   "source": [
    "## Grid Search"
   ]
  },
  {
   "cell_type": "code",
   "execution_count": null,
   "id": "ce432db2",
   "metadata": {},
   "outputs": [],
   "source": [
    "from typing import Dict, List\n",
    "from ddnn.nn import *\n",
    "from ddnn.data import *\n",
    "from ddnn.validation import *"
   ]
  },
  {
   "cell_type": "code",
   "execution_count": null,
   "id": "f6c30a89",
   "metadata": {},
   "outputs": [],
   "source": [
    "net = NeuralNetwork(\n",
    "    [\n",
    "        LinearLayer((8, 16)),\n",
    "        ActivationFunction(),\n",
    "    ]\n",
    ")\n",
    "estimator = Estimator(net) # fix to work without anything\n",
    "grid = {}\n",
    "grid[\"layers\"] = [\n",
    "    [(64, \"ReLU\"), (2, \"linear\")],\n",
    "    [(32, \"ReLU\"), (32, \"ReLU\"), (2, \"linear\")]\n",
    "]\n",
    "grid[\"learning_rate\"] = [1e-2, 6.6e-3, 3.3e-3, 1e-3]\n",
    "grid[\"optimizer\"] = [\"Adam\"]\n",
    "grid[\"loss\"] = [\"MSE\"]\n",
    "grid[\"l2_coefficient\"] = [1e-2, 6.6e-3, 3.3e-3, 1e-3]\n",
    "grid[\"batchsize\"] = [-1]\n",
    "grid[\"weight_initializer\"] = [\"glorot_uniform\"]\n",
    "# grid['fan_mode'] = ['fan_in', 'fan_out']\n",
    "selector = GridSearch(estimator, grid, 523552)\n",
    "comb=1\n",
    "for k,v in grid.items():\n",
    "    comb*= len(v)\n",
    "print(comb)"
   ]
  },
  {
   "cell_type": "code",
   "execution_count": null,
   "id": "018eff08",
   "metadata": {},
   "outputs": [],
   "source": [
    "data = read_ML_cup(\"train\")\n",
    "# data = read_monks(1, \"train\")\n",
    "data, test = train_valid_split(data, seed=123)"
   ]
  },
  {
   "cell_type": "code",
   "execution_count": null,
   "id": "2228dacf",
   "metadata": {},
   "outputs": [],
   "source": [
    "logger = Logger(estimator, [\"MSE\"], every=10)"
   ]
  },
  {
   "cell_type": "code",
   "execution_count": null,
   "id": "97e5c7e9",
   "metadata": {},
   "outputs": [],
   "source": [
    "k_fold_results = selector.k_fold(\n",
    "    data,\n",
    "    5,\n",
    "    n_epochs=1500,\n",
    "    loss_list=[\"MEE\", \"MSE\"],\n",
    "    early_stopping=(5, 10, 1e-4),\n",
    "    seed=123,\n",
    "    on_fold_change=logger.update_fold,\n",
    "    on_hp_change=logger.update_hp,\n",
    "    training_callback=logger,\n",
    ")"
   ]
  },
  {
   "cell_type": "code",
   "execution_count": null,
   "id": "bbc5dc68",
   "metadata": {},
   "outputs": [],
   "source": [
    "results = {\n",
    "    # \"k_fold_results\": k_fold_results\n",
    "    \"logs\": logger._scores,\n",
    "    \"every\": logger._every,\n",
    "    \"losses\": logger._losses\n",
    "}"
   ]
  },
  {
   "cell_type": "code",
   "execution_count": null,
   "id": "0ac92f58",
   "metadata": {},
   "outputs": [],
   "source": [
    "# save to file\n",
    "import json\n",
    "with open(\"trial.json\", \"w\") as fp:\n",
    "    json.dump(results, fp)"
   ]
  },
  {
   "cell_type": "markdown",
   "id": "11b30ffc",
   "metadata": {},
   "source": [
    "## Plotting"
   ]
  },
  {
   "cell_type": "code",
   "execution_count": null,
   "id": "e944536f",
   "metadata": {},
   "outputs": [],
   "source": [
    "# open with pandas\n",
    "import pandas as pd\n",
    "import json\n",
    "with open(\"trial.json\", \"r\") as fp:\n",
    "    scores = json.load(fp)\n",
    "df = pd.json_normalize(scores[\"logs\"])\n",
    "df[\"hp.layers\"] = df[\"hp.layers\"].astype(str) # convert layers to str repr"
   ]
  },
  {
   "cell_type": "code",
   "execution_count": null,
   "id": "0e675045",
   "metadata": {},
   "outputs": [],
   "source": [
    "from ipywidgets.widgets import interact_manual, interact\n",
    "import matplotlib.pyplot as plt\n",
    "import matplotlib.ticker as ticker"
   ]
  },
  {
   "cell_type": "code",
   "execution_count": null,
   "id": "d17d441e",
   "metadata": {},
   "outputs": [],
   "source": [
    "%matplotlib ipympl\n",
    "\n",
    "# select loss, hyper get 2 plots one with train one with valid\n",
    "fig, axs = plt.subplots(1,2, figsize=(10,4))\n",
    "\n",
    "# hyperparameters in grid\n",
    "params = {\n",
    "    k: df[k].unique() \n",
    "    for k in df.columns[df.columns.str.startswith(\"hp.\")]\n",
    "}\n",
    "# hyperparameters in grid with at least 2 values\n",
    "fparams = {\n",
    "    k: v \n",
    "    for k,v in params.items()\n",
    "    if len(v) > 1\n",
    "}\n",
    "\n",
    "@interact(\n",
    "    loss = scores[\"losses\"],\n",
    "    **fparams\n",
    ")\n",
    "def plot_results(loss, **kwargs):\n",
    "    row_selection = pd.Series([True]*df.shape[0])\n",
    "    for k,v in kwargs.items():\n",
    "        row_selection &= (df[k] == v)\n",
    "    rows = df[row_selection]\n",
    "\n",
    "    # add parameter to title if missing\n",
    "    for k in params:\n",
    "        if k not in kwargs:\n",
    "            kwargs[k] = params[k][0]\n",
    "\n",
    "    fig.suptitle(\", \".join([f\"{k[3:]}={v}\" for k,v in kwargs.items()]), wrap=True, fontsize=10)\n",
    "    fig.tight_layout()\n",
    "    for where, ax in zip([\"train\", \"valid\"], axs):\n",
    "        col_selection = rows.columns.str.endswith(f\"{where}.{loss}\")\n",
    "        data = rows[rows.columns[col_selection]]\n",
    "\n",
    "        ys = [y for y in data.values][0]\n",
    "        if loss != \"binary_accuracy\":\n",
    "            bests = [min(y) for y in ys]\n",
    "            form = \"{:.2E}\"\n",
    "            logplot = True\n",
    "        else:\n",
    "            bests = [max(y) for y in ys]\n",
    "            form = \"{:.2}\"\n",
    "            logplot = False\n",
    "\n",
    "        ax.clear()\n",
    "        ax.set_title(where, fontsize=10)\n",
    "        # scale to resemble number of epochs instead of plot points\n",
    "        ticks_x = ticker.FuncFormatter(lambda x, pos: '{0:g}'.format(x*scores{\"every\"}))\n",
    "        ax.xaxis.set_major_formatter(ticks_x)\n",
    "        if logplot:\n",
    "            ax.set_yscale(\"log\")\n",
    "        else:\n",
    "            ax.set_yscale(\"linear\")\n",
    "        for y,best in zip(ys, bests):\n",
    "            ax.plot(y, label=f\"{form.format(best)}\")\n",
    "        ax.legend()"
   ]
  },
  {
   "cell_type": "code",
   "execution_count": null,
   "id": "81e52d7f",
   "metadata": {},
   "outputs": [],
   "source": [
    "results"
   ]
  },
  {
   "cell_type": "code",
   "execution_count": null,
   "id": "f9385a63",
   "metadata": {},
   "outputs": [],
   "source": []
  }
 ],
 "metadata": {
  "kernelspec": {
   "display_name": "ML",
   "language": "python",
   "name": "python3"
  },
  "language_info": {
   "codemirror_mode": {
    "name": "ipython",
    "version": 3
   },
   "file_extension": ".py",
   "mimetype": "text/x-python",
   "name": "python",
   "nbconvert_exporter": "python",
   "pygments_lexer": "ipython3",
   "version": "3.10.8 | packaged by conda-forge | (main, Nov 22 2022, 08:26:04) [GCC 10.4.0]"
  },
  "vscode": {
   "interpreter": {
    "hash": "5bd504499a3d325a7c1da9f8228712639636db49ae66a9009fa19a793144457f"
   }
  }
 },
 "nbformat": 4,
 "nbformat_minor": 5
}
