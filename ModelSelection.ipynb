{
 "cells": [
  {
   "cell_type": "markdown",
   "id": "a80f5542",
   "metadata": {},
   "source": [
    "## Grid Search"
   ]
  },
  {
   "cell_type": "code",
   "execution_count": null,
   "id": "ce432db2",
   "metadata": {},
   "outputs": [],
   "source": [
    "from typing import Dict, List\n",
    "from ddnn.nn import *\n",
    "from ddnn.data import *\n",
    "from ddnn.validation import *"
   ]
  },
  {
   "cell_type": "code",
   "execution_count": null,
   "id": "f6c30a89",
   "metadata": {},
   "outputs": [],
   "source": [
    "def ncomb(grid):\n",
    "    comb = 1\n",
    "    for k, v in grid.items():\n",
    "        comb *= len(v)\n",
    "    return comb\n",
    "\n",
    "\n",
    "net = NeuralNetwork(\n",
    "    [\n",
    "        LinearLayer((8, 16)),\n",
    "        ActivationFunction(),\n",
    "    ]\n",
    ")\n",
    "estimator = Estimator(net)  # fix to work without anything\n",
    "grid = {}\n",
    "grid[\"layers\"] = [\n",
    "    [(64, \"tanh\"), (2, \"linear\")],\n",
    "    [(32, \"tanh\"), (32, \"tanh\"), (2, \"linear\")],\n",
    "]\n",
    "grid[\"learning_rate\"] = [1e-2, 6.6e-3, 3.3e-3, 1e-3]\n",
    "grid[\"optimizer\"] = [\"SGD\"]\n",
    "grid[\"momentum_coefficient\"] = [0.5, 0.9]\n",
    "grid[\"loss\"] = [\"MSE\"]\n",
    "grid[\"l2_coefficient\"] = [1e-2, 6.6e-3, 3.3e-3, 1e-3]\n",
    "grid[\"batchsize\"] = [-1]\n",
    "grid[\"weight_initializer\"] = [\"glorot_uniform\"]\n",
    "\n",
    "SEED = 123\n",
    "MAX_EPOCHS = 1500\n",
    "EARLY_STOPPING = (10, 5, 1e-4)\n",
    "PLOT_LOSSES = [\"MSE\"]\n",
    "EARLY_STOPPING_LOSSES = [\"MEE\", \"MSE\"]\n",
    "PLOT_EVERY = 1\n",
    "N_FOLDS = 5\n",
    "\n",
    "selector = GridSearch(estimator, grid, SEED)\n",
    "\n",
    "ncomb(grid)"
   ]
  },
  {
   "cell_type": "code",
   "execution_count": null,
   "id": "018eff08",
   "metadata": {},
   "outputs": [],
   "source": [
    "data = read_ML_cup(\"train\")\n",
    "data, test = train_valid_split(data)"
   ]
  },
  {
   "cell_type": "code",
   "execution_count": null,
   "id": "2228dacf",
   "metadata": {},
   "outputs": [],
   "source": [
    "logger = Logger(estimator, PLOT_LOSSES, every=PLOT_EVERY)"
   ]
  },
  {
   "cell_type": "code",
   "execution_count": null,
   "id": "97e5c7e9",
   "metadata": {},
   "outputs": [],
   "source": [
    "results = selector.k_fold(\n",
    "    data,\n",
    "    N_FOLDS,\n",
    "    n_epochs=MAX_EPOCHS,\n",
    "    loss_list=EARLY_STOPPING_LOSSES,\n",
    "    early_stopping=EARLY_STOPPING,\n",
    "    seed=SEED,\n",
    "    # training_callback=lambda x: None,\n",
    "    on_fold_change=logger.update_fold,\n",
    "    on_hp_change=logger.update_hp,\n",
    "    training_callback=logger,\n",
    ")"
   ]
  },
  {
   "cell_type": "code",
   "execution_count": null,
   "id": "98808c2b",
   "metadata": {},
   "outputs": [],
   "source": [
    "results"
   ]
  },
  {
   "cell_type": "code",
   "execution_count": null,
   "id": "0ac92f58",
   "metadata": {},
   "outputs": [],
   "source": [
    "# save to file\n",
    "import json\n",
    "\n",
    "# json cannot handle int64\n",
    "for item in results:\n",
    "    item[\"seed\"] = str(item[\"seed\"])\n",
    "\n",
    "with open(\"trial.json\", \"w\") as fp:\n",
    "    savable = {\n",
    "        \"plot_points\": logger._scores,\n",
    "        \"k_fold_best\": results,\n",
    "        \"grid\": grid,\n",
    "        \"plot_every\": PLOT_EVERY,\n",
    "        \"max_epochs\": MAX_EPOCHS,\n",
    "        \"early_stop\": EARLY_STOPPING,\n",
    "        \"grid_seed\": SEED,\n",
    "        \"stop_losses\": EARLY_STOPPING_LOSSES,\n",
    "        \"plot_losses\": PLOT_LOSSES,\n",
    "        \"nfolds\": N_FOLDS,\n",
    "    }\n",
    "    json.dump(savable, fp)"
   ]
  },
  {
   "cell_type": "markdown",
   "id": "11b30ffc",
   "metadata": {},
   "source": [
    "## Plotting"
   ]
  },
  {
   "cell_type": "code",
   "execution_count": null,
   "id": "e944536f",
   "metadata": {},
   "outputs": [],
   "source": [
    "# open with pandas\n",
    "import pandas as pd\n",
    "import json\n",
    "\n",
    "FILE = \"./trial.adam1.json\"\n",
    "\n",
    "with open(FILE, \"r\") as fp:\n",
    "    save = json.load(fp)\n",
    "\n",
    "    plot_points = save[\"plot_points\"]\n",
    "    every = save[\"plot_every\"]\n",
    "    epochs = save[\"max_epochs\"]\n",
    "    early_stop = save[\"early_stop\"]\n",
    "    grid_seed = save[\"grid_seed\"]\n",
    "    stop_losses = save[\"stop_losses\"]\n",
    "    plot_losses = save[\"plot_losses\"]\n",
    "    k_fold_best = save[\"k_fold_best\"]\n",
    "    grid = save[\"grid\"]\n",
    "    nfolds = save[\"nfolds\"]\n",
    "\n",
    "df = pd.json_normalize(plot_points)\n",
    "df[\"hp.layers\"] = df[\"hp.layers\"].astype(str)  # convert layers to str repr"
   ]
  },
  {
   "cell_type": "code",
   "execution_count": null,
   "id": "0e675045",
   "metadata": {},
   "outputs": [],
   "source": [
    "from ipywidgets.widgets import interact_manual, interact\n",
    "import matplotlib.pyplot as plt\n",
    "import matplotlib.ticker as ticker"
   ]
  },
  {
   "cell_type": "code",
   "execution_count": null,
   "id": "d17d441e",
   "metadata": {},
   "outputs": [],
   "source": [
    "%matplotlib ipympl\n",
    "\n",
    "# select loss, hyper get 2 plots one with train one with valid\n",
    "fig, axs = plt.subplots(1, 2, figsize=(10, 4))\n",
    "\n",
    "# hyperparameters in grid\n",
    "params = {k: df[k].unique() for k in df.columns[df.columns.str.startswith(\"hp.\")]}\n",
    "# hyperparameters in grid with at least 2 values\n",
    "fparams = {k: v for k, v in params.items() if len(v) > 1}\n",
    "\n",
    "\n",
    "@interact(loss=plot_losses, **fparams)\n",
    "def plot_results(loss, **kwargs):\n",
    "    row_selection = pd.Series([True] * df.shape[0])\n",
    "    for k, v in kwargs.items():\n",
    "        row_selection &= df[k] == v\n",
    "    rows = df[row_selection]\n",
    "\n",
    "    # add parameter to title if missing\n",
    "    for k in params:\n",
    "        if k not in kwargs:\n",
    "            kwargs[k] = params[k][0]\n",
    "\n",
    "    fig.suptitle(\n",
    "        \", \".join([f\"{k[3:]}={v}\" for k, v in kwargs.items()]), wrap=True, fontsize=10\n",
    "    )\n",
    "    fig.tight_layout()\n",
    "    for where, ax in zip([\"train\", \"valid\"], axs):\n",
    "        col_selection = rows.columns.str.endswith(f\"{where}.{loss}\")\n",
    "        data = rows[rows.columns[col_selection]]\n",
    "\n",
    "        ys = [y for y in data.values][0]\n",
    "        if loss != \"binary_accuracy\":\n",
    "            bests = [min(y) for y in ys]\n",
    "            form = \"{:.2E}\"\n",
    "            logplot = True\n",
    "        else:\n",
    "            bests = [max(y) for y in ys]\n",
    "            form = \"{:.2}\"\n",
    "            logplot = False\n",
    "\n",
    "        ax.clear()\n",
    "        ax.set_title(where, fontsize=10)\n",
    "        # scale to resemble number of epochs instead of plot points\n",
    "        ticks_x = ticker.FuncFormatter(lambda x, pos: \"{0:g}\".format(x * every))\n",
    "        ax.xaxis.set_major_formatter(ticks_x)\n",
    "        if logplot:\n",
    "            ax.set_yscale(\"log\")\n",
    "        else:\n",
    "            ax.set_yscale(\"linear\")\n",
    "        for y, best in zip(ys, bests):\n",
    "            ax.plot(y, label=f\"{form.format(best)}\")\n",
    "        ax.legend()"
   ]
  },
  {
   "cell_type": "code",
   "execution_count": null,
   "id": "81e52d7f",
   "metadata": {},
   "outputs": [],
   "source": [
    "k_fold_best"
   ]
  },
  {
   "cell_type": "code",
   "execution_count": null,
   "id": "383bc770",
   "metadata": {},
   "outputs": [],
   "source": [
    "grid"
   ]
  },
  {
   "cell_type": "code",
   "execution_count": null,
   "id": "b004b63d",
   "metadata": {},
   "outputs": [],
   "source": [
    "sorted(k_fold_best, key=lambda x: x[\"test_loss_avg\"][\"MEE\"])"
   ]
  },
  {
   "cell_type": "code",
   "execution_count": null,
   "id": "b31a333c",
   "metadata": {},
   "outputs": [],
   "source": []
  }
 ],
 "metadata": {
  "kernelspec": {
   "display_name": "ML",
   "language": "python",
   "name": "python3"
  },
  "language_info": {
   "codemirror_mode": {
    "name": "ipython",
    "version": 3
   },
   "file_extension": ".py",
   "mimetype": "text/x-python",
   "name": "python",
   "nbconvert_exporter": "python",
   "pygments_lexer": "ipython3",
   "version": "3.10.8"
  },
  "vscode": {
   "interpreter": {
    "hash": "5bd504499a3d325a7c1da9f8228712639636db49ae66a9009fa19a793144457f"
   }
  }
 },
 "nbformat": 4,
 "nbformat_minor": 5
}
