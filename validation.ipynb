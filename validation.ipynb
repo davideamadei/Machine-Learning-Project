{
 "cells": [
  {
   "attachments": {},
   "cell_type": "markdown",
   "metadata": {},
   "source": [
    "# Class for Grid Search"
   ]
  },
  {
   "cell_type": "code",
   "execution_count": 8,
   "metadata": {},
   "outputs": [],
   "source": [
    "# external libraries\n",
    "import numpy as np\n",
    "# local libraries\n",
    "from estimator import Estimator\n",
    "from util_classes import Dataset\n",
    "from nn import NeuralNetwork, LinearLayer, ActivationFunction\n",
    "\n",
    "from loss import LossFunction\n",
    "\n",
    "class GridSearch():\n",
    "    def __init__(self, estimator: Estimator, hyper_grid: dict):\n",
    "        self.estimator = estimator\n",
    "        self.hyper_grid = hyper_grid\n",
    "\n",
    "    #returns a list of data folds through indexes\n",
    "    def _generate_folds(self):\n",
    "        print('ciao')\n",
    "\n",
    "    #returns the best set of hyperparameters\n",
    "    def k_fold(self, dataset: Dataset, n_folds: int):\n",
    "        self._dataset = dataset\n",
    "        self._n_folds = n_folds\n",
    "        self._generate_folds()\n",
    "            \n",
    "    #returns an estimation of the risk for the model, average +- variance\n",
    "    def nested_k_fold(dataset: Dataset, inner_n_folds:int, outer_n_folds:int):\n",
    "        print(\"hello\")"
   ]
  },
  {
   "cell_type": "code",
   "execution_count": 9,
   "metadata": {},
   "outputs": [],
   "source": [
    "net = NeuralNetwork([\n",
    "    LinearLayer((8, 16)),\n",
    "    ActivationFunction(),\n",
    "    LinearLayer((16, 16)),\n",
    "    ActivationFunction(),\n",
    "    LinearLayer((16, 2))\n",
    "])\n",
    "estimator = Estimator(net)\n",
    "grid = {}\n",
    "grid['eta'] = [0.1, 0.2, 0.3]\n",
    "grid['momentum'] = [0.1, 0.2, 0.3]"
   ]
  },
  {
   "cell_type": "code",
   "execution_count": 12,
   "metadata": {},
   "outputs": [
    {
     "data": {
      "text/plain": [
       "(124, [6, 1])"
      ]
     },
     "execution_count": 12,
     "metadata": {},
     "output_type": "execute_result"
    }
   ],
   "source": [
    "from datasets import read_monks\n",
    "data = read_monks(1, \"train\")\n",
    "ids = data.ids.copy()\n",
    "data.shape"
   ]
  },
  {
   "cell_type": "code",
   "execution_count": 13,
   "metadata": {},
   "outputs": [
    {
     "name": "stdout",
     "output_type": "stream",
     "text": [
      "ciao\n"
     ]
    }
   ],
   "source": [
    "selector = GridSearch(estimator, grid)\n",
    "selector.k_fold(data, 5)"
   ]
  },
  {
   "cell_type": "code",
   "execution_count": null,
   "metadata": {},
   "outputs": [],
   "source": []
  }
 ],
 "metadata": {
  "kernelspec": {
   "display_name": "ML",
   "language": "python",
   "name": "python3"
  },
  "language_info": {
   "codemirror_mode": {
    "name": "ipython",
    "version": 3
   },
   "file_extension": ".py",
   "mimetype": "text/x-python",
   "name": "python",
   "nbconvert_exporter": "python",
   "pygments_lexer": "ipython3",
   "version": "3.10.8"
  },
  "orig_nbformat": 4,
  "vscode": {
   "interpreter": {
    "hash": "5bd504499a3d325a7c1da9f8228712639636db49ae66a9009fa19a793144457f"
   }
  }
 },
 "nbformat": 4,
 "nbformat_minor": 2
}
