{
 "cells": [
  {
   "cell_type": "code",
   "execution_count": null,
   "metadata": {},
   "outputs": [],
   "source": [
    "# external libraries\n",
    "import numpy as np\n",
    "# local libraries\n",
    "from nn import NeuralNetwork, LinearLayer, ActivationFunction, LossFunction\n",
    "\n",
    "class GridSearch():\n",
    "    def __init__(self, trainer)\n",
    "\n",
    "    def k_fold():\n",
    "        estimator.train()\n",
    "        print(\"hello\")\n",
    "\n",
    "def nested_k_fold(x, y, n_folds, model: NeuralNetwork):\n",
    "    print(\"hello\")"
   ]
  },
  {
   "cell_type": "code",
   "execution_count": null,
   "metadata": {},
   "outputs": [],
   "source": [
    "net = NeuralNetwork([\n",
    "    LinearLayer((8, 16)),\n",
    "    ActivationFunction(),\n",
    "    LinearLayer((16, 16)),\n",
    "    ActivationFunction(),\n",
    "    LinearLayer((16, 2))\n",
    "])\n"
   ]
  },
  {
   "cell_type": "code",
   "execution_count": null,
   "metadata": {},
   "outputs": [],
   "source": [
    "holdout_validation(net)"
   ]
  }
 ],
 "metadata": {
  "kernelspec": {
   "display_name": "Python 3",
   "language": "python",
   "name": "python3"
  },
  "language_info": {
   "name": "python",
   "version": "3.8.10 (default, Jun 22 2022, 20:18:18) \n[GCC 9.4.0]"
  },
  "orig_nbformat": 4,
  "vscode": {
   "interpreter": {
    "hash": "916dbcbb3f70747c44a77c7bcd40155683ae19c65e1c03b4aa3499c5328201f1"
   }
  }
 },
 "nbformat": 4,
 "nbformat_minor": 2
}
