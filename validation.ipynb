{
 "cells": [
  {
   "attachments": {},
   "cell_type": "markdown",
   "metadata": {},
   "source": [
    "# Class for Grid Search"
   ]
  },
  {
   "cell_type": "code",
   "execution_count": null,
   "metadata": {},
   "outputs": [],
   "source": [
    "# python libraries\n",
    "import numpy as np\n",
    "from typing import Iterator, Callable\n",
    "import itertools\n",
    "from numbers import Number\n",
    "\n",
    "# local libraries\n",
    "from ddnn.data import read_monks, read_ML_cup, onehot_encoding\n",
    "from ddnn.utils import Dataset\n",
    "from ddnn.nn import (\n",
    "    Estimator,\n",
    "    LossFunction,\n",
    "    Optimizer,\n",
    "    LinearLayer,\n",
    "    ActivationFunction,\n",
    "    Initializer,\n",
    "    NeuralNetwork,\n",
    ")\n",
    "from ddnn.validation import GridSearch, EarlyStopping, TrainingThresholdStopping"
   ]
  },
  {
   "cell_type": "code",
   "execution_count": null,
   "metadata": {},
   "outputs": [],
   "source": [
    "net = NeuralNetwork(\n",
    "    [\n",
    "        LinearLayer((8, 16)),\n",
    "        ActivationFunction(),\n",
    "        LinearLayer((16, 16)),\n",
    "        ActivationFunction(),\n",
    "        LinearLayer((16, 2)),\n",
    "    ]\n",
    ")\n",
    "estimator = Estimator(net)\n",
    "grid = {}\n",
    "grid[\"layers\"] = [[(4, \"ReLU\"), (1, \"logistic\")]]\n",
    "grid[\"learning_rate\"] = [0.5, 0.6]\n",
    "grid[\"momentum_coefficient\"] = [0.9]\n",
    "grid[\"optimizer\"] = [\"SGD\"]\n",
    "grid[\"loss\"] = [\"MSE\"]\n",
    "grid[\"l2_coefficient\"] = [1e-3, 1e-4, 1e-5]\n",
    "grid[\"batchsize\"] = [-1, 16]\n",
    "grid[\"weight_initializer\"] = [\"random_uniform\"]\n",
    "# grid['fan_mode'] = ['fan_in', 'fan_out']"
   ]
  },
  {
   "cell_type": "code",
   "execution_count": null,
   "metadata": {},
   "outputs": [],
   "source": [
    "# data = read_ML_cup(\"train\")\n",
    "data = read_monks(1, \"train\")\n",
    "data = onehot_encoding(data=data)"
   ]
  },
  {
   "cell_type": "code",
   "execution_count": null,
   "metadata": {},
   "outputs": [],
   "source": [
    "selector = GridSearch(estimator, grid, 123)"
   ]
  },
  {
   "cell_type": "code",
   "execution_count": null,
   "metadata": {},
   "outputs": [],
   "source": [
    "selector.k_fold(\n",
    "    data,\n",
    "    5,\n",
    "    n_epochs=5,\n",
    "    loss_list=[\"MSE\", \"binary_accuracy\"],\n",
    "    early_stopping=(10, 10),\n",
    "    seed=123,\n",
    ")"
   ]
  },
  {
   "cell_type": "code",
   "execution_count": null,
   "metadata": {},
   "outputs": [],
   "source": [
    "selector.nested_k_fold(\n",
    "    data, 5, 5, 1, loss_list=[\"MSE\", \"binary_accuracy\"], early_stopping=(1, 1), seed=123\n",
    ")"
   ]
  },
  {
   "cell_type": "code",
   "execution_count": null,
   "metadata": {},
   "outputs": [],
   "source": []
  },
  {
   "cell_type": "code",
   "execution_count": null,
   "metadata": {},
   "outputs": [],
   "source": []
  }
 ],
 "metadata": {
  "kernelspec": {
   "display_name": "ML",
   "language": "python",
   "name": "python3"
  },
  "language_info": {
   "codemirror_mode": {
    "name": "ipython",
    "version": 3
   },
   "file_extension": ".py",
   "mimetype": "text/x-python",
   "name": "python",
   "nbconvert_exporter": "python",
   "pygments_lexer": "ipython3",
   "version": "3.10.8"
  },
  "orig_nbformat": 4,
  "vscode": {
   "interpreter": {
    "hash": "5bd504499a3d325a7c1da9f8228712639636db49ae66a9009fa19a793144457f"
   }
  }
 },
 "nbformat": 4,
 "nbformat_minor": 2
}
