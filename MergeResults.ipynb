{
 "cells": [
  {
   "cell_type": "code",
   "execution_count": null,
   "metadata": {},
   "outputs": [],
   "source": [
    "# open with pandas\n",
    "import pandas as pd\n",
    "import json"
   ]
  },
  {
   "cell_type": "code",
   "execution_count": null,
   "metadata": {},
   "outputs": [],
   "source": [
    "all_results = []\n",
    "all_grids = []"
   ]
  },
  {
   "cell_type": "code",
   "execution_count": null,
   "metadata": {},
   "outputs": [],
   "source": [
    "def load_trial(file):\n",
    "    with open(file, \"r\") as fp:\n",
    "        save = json.load(fp)\n",
    "\n",
    "        plot_points = save[\"plot_points\"]\n",
    "        every = save[\"plot_every\"]\n",
    "        epochs = save[\"max_epochs\"]\n",
    "        early_stop = save[\"early_stop\"]\n",
    "        grid_seed = save[\"grid_seed\"]\n",
    "        stop_losses = save[\"stop_losses\"]\n",
    "        plot_losses = save[\"plot_losses\"]\n",
    "        k_fold_best = save[\"k_fold_best\"]\n",
    "        grid = save[\"grid\"]\n",
    "        nfolds = save[\"nfolds\"]\n",
    "    return k_fold_best, grid"
   ]
  },
  {
   "cell_type": "code",
   "execution_count": null,
   "metadata": {},
   "outputs": [],
   "source": [
    "for file in [\n",
    "    \"./trials/initialization/deep.adam.glorot.trial.json\",\n",
    "    \"./trials/initialization/deep.adam.he.in.trial.json\",\n",
    "    \"./trials/initialization/deep.adam.he.out.trial.json\",\n",
    "    \"./trials/initialization/deep.adam.beta.glorot.trial.json\",\n",
    "    \"./trials/initialization/deep.adam.beta.he.trial.json\",\n",
    "]:\n",
    "    res = load_trial(file)\n",
    "    all_results.extend(res[0])\n",
    "    all_grids.append(res[1])"
   ]
  },
  {
   "cell_type": "code",
   "execution_count": null,
   "metadata": {},
   "outputs": [],
   "source": [
    "sorted(all_results, key=lambda x: x[\"test_loss_avg\"][\"MEE\"])"
   ]
  }
 ],
 "metadata": {
  "kernelspec": {
   "display_name": "ML",
   "language": "python",
   "name": "python3"
  },
  "language_info": {
   "codemirror_mode": {
    "name": "ipython",
    "version": 3
   },
   "file_extension": ".py",
   "mimetype": "text/x-python",
   "name": "python",
   "nbconvert_exporter": "python",
   "pygments_lexer": "ipython3",
   "version": "3.10.8"
  },
  "orig_nbformat": 4,
  "vscode": {
   "interpreter": {
    "hash": "29308c18330174df5d08dc27cbd59630723a13c381a5b5f57befcdc7a6962bd9"
   }
  }
 },
 "nbformat": 4,
 "nbformat_minor": 2
}
