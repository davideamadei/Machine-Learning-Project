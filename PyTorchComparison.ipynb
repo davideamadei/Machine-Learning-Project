{
 "cells": [
  {
   "cell_type": "code",
   "execution_count": 1,
   "id": "f03cf90b-cfb5-47e2-9ead-5c8c1d8922d2",
   "metadata": {},
   "outputs": [],
   "source": [
    "import numpy as np\n",
    "import torch\n",
    "\n",
    "from nn import NeuralNetwork, LinearLayer, ActivationFunction, LossFunction"
   ]
  },
  {
   "cell_type": "markdown",
   "id": "3cae8090-2d77-47b8-b7a5-d3394245baa1",
   "metadata": {},
   "source": [
    "## Pytorch"
   ]
  },
  {
   "cell_type": "code",
   "execution_count": 2,
   "id": "8012ad8f-0cd6-4dbe-bca7-6fc01101cca6",
   "metadata": {},
   "outputs": [],
   "source": [
    "tnet = torch.nn.Sequential(\n",
    "    torch.nn.Linear(8, 16),\n",
    "    torch.nn.ReLU(),\n",
    "    torch.nn.Linear(16, 16),\n",
    "    torch.nn.ReLU(),\n",
    "    torch.nn.Linear(16, 2),\n",
    ")\n",
    "tloss_fn = torch.nn.MSELoss()"
   ]
  },
  {
   "cell_type": "code",
   "execution_count": 3,
   "id": "24f8218d-29a2-4195-9eff-b5fa0b4cd89c",
   "metadata": {},
   "outputs": [],
   "source": [
    "tdata = torch.rand(10, 8, requires_grad=True)\n",
    "tlabel = torch.rand(10, 2)\n",
    "tpred = tnet(tdata)\n",
    "tloss = tloss_fn(tpred, tlabel)"
   ]
  },
  {
   "cell_type": "code",
   "execution_count": 4,
   "id": "8991c7be-fc31-4973-a417-7e3ba466c712",
   "metadata": {},
   "outputs": [],
   "source": [
    "tloss.backward()\n",
    "tgrad = tdata.grad"
   ]
  },
  {
   "cell_type": "markdown",
   "id": "2aa99e39-0025-4593-8581-55109ab9351e",
   "metadata": {},
   "source": [
    "## Our Implementation"
   ]
  },
  {
   "cell_type": "code",
   "execution_count": 5,
   "id": "24a273f7-a39e-446b-950c-e14106f05a7f",
   "metadata": {},
   "outputs": [],
   "source": [
    "net = NeuralNetwork(\n",
    "    [\n",
    "        LinearLayer((8, 16)),\n",
    "        ActivationFunction(),\n",
    "        LinearLayer((16, 16)),\n",
    "        ActivationFunction(),\n",
    "        LinearLayer((16, 2)),\n",
    "    ]\n",
    ")\n",
    "loss_fn = LossFunction()"
   ]
  },
  {
   "cell_type": "markdown",
   "id": "46ecd03f-739f-4e24-86b3-3743e8746493",
   "metadata": {},
   "source": [
    "We force the same initial weights for both networks"
   ]
  },
  {
   "cell_type": "code",
   "execution_count": 6,
   "id": "97699fdb-5434-49a9-aa3b-55bb052bc066",
   "metadata": {},
   "outputs": [],
   "source": [
    "for (layer, tlayer) in zip(net.net, tnet):\n",
    "    if isinstance(layer, LinearLayer):\n",
    "        layer._params.weights[:] = tlayer.weight.detach().numpy()\n",
    "        layer._params.bias[:] = tlayer.bias.detach().numpy()"
   ]
  },
  {
   "cell_type": "code",
   "execution_count": 7,
   "id": "4c38b5a6-04ce-4aba-b8a8-9ddc0fac408c",
   "metadata": {},
   "outputs": [],
   "source": [
    "data = tdata.detach().numpy()\n",
    "label = tlabel.numpy()\n",
    "pred = net.foward(data)\n",
    "loss = loss_fn.foward(pred, label)"
   ]
  },
  {
   "cell_type": "code",
   "execution_count": 8,
   "id": "c2e14863-2099-4fb1-8b1a-141acb89ab43",
   "metadata": {},
   "outputs": [],
   "source": [
    "grad = net.backward(loss_fn.backward())"
   ]
  },
  {
   "cell_type": "markdown",
   "id": "a18e5548-55c4-47d6-992e-571be276f147",
   "metadata": {},
   "source": [
    "## Comparison"
   ]
  },
  {
   "cell_type": "code",
   "execution_count": 9,
   "id": "dc3f36a3-418b-4d39-ace5-2291f7bc99fc",
   "metadata": {},
   "outputs": [
    {
     "data": {
      "text/plain": [
       "(True, 2.5736320173170234e-09)"
      ]
     },
     "execution_count": 9,
     "metadata": {},
     "output_type": "execute_result"
    }
   ],
   "source": [
    "# check for correct gradient computation by comparing with pytorch\n",
    "np.allclose(grad, tgrad.numpy()), np.linalg.norm(grad - tgrad.numpy())"
   ]
  }
 ],
 "metadata": {
  "kernelspec": {
   "display_name": "Python 3 (ipykernel)",
   "language": "python",
   "name": "python3"
  },
  "language_info": {
   "codemirror_mode": {
    "name": "ipython",
    "version": 3
   },
   "file_extension": ".py",
   "mimetype": "text/x-python",
   "name": "python",
   "nbconvert_exporter": "python",
   "pygments_lexer": "ipython3",
   "version": "3.10.8"
  }
 },
 "nbformat": 4,
 "nbformat_minor": 5
}
