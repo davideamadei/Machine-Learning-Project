{
 "cells": [
  {
   "cell_type": "code",
   "execution_count": 1,
   "id": "f03cf90b-cfb5-47e2-9ead-5c8c1d8922d2",
   "metadata": {},
   "outputs": [],
   "source": [
    "import numpy as np\n",
    "import torch\n",
    "\n",
    "from ddnn.nn import NeuralNetwork, LinearLayer, ActivationFunction, LossFunction"
   ]
  },
  {
   "cell_type": "markdown",
   "id": "3cae8090-2d77-47b8-b7a5-d3394245baa1",
   "metadata": {},
   "source": [
    "## Pytorch"
   ]
  },
  {
   "cell_type": "code",
   "execution_count": 2,
   "id": "8012ad8f-0cd6-4dbe-bca7-6fc01101cca6",
   "metadata": {},
   "outputs": [],
   "source": [
    "tnet = torch.nn.Sequential(\n",
    "    torch.nn.Linear(8, 16),\n",
    "    torch.nn.ReLU(),\n",
    "    torch.nn.Linear(16, 16),\n",
    "    torch.nn.ReLU(),\n",
    "    torch.nn.Linear(16, 2),\n",
    ")\n",
    "tloss_fn = torch.nn.MSELoss()"
   ]
  },
  {
   "cell_type": "code",
   "execution_count": 3,
   "id": "24f8218d-29a2-4195-9eff-b5fa0b4cd89c",
   "metadata": {},
   "outputs": [
    {
     "data": {
      "text/plain": [
       "tensor(0.5451, grad_fn=<MseLossBackward0>)"
      ]
     },
     "execution_count": 3,
     "metadata": {},
     "output_type": "execute_result"
    }
   ],
   "source": [
    "tdata = torch.rand(10, 8, requires_grad=True)\n",
    "tlabel = torch.rand(10, 2)\n",
    "tpred = tnet(tdata)\n",
    "tloss = tloss_fn(tpred, tlabel)\n",
    "tloss"
   ]
  },
  {
   "cell_type": "code",
   "execution_count": 4,
   "id": "8991c7be-fc31-4973-a417-7e3ba466c712",
   "metadata": {},
   "outputs": [],
   "source": [
    "tloss.backward()\n",
    "tgrad = tdata.grad"
   ]
  },
  {
   "cell_type": "markdown",
   "id": "2aa99e39-0025-4593-8581-55109ab9351e",
   "metadata": {},
   "source": [
    "## Our Implementation"
   ]
  },
  {
   "cell_type": "code",
   "execution_count": 5,
   "id": "24a273f7-a39e-446b-950c-e14106f05a7f",
   "metadata": {},
   "outputs": [],
   "source": [
    "net = NeuralNetwork(\n",
    "    [\n",
    "        LinearLayer((8, 16)),\n",
    "        ActivationFunction(),\n",
    "        LinearLayer((16, 16)),\n",
    "        ActivationFunction(),\n",
    "        LinearLayer((16, 2)),\n",
    "    ]\n",
    ")\n",
    "loss_fn = LossFunction()"
   ]
  },
  {
   "cell_type": "markdown",
   "id": "46ecd03f-739f-4e24-86b3-3743e8746493",
   "metadata": {},
   "source": [
    "We force the same initial weights for both networks"
   ]
  },
  {
   "cell_type": "code",
   "execution_count": 6,
   "id": "97699fdb-5434-49a9-aa3b-55bb052bc066",
   "metadata": {},
   "outputs": [],
   "source": [
    "for layer, tlayer in zip(net[:], tnet):\n",
    "    if isinstance(layer, LinearLayer):\n",
    "        layer.params.weights[:] = tlayer.weight.detach().numpy()\n",
    "        layer.params.bias[:] = tlayer.bias.detach().numpy()"
   ]
  },
  {
   "cell_type": "code",
   "execution_count": 7,
   "id": "4c38b5a6-04ce-4aba-b8a8-9ddc0fac408c",
   "metadata": {},
   "outputs": [
    {
     "data": {
      "text/plain": [
       "1.090184360879591"
      ]
     },
     "execution_count": 7,
     "metadata": {},
     "output_type": "execute_result"
    }
   ],
   "source": [
    "data = tdata.detach().numpy()\n",
    "label = tlabel.numpy()\n",
    "pred = net.foward(data)\n",
    "loss = loss_fn.foward(pred, label)\n",
    "loss"
   ]
  },
  {
   "cell_type": "code",
   "execution_count": 8,
   "id": "c2e14863-2099-4fb1-8b1a-141acb89ab43",
   "metadata": {},
   "outputs": [],
   "source": [
    "grad = net.backward(loss_fn.backward())"
   ]
  },
  {
   "cell_type": "markdown",
   "id": "a18e5548-55c4-47d6-992e-571be276f147",
   "metadata": {},
   "source": [
    "## Comparison"
   ]
  },
  {
   "cell_type": "code",
   "execution_count": 9,
   "id": "dc3f36a3-418b-4d39-ace5-2291f7bc99fc",
   "metadata": {},
   "outputs": [
    {
     "data": {
      "text/plain": [
       "(True, 3.0641544645357924e-09)"
      ]
     },
     "execution_count": 9,
     "metadata": {},
     "output_type": "execute_result"
    }
   ],
   "source": [
    "# check for correct gradient computation by comparing with pytorch\n",
    "np.allclose(grad, tgrad.numpy()), np.linalg.norm(grad - tgrad.numpy())"
   ]
  },
  {
   "cell_type": "code",
   "execution_count": 10,
   "id": "34ae211c",
   "metadata": {},
   "outputs": [
    {
     "data": {
      "text/plain": [
       "(True, 2.787329340050096e-08)"
      ]
     },
     "execution_count": 10,
     "metadata": {},
     "output_type": "execute_result"
    }
   ],
   "source": [
    "# check for correct prediction computation by comparing with pytorch\n",
    "np.allclose(pred, tpred.detach().numpy()), np.linalg.norm(pred - tpred.detach().numpy())"
   ]
  },
  {
   "cell_type": "code",
   "execution_count": 11,
   "id": "ce9f209f",
   "metadata": {},
   "outputs": [],
   "source": [
    "for i, (layer, tlayer) in enumerate(zip(net[::-1], tnet[::-1])):\n",
    "    if isinstance(layer, LinearLayer):\n",
    "        assert np.allclose(layer.grads.weights, tlayer.weight.grad.detach().numpy()), i\n",
    "        assert np.allclose(layer.grads.bias, tlayer.bias.grad.detach().numpy()), i"
   ]
  }
 ],
 "metadata": {
  "kernelspec": {
   "display_name": "ML",
   "language": "python",
   "name": "python3"
  },
  "language_info": {
   "codemirror_mode": {
    "name": "ipython",
    "version": 3
   },
   "file_extension": ".py",
   "mimetype": "text/x-python",
   "name": "python",
   "nbconvert_exporter": "python",
   "pygments_lexer": "ipython3",
   "version": "3.10.8"
  },
  "vscode": {
   "interpreter": {
    "hash": "29308c18330174df5d08dc27cbd59630723a13c381a5b5f57befcdc7a6962bd9"
   }
  }
 },
 "nbformat": 4,
 "nbformat_minor": 5
}
