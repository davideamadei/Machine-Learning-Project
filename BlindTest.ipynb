{
 "cells": [
  {
   "cell_type": "code",
   "execution_count": null,
   "metadata": {},
   "outputs": [],
   "source": [
    "from ddnn.nn import *\n",
    "from ddnn.validation import *\n",
    "from ddnn.data import *\n",
    "\n",
    "estimator = Estimator(\n",
    "    net=NeuralNetwork(\n",
    "        [\n",
    "            LinearLayer((9, 32)),\n",
    "            ActivationFunction(\"tanh\"),\n",
    "            LinearLayer((32, 32)),\n",
    "            ActivationFunction(\"tanh\"),\n",
    "            LinearLayer((32, 2)),\n",
    "        ]\n",
    "    ),\n",
    "    loss=LossFunction(\"MSE\"),\n",
    "    optimizer=Optimizer(\n",
    "        \"SGD\", learning_rate=6.6e-3, momentum_coefficient=0.9, l2_coefficient=6.6e-3\n",
    "    ),\n",
    "    # optimizer=Optimizer(\"Adam\", learning_rate=0.01, l2_coefficient=0.0033),\n",
    "    batchsize=-1,\n",
    "    initializer=Initializer(\"glorot_uniform\"),\n",
    "    seed=123,\n",
    ")\n",
    "early_stopping = 2.601568363778859\n",
    "epochs = 2500\n",
    "log_every = 1\n",
    "losses = [\"MSE\", \"MEE\"]"
   ]
  },
  {
   "cell_type": "code",
   "execution_count": null,
   "metadata": {},
   "outputs": [],
   "source": [
    "traindata = read_ML_cup(\"train\")\n",
    "blindtest = read_ML_cup(\"test\")"
   ]
  },
  {
   "cell_type": "code",
   "execution_count": null,
   "metadata": {},
   "outputs": [],
   "source": [
    "traindata.shape, blindtest.shape"
   ]
  },
  {
   "cell_type": "code",
   "execution_count": null,
   "metadata": {},
   "outputs": [],
   "source": [
    "teststopper = TrainingThresholdStopping(estimator, early_stopping)"
   ]
  },
  {
   "cell_type": "code",
   "execution_count": null,
   "metadata": {},
   "outputs": [],
   "source": [
    "estimator.train(traindata, callback=teststopper, n_epochs=epochs)"
   ]
  },
  {
   "cell_type": "code",
   "execution_count": null,
   "metadata": {},
   "outputs": [],
   "source": [
    "estimator.evaluate(losses=[\"MSE\", \"MEE\"], dataset=traindata)"
   ]
  },
  {
   "cell_type": "code",
   "execution_count": null,
   "metadata": {},
   "outputs": [],
   "source": [
    "res = estimator.predict(blindtest)"
   ]
  },
  {
   "cell_type": "code",
   "execution_count": null,
   "metadata": {},
   "outputs": [],
   "source": [
    "import matplotlib.pyplot as plt\n",
    "import numpy as np\n",
    "import pandas as pd"
   ]
  },
  {
   "cell_type": "code",
   "execution_count": null,
   "metadata": {},
   "outputs": [],
   "source": [
    "fig, ax = plt.subplots()\n",
    "\n",
    "pred = estimator.predict(blindtest)\n",
    "\n",
    "ax.set_xlim(0, 30)\n",
    "ax.set_ylim(-35, -13)\n",
    "ax.set_xlabel(\"x\")\n",
    "ax.set_ylabel(\"y\")\n",
    "\n",
    "ax.scatter(pred[:, 0], pred[:, 1], color=(0.7, 0.7, 0.7), s=6, marker=\".\");"
   ]
  },
  {
   "cell_type": "code",
   "execution_count": null,
   "metadata": {},
   "outputs": [],
   "source": [
    "fig, ax = plt.subplots()\n",
    "\n",
    "label = traindata.labels\n",
    "pred = estimator.predict(blindtest)\n",
    "\n",
    "ax.set_xlim(0, 30)\n",
    "ax.set_ylim(-35, -13)\n",
    "ax.set_xlabel(\"x\")\n",
    "ax.set_ylabel(\"y\")\n",
    "\n",
    "ax.scatter(label[:, 0], label[:, 1], color=\"black\", s=6, marker=\".\")\n",
    "ax.scatter(pred[:, 0], pred[:, 1], color=(0.7, 0.7, 0.7), s=6, marker=\".\");"
   ]
  },
  {
   "cell_type": "code",
   "execution_count": null,
   "metadata": {},
   "outputs": [],
   "source": [
    "blind_output = pd.DataFrame(pred)\n",
    "blind_output.index += 1\n",
    "blind_output.head()"
   ]
  },
  {
   "cell_type": "code",
   "execution_count": null,
   "metadata": {},
   "outputs": [],
   "source": [
    "blind_output.to_csv(\"blind_output.csv\", header=None)"
   ]
  },
  {
   "cell_type": "code",
   "execution_count": null,
   "metadata": {},
   "outputs": [],
   "source": []
  }
 ],
 "metadata": {
  "kernelspec": {
   "display_name": "ML",
   "language": "python",
   "name": "python3"
  },
  "language_info": {
   "codemirror_mode": {
    "name": "ipython",
    "version": 3
   },
   "file_extension": ".py",
   "mimetype": "text/x-python",
   "name": "python",
   "nbconvert_exporter": "python",
   "pygments_lexer": "ipython3",
   "version": "3.10.8"
  },
  "orig_nbformat": 4,
  "vscode": {
   "interpreter": {
    "hash": "5bd504499a3d325a7c1da9f8228712639636db49ae66a9009fa19a793144457f"
   }
  }
 },
 "nbformat": 4,
 "nbformat_minor": 2
}
