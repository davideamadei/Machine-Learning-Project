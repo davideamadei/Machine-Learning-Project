{
 "cells": [
  {
   "cell_type": "code",
   "execution_count": 2,
   "metadata": {},
   "outputs": [],
   "source": [
    "from ddnn.nn import *\n",
    "from ddnn.validation import *\n",
    "from ddnn.data import *\n",
    "\n",
    "estimator = Estimator(\n",
    "    net=NeuralNetwork(\n",
    "        [\n",
    "            LinearLayer((9, 32)),\n",
    "            ActivationFunction(\"tanh\"),\n",
    "            LinearLayer((32, 32)),\n",
    "            ActivationFunction(\"tanh\"),\n",
    "            LinearLayer((32, 2)),\n",
    "        ]\n",
    "    ),\n",
    "    loss=LossFunction(\"MSE\"),\n",
    "    # optimizer=Optimizer(\"SGD\", learning_rate=0.5, momentum_coefficient=0.5, l2_coefficient=0),\n",
    "    optimizer=Optimizer(\"Adam\", learning_rate=0.01, l2_coefficient=0.0033),\n",
    "    batchsize=-1,\n",
    "    initializer=Initializer(\"glorot_uniform\"),\n",
    "    seed=123,\n",
    ")\n",
    "early_stopping = 2.557191205025858\n",
    "epochs = 1500\n",
    "log_every = 1\n",
    "losses = [\"MSE\", \"MEE\"]"
   ]
  },
  {
   "cell_type": "code",
   "execution_count": 3,
   "metadata": {},
   "outputs": [],
   "source": [
    "traindata = read_ML_cup(\"train\")\n",
    "blindtest = read_ML_cup(\"test\")"
   ]
  },
  {
   "cell_type": "code",
   "execution_count": 4,
   "metadata": {},
   "outputs": [
    {
     "data": {
      "text/plain": [
       "((1492, (9, 2)), (529, (9, 0)))"
      ]
     },
     "execution_count": 4,
     "metadata": {},
     "output_type": "execute_result"
    }
   ],
   "source": [
    "traindata.shape, blindtest.shape"
   ]
  },
  {
   "cell_type": "code",
   "execution_count": 5,
   "metadata": {},
   "outputs": [],
   "source": [
    "teststopper = TrainingThresholdStopping(estimator, early_stopping)"
   ]
  },
  {
   "cell_type": "code",
   "execution_count": 6,
   "metadata": {},
   "outputs": [],
   "source": [
    "estimator.train(traindata, callback=teststopper, n_epochs=epochs)"
   ]
  },
  {
   "cell_type": "code",
   "execution_count": 7,
   "metadata": {},
   "outputs": [],
   "source": [
    "res = estimator.predict(blindtest)"
   ]
  },
  {
   "cell_type": "code",
   "execution_count": 8,
   "metadata": {},
   "outputs": [],
   "source": [
    "import matplotlib.pyplot as plt\n",
    "import numpy as np\n",
    "import pandas as pd"
   ]
  },
  {
   "cell_type": "code",
   "execution_count": 9,
   "metadata": {},
   "outputs": [
    {
     "data": {
      "image/png": "[encoded data removed]",
      "text/plain": [
       "<Figure size 640x480 with 1 Axes>"
      ]
     },
     "metadata": {},
     "output_type": "display_data"
    }
   ],
   "source": [
    "fig, ax = plt.subplots()\n",
    "\n",
    "pred = estimator.predict(blindtest)\n",
    "\n",
    "ax.set_xlim(0, 30)\n",
    "ax.set_ylim(-35, -13)\n",
    "ax.set_xlabel(\"x\")\n",
    "ax.set_ylabel(\"y\")\n",
    "\n",
    "ax.scatter(pred[:, 0], pred[:, 1], color=\"black\", s=6, marker=\".\");"
   ]
  },
  {
   "cell_type": "code",
   "execution_count": 26,
   "metadata": {},
   "outputs": [
    {
     "data": {
      "text/html": [
       "<div>\n",
       "<style scoped>\n",
       "    .dataframe tbody tr th:only-of-type {\n",
       "        vertical-align: middle;\n",
       "    }\n",
       "\n",
       "    .dataframe tbody tr th {\n",
       "        vertical-align: top;\n",
       "    }\n",
       "\n",
       "    .dataframe thead th {\n",
       "        text-align: right;\n",
       "    }\n",
       "</style>\n",
       "<table border=\"1\" class=\"dataframe\">\n",
       "  <thead>\n",
       "    <tr style=\"text-align: right;\">\n",
       "      <th></th>\n",
       "      <th>0</th>\n",
       "      <th>1</th>\n",
       "    </tr>\n",
       "  </thead>\n",
       "  <tbody>\n",
       "    <tr>\n",
       "      <th>1</th>\n",
       "      <td>21.986943</td>\n",
       "      <td>-27.184046</td>\n",
       "    </tr>\n",
       "    <tr>\n",
       "      <th>2</th>\n",
       "      <td>6.720713</td>\n",
       "      <td>-27.669371</td>\n",
       "    </tr>\n",
       "    <tr>\n",
       "      <th>3</th>\n",
       "      <td>12.650306</td>\n",
       "      <td>-30.729785</td>\n",
       "    </tr>\n",
       "    <tr>\n",
       "      <th>4</th>\n",
       "      <td>19.895476</td>\n",
       "      <td>-28.208815</td>\n",
       "    </tr>\n",
       "    <tr>\n",
       "      <th>5</th>\n",
       "      <td>4.113491</td>\n",
       "      <td>-23.028284</td>\n",
       "    </tr>\n",
       "  </tbody>\n",
       "</table>\n",
       "</div>"
      ],
      "text/plain": [
       "           0          1\n",
       "1  21.986943 -27.184046\n",
       "2   6.720713 -27.669371\n",
       "3  12.650306 -30.729785\n",
       "4  19.895476 -28.208815\n",
       "5   4.113491 -23.028284"
      ]
     },
     "execution_count": 26,
     "metadata": {},
     "output_type": "execute_result"
    }
   ],
   "source": [
    "blind_output = pd.DataFrame(pred)\n",
    "blind_output.index += 1\n",
    "blind_output.head()"
   ]
  },
  {
   "cell_type": "code",
   "execution_count": 27,
   "metadata": {},
   "outputs": [],
   "source": [
    "blind_output.to_csv(\"blind_output.csv\", header=None)"
   ]
  },
  {
   "cell_type": "code",
   "execution_count": null,
   "metadata": {},
   "outputs": [],
   "source": []
  }
 ],
 "metadata": {
  "kernelspec": {
   "display_name": "ML",
   "language": "python",
   "name": "python3"
  },
  "language_info": {
   "codemirror_mode": {
    "name": "ipython",
    "version": 3
   },
   "file_extension": ".py",
   "mimetype": "text/x-python",
   "name": "python",
   "nbconvert_exporter": "python",
   "pygments_lexer": "ipython3",
   "version": "3.10.8"
  },
  "orig_nbformat": 4,
  "vscode": {
   "interpreter": {
    "hash": "5bd504499a3d325a7c1da9f8228712639636db49ae66a9009fa19a793144457f"
   }
  }
 },
 "nbformat": 4,
 "nbformat_minor": 2
}
