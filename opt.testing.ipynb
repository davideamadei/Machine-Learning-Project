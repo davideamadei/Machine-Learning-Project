{
 "cells": [
  {
   "cell_type": "code",
   "execution_count": 1,
   "metadata": {},
   "outputs": [],
   "source": [
    "import numpy as np"
   ]
  },
  {
   "cell_type": "code",
   "execution_count": 2,
   "metadata": {},
   "outputs": [],
   "source": [
    "from numba import njit, jit\n",
    "from numba import double\n",
    "from typing import Tuple"
   ]
  },
  {
   "cell_type": "code",
   "execution_count": 3,
   "metadata": {},
   "outputs": [],
   "source": [
    "@njit\n",
    "def opt_foward(inputs: np.ndarray, w: np.ndarray, b: np.ndarray) -> Tuple[np.ndarray, np.ndarray]:\n",
    "    output = inputs @ w.T + b.T\n",
    "    return output, inputs"
   ]
  },
  {
   "cell_type": "code",
   "execution_count": 4,
   "metadata": {},
   "outputs": [],
   "source": [
    "def foward(inputs: np.ndarray, w: np.ndarray, b: np.ndarray) -> Tuple[np.ndarray, np.ndarray]:\n",
    "    output = inputs @ w.T + b.T\n",
    "    return output, inputs"
   ]
  },
  {
   "cell_type": "code",
   "execution_count": 5,
   "metadata": {},
   "outputs": [],
   "source": [
    "def backward(ograds: np.ndarray, s: np.ndarray, w: np.ndarray) -> Tuple[np.ndarray, np.ndarray, np.ndarray]:\n",
    "    bgrads = ograds.sum(axis=0)\n",
    "    wgrads = ograds.T @ s\n",
    "    igrads = ograds @ w\n",
    "    return igrads, wgrads, bgrads"
   ]
  },
  {
   "cell_type": "code",
   "execution_count": 6,
   "metadata": {},
   "outputs": [],
   "source": [
    "@njit\n",
    "def opt_backward(ograds: np.ndarray, s: np.ndarray, w: np.ndarray) -> Tuple[np.ndarray, np.ndarray, np.ndarray]:\n",
    "    bgrads = ograds.sum(axis=0)\n",
    "    wgrads = ograds.T @ s\n",
    "    igrads = ograds @ w\n",
    "    return igrads, wgrads, bgrads"
   ]
  },
  {
   "cell_type": "code",
   "execution_count": 7,
   "metadata": {},
   "outputs": [],
   "source": [
    "i = np.random.rand(1000, 128)\n",
    "w = np.random.rand(128, 128)\n",
    "b = np.random.rand(128)"
   ]
  },
  {
   "cell_type": "code",
   "execution_count": 8,
   "metadata": {},
   "outputs": [],
   "source": [
    "o, s = np.zeros((i.shape[0], w.shape[0])), np.zeros_like(i)\n",
    "# compile code once\n",
    "opt_foward(i, w, b);"
   ]
  },
  {
   "cell_type": "code",
   "execution_count": 9,
   "metadata": {},
   "outputs": [
    {
     "name": "stdout",
     "output_type": "stream",
     "text": [
      "1.08 ms ± 452 µs per loop (mean ± std. dev. of 7 runs, 1,000 loops each)\n"
     ]
    }
   ],
   "source": [
    "%%timeit\n",
    "o[:], s[:] = foward(i, w, b)"
   ]
  },
  {
   "cell_type": "code",
   "execution_count": 10,
   "metadata": {},
   "outputs": [
    {
     "name": "stdout",
     "output_type": "stream",
     "text": [
      "786 µs ± 123 µs per loop (mean ± std. dev. of 7 runs, 1,000 loops each)\n"
     ]
    }
   ],
   "source": [
    "%%timeit\n",
    "o[:], s[:] = opt_foward(i, w, b)"
   ]
  },
  {
   "cell_type": "code",
   "execution_count": 11,
   "metadata": {},
   "outputs": [],
   "source": [
    "o, s = opt_foward(i, w, b)\n",
    "og = np.random.rand(*o.shape)"
   ]
  },
  {
   "cell_type": "code",
   "execution_count": 12,
   "metadata": {},
   "outputs": [],
   "source": [
    "ig, wg, bg = np.zeros_like(i), np.zeros_like(w), np.zeros_like(b)\n",
    "# compile code once\n",
    "opt_backward(og, s, w);"
   ]
  },
  {
   "cell_type": "code",
   "execution_count": 13,
   "metadata": {},
   "outputs": [
    {
     "name": "stdout",
     "output_type": "stream",
     "text": [
      "2.23 ms ± 500 µs per loop (mean ± std. dev. of 7 runs, 1,000 loops each)\n"
     ]
    }
   ],
   "source": [
    "%%timeit\n",
    "ig[:], wg[:], bg[:] = backward(og, s, w)"
   ]
  },
  {
   "cell_type": "code",
   "execution_count": 14,
   "metadata": {},
   "outputs": [
    {
     "name": "stdout",
     "output_type": "stream",
     "text": [
      "1.73 ms ± 279 µs per loop (mean ± std. dev. of 7 runs, 1,000 loops each)\n"
     ]
    }
   ],
   "source": [
    "%%timeit\n",
    "ig[:], wg[:], bg[:] = opt_backward(og, s, w)"
   ]
  },
  {
   "cell_type": "code",
   "execution_count": 15,
   "metadata": {},
   "outputs": [],
   "source": [
    "def tanh_func(x):\n",
    "    return np.tanh(x)\n",
    "\n",
    "def tanh_grad(x):\n",
    "    y = np.tanh(x)\n",
    "    return 1 - (y * y)"
   ]
  },
  {
   "cell_type": "code",
   "execution_count": 16,
   "metadata": {},
   "outputs": [],
   "source": [
    "a = np.random.rand(128, 128)"
   ]
  },
  {
   "cell_type": "code",
   "execution_count": 17,
   "metadata": {},
   "outputs": [
    {
     "name": "stdout",
     "output_type": "stream",
     "text": [
      "129 µs ± 1.97 µs per loop (mean ± std. dev. of 7 runs, 10,000 loops each)\n"
     ]
    }
   ],
   "source": [
    "%%timeit\n",
    "tanh_func(a)"
   ]
  },
  {
   "cell_type": "code",
   "execution_count": 18,
   "metadata": {},
   "outputs": [
    {
     "name": "stdout",
     "output_type": "stream",
     "text": [
      "142 µs ± 1.45 µs per loop (mean ± std. dev. of 7 runs, 10,000 loops each)\n"
     ]
    }
   ],
   "source": [
    "%%timeit\n",
    "tanh_grad(a)"
   ]
  },
  {
   "cell_type": "code",
   "execution_count": 19,
   "metadata": {},
   "outputs": [],
   "source": [
    "@njit\n",
    "def opt_tanh_func(x : np.ndarray) -> np.ndarray:\n",
    "    return np.tanh(x)\n",
    "\n",
    "@njit\n",
    "def opt_tanh_grad(x : np.ndarray) -> np.ndarray:\n",
    "    y = np.tanh(x)\n",
    "    return 1 - (y * y)\n",
    "# compile once\n",
    "opt_tanh_func(np.ones(1));\n",
    "opt_tanh_grad(np.ones(1));"
   ]
  },
  {
   "cell_type": "code",
   "execution_count": 20,
   "metadata": {},
   "outputs": [
    {
     "name": "stdout",
     "output_type": "stream",
     "text": [
      "131 µs ± 2.47 µs per loop (mean ± std. dev. of 7 runs, 10,000 loops each)\n"
     ]
    }
   ],
   "source": [
    "%%timeit\n",
    "tanh_func(a)"
   ]
  },
  {
   "cell_type": "code",
   "execution_count": 21,
   "metadata": {},
   "outputs": [
    {
     "name": "stdout",
     "output_type": "stream",
     "text": [
      "145 µs ± 3.56 µs per loop (mean ± std. dev. of 7 runs, 10,000 loops each)\n"
     ]
    }
   ],
   "source": [
    "%%timeit\n",
    "tanh_grad(a)"
   ]
  },
  {
   "cell_type": "code",
   "execution_count": 22,
   "metadata": {},
   "outputs": [],
   "source": [
    "from ddnn.utils import Parameter\n",
    "\n",
    "_t = 1\n",
    "_l2 = 0.1\n",
    "_eta = 0.1\n",
    "_eps = 1e-8\n",
    "_beta1 = 0.9\n",
    "_beta2 = 0.999\n",
    "\n",
    "def call_t(\n",
    "    params: Parameter, grads: Parameter, state: Parameter\n",
    ") -> Tuple[Parameter, Tuple[Parameter, Parameter]]:\n",
    "    if _t == 0:\n",
    "        raise ValueError()\n",
    "    if state == None:\n",
    "        old_m = Parameter(\n",
    "            np.zeros_like(grads.weights), np.zeros_like(grads.bias)\n",
    "        )\n",
    "        old_v = Parameter(\n",
    "            np.zeros_like(grads.weights), np.zeros_like(grads.bias)\n",
    "        )\n",
    "    else:\n",
    "        old_m = state[0]\n",
    "        old_v = state[1]\n",
    "\n",
    "    temp = grads.weights\n",
    "    if _l2 != 0:\n",
    "        # += here would modify grads.weights\n",
    "        temp = temp + _l2 * params.weights\n",
    "\n",
    "    m_w = _beta1 * old_m.weights + (1 - _beta1) * temp\n",
    "    m_b = _beta1 * old_m.bias + (1 - _beta1) * grads.bias\n",
    "\n",
    "    v_w = (\n",
    "        _beta2 * old_v.weights\n",
    "        + (1 - _beta2) * temp * temp\n",
    "    )\n",
    "    v_b = (\n",
    "        _beta2 * old_v.bias\n",
    "        + (1 - _beta2) * grads.bias * grads.bias\n",
    "    )\n",
    "\n",
    "    old_m = Parameter(m_w, m_b)\n",
    "    old_v = Parameter(v_w, v_b)\n",
    "\n",
    "    adj = (1 - _beta2**_t) ** 0.5 / (\n",
    "        1 - _beta1**_t\n",
    "    )\n",
    "    delta_w = (-_eta * adj) * m_w / (np.sqrt(v_w) + _eps)\n",
    "    delta_b = (-_eta * adj) * m_b / (np.sqrt(v_b) + _eps)\n",
    "\n",
    "    delta = Parameter(delta_w, delta_b)\n",
    "\n",
    "    return (delta, (old_m, old_v))"
   ]
  },
  {
   "cell_type": "code",
   "execution_count": 23,
   "metadata": {},
   "outputs": [],
   "source": [
    "from numba.experimental import jitclass\n",
    "from numba import double\n",
    "@jitclass\n",
    "class Parameter:\n",
    "    weights: double[:,:]\n",
    "    bias: double[:]\n",
    "\n",
    "    def __init__(self, w, b):\n",
    "        weights = w\n",
    "        bias = b\n",
    "\n",
    "    def __iadd__(self, other):\n",
    "        self.weights += other.weights\n",
    "        self.bias += other.bias\n",
    "        return self\n",
    "\n",
    "    @property\n",
    "    def shape(self):\n",
    "        return self.weights.shape\n",
    "\n",
    "\n",
    "@jit\n",
    "def opt_call_t(\n",
    "    params: Parameter, grads: Parameter, state: Parameter\n",
    ") -> Tuple[Parameter, Tuple[Parameter, Parameter]]:\n",
    "    if _t == 0:\n",
    "        raise ValueError()\n",
    "    if state == None:\n",
    "        old_m = Parameter(\n",
    "            np.zeros_like(grads.weights), np.zeros_like(grads.bias)\n",
    "        )\n",
    "        old_v = Parameter(\n",
    "            np.zeros_like(grads.weights), np.zeros_like(grads.bias)\n",
    "        )\n",
    "    else:\n",
    "        old_m = state[0]\n",
    "        old_v = state[1]\n",
    "\n",
    "    temp = grads.weights\n",
    "    if _l2 != 0:\n",
    "        # += here would modify grads.weights\n",
    "        temp = temp + _l2 * params.weights\n",
    "\n",
    "    m_w = _beta1 * old_m.weights + (1 - _beta1) * temp\n",
    "    m_b = _beta1 * old_m.bias + (1 - _beta1) * grads.bias\n",
    "\n",
    "    v_w = (\n",
    "        _beta2 * old_v.weights\n",
    "        + (1 - _beta2) * temp * temp\n",
    "    )\n",
    "    v_b = (\n",
    "        _beta2 * old_v.bias\n",
    "        + (1 - _beta2) * grads.bias * grads.bias\n",
    "    )\n",
    "\n",
    "    old_m = Parameter(m_w, m_b)\n",
    "    old_v = Parameter(v_w, v_b)\n",
    "\n",
    "    adj = (1 - _beta2**_t) ** 0.5 / (\n",
    "        1 - _beta1**_t\n",
    "    )\n",
    "    delta_w = (-_eta * adj) * m_w / (np.sqrt(v_w) + _eps)\n",
    "    delta_b = (-_eta * adj) * m_b / (np.sqrt(v_b) + _eps)\n",
    "\n",
    "    delta = Parameter(delta_w, delta_b)\n",
    "\n",
    "    return (delta, (old_m, old_v))"
   ]
  },
  {
   "cell_type": "code",
   "execution_count": 28,
   "metadata": {},
   "outputs": [],
   "source": [
    "params = Parameter(np.random.rand(128, 128), np.random.random(128))\n",
    "grads = Parameter(np.random.rand(128, 128), np.random.random(128))\n",
    "state = (\n",
    "    Parameter(np.random.rand(128, 128), np.random.random(128)),\n",
    "    Parameter(np.random.rand(128, 128), np.random.random(128))\n",
    ")\n",
    "# compile once\n",
    "opt_call_t(params, grads, state);"
   ]
  },
  {
   "cell_type": "code",
   "execution_count": 29,
   "metadata": {},
   "outputs": [
    {
     "name": "stdout",
     "output_type": "stream",
     "text": [
      "50.1 µs ± 3.26 µs per loop (mean ± std. dev. of 7 runs, 10,000 loops each)\n"
     ]
    }
   ],
   "source": [
    "%%timeit\n",
    "delta, nstate = call_t(params, grads, state)"
   ]
  },
  {
   "cell_type": "code",
   "execution_count": 31,
   "metadata": {},
   "outputs": [
    {
     "name": "stdout",
     "output_type": "stream",
     "text": [
      "15.1 µs ± 678 ns per loop (mean ± std. dev. of 7 runs, 100,000 loops each)\n"
     ]
    }
   ],
   "source": [
    "%%timeit\n",
    "delta, nstate = opt_call_t(params, grads, state)"
   ]
  },
  {
   "cell_type": "code",
   "execution_count": null,
   "metadata": {},
   "outputs": [],
   "source": []
  }
 ],
 "metadata": {
  "kernelspec": {
   "display_name": "ML",
   "language": "python",
   "name": "python3"
  },
  "language_info": {
   "codemirror_mode": {
    "name": "ipython",
    "version": 3
   },
   "file_extension": ".py",
   "mimetype": "text/x-python",
   "name": "python",
   "nbconvert_exporter": "python",
   "pygments_lexer": "ipython3",
   "version": "3.10.8"
  },
  "orig_nbformat": 4,
  "vscode": {
   "interpreter": {
    "hash": "29308c18330174df5d08dc27cbd59630723a13c381a5b5f57befcdc7a6962bd9"
   }
  }
 },
 "nbformat": 4,
 "nbformat_minor": 2
}
